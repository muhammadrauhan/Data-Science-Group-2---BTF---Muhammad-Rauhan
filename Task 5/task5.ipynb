{
 "cells": [
  {
   "cell_type": "markdown",
   "metadata": {},
   "source": [
    "# Task 5:\n",
    "\n",
    "## Conditional Statements"
   ]
  },
  {
   "cell_type": "code",
   "execution_count": 13,
   "metadata": {
    "scrolled": true
   },
   "outputs": [
    {
     "name": "stdout",
     "output_type": "stream",
     "text": [
      "Enter the number: 34\n",
      "Composite No.\n"
     ]
    }
   ],
   "source": [
    "n = int(input(\"Enter the number: \"))\n",
    "\n",
    "\n",
    "if(n==0 or n==1):\n",
    "    print(\"Neither Prime nor Composite No.\")\n",
    "\n",
    "elif(n<0):\n",
    "    print(\"Input is Invalid, Enter a Whole No.\")\n",
    "\n",
    "else:\n",
    "    count = 0\n",
    "    for i in range(1, n+1):\n",
    "        if(n%i==0):\n",
    "            count = count+1\n",
    "        \n",
    "    if(count>2):\n",
    "        print(\"Composite No.\")\n",
    "        \n",
    "    else:\n",
    "        print(\"Prime No.\")\n"
   ]
  },
  {
   "cell_type": "markdown",
   "metadata": {},
   "source": [
    "## Loops\n",
    "\n",
    "### Defining patterns using loop"
   ]
  },
  {
   "cell_type": "code",
   "execution_count": 1,
   "metadata": {},
   "outputs": [
    {
     "name": "stdout",
     "output_type": "stream",
     "text": [
      "# \n",
      "# \n",
      "# \n",
      "# \n"
     ]
    }
   ],
   "source": [
    "print(\"# \")\n",
    "print(\"# \")\n",
    "print(\"# \")\n",
    "print(\"# \") # It prints each line statement in one"
   ]
  },
  {
   "cell_type": "code",
   "execution_count": 3,
   "metadata": {},
   "outputs": [
    {
     "name": "stdout",
     "output_type": "stream",
     "text": [
      "# # # # "
     ]
    }
   ],
   "source": [
    "print(\"# \", end = \"\")\n",
    "print(\"# \", end = \"\")\n",
    "print(\"# \", end = \"\")\n",
    "print(\"# \", end = \"\") # It prints all the statements in one line"
   ]
  },
  {
   "cell_type": "code",
   "execution_count": 4,
   "metadata": {},
   "outputs": [
    {
     "name": "stdout",
     "output_type": "stream",
     "text": [
      "# # # # "
     ]
    }
   ],
   "source": [
    "# Using for loop to print the above pattern\n",
    "for j in range(4):\n",
    "    print(\"# \", end = \"\")"
   ]
  },
  {
   "cell_type": "code",
   "execution_count": 5,
   "metadata": {},
   "outputs": [
    {
     "name": "stdout",
     "output_type": "stream",
     "text": [
      "# # # # \n",
      "# # # # \n",
      "# # # # \n",
      "# # # # \n"
     ]
    }
   ],
   "source": [
    "# Prints a desired pattern\n",
    "\n",
    "for i in range(4):\n",
    "    for j in range(4):\n",
    "        print(\"# \", end = \"\")\n",
    "    print()"
   ]
  },
  {
   "cell_type": "code",
   "execution_count": 7,
   "metadata": {},
   "outputs": [
    {
     "name": "stdout",
     "output_type": "stream",
     "text": [
      "# \n",
      "# # \n",
      "# # # \n",
      "# # # # \n"
     ]
    }
   ],
   "source": [
    "# This is another pattern, for example\n",
    "\n",
    "for i in range(4):\n",
    "    for j in range(i+1):\n",
    "        print(\"# \", end = \"\")\n",
    "    print()"
   ]
  },
  {
   "cell_type": "code",
   "execution_count": 8,
   "metadata": {},
   "outputs": [
    {
     "name": "stdout",
     "output_type": "stream",
     "text": [
      "# # # # \n",
      "# # # \n",
      "# # \n",
      "# \n"
     ]
    }
   ],
   "source": [
    "# Another example\n",
    "\n",
    "for i in range(4):\n",
    "    for j in range(4-i):\n",
    "        print(\"# \", end = \"\")\n",
    "    print()"
   ]
  },
  {
   "cell_type": "markdown",
   "metadata": {},
   "source": [
    "## Functions"
   ]
  },
  {
   "cell_type": "code",
   "execution_count": 9,
   "metadata": {},
   "outputs": [
    {
     "name": "stdout",
     "output_type": "stream",
     "text": [
      "Hello\n",
      "How do you do?\n"
     ]
    }
   ],
   "source": [
    "# function without the argument\n",
    "\n",
    "def greet():\n",
    "    \n",
    "    print(\"Hello\")\n",
    "    print(\"How do you do?\")\n",
    "    \n",
    "greet()"
   ]
  },
  {
   "cell_type": "code",
   "execution_count": 10,
   "metadata": {},
   "outputs": [
    {
     "name": "stdout",
     "output_type": "stream",
     "text": [
      "Hello Anderson\n",
      "How do you do?\n"
     ]
    }
   ],
   "source": [
    "# function with argument\n",
    "\n",
    "def greet(name):\n",
    "    \n",
    "    print(\"Hello\", name)\n",
    "    print(\"How do you do?\")\n",
    "    \n",
    "greet(\"Anderson\")"
   ]
  },
  {
   "cell_type": "code",
   "execution_count": 11,
   "metadata": {},
   "outputs": [
    {
     "name": "stdout",
     "output_type": "stream",
     "text": [
      "The sum is 12.5\n"
     ]
    }
   ],
   "source": [
    "# function with multiple arguments\n",
    "\n",
    "def add_numbers(n1, n2):\n",
    "    result = n1 + n2\n",
    "    print(\"The sum is\", result)\n",
    "    \n",
    "number1 = 7.5\n",
    "number2 = 5\n",
    "add_numbers(number1, number2)"
   ]
  },
  {
   "cell_type": "code",
   "execution_count": 13,
   "metadata": {},
   "outputs": [
    {
     "name": "stdout",
     "output_type": "stream",
     "text": [
      "The sum is 12.5\n"
     ]
    }
   ],
   "source": [
    "# function with return statement\n",
    "\n",
    "def add_numbers(n1, n2):\n",
    "    result = n1 + n2\n",
    "    return result\n",
    "    \n",
    "number1 = 7.5\n",
    "number2 = 5\n",
    "result = add_numbers(number1, number2)\n",
    "print(\"The sum is\", result)"
   ]
  },
  {
   "cell_type": "code",
   "execution_count": 15,
   "metadata": {},
   "outputs": [
    {
     "name": "stdout",
     "output_type": "stream",
     "text": [
      "Length is 5\n",
      "The total marks you got is 308\n"
     ]
    }
   ],
   "source": [
    "# check built-in function\n",
    "\n",
    "marks = [55, 64, 75, 80, 34]\n",
    "\n",
    "length = len(marks)\n",
    "print(\"Length is\", length)\n",
    "\n",
    "marks_sum = sum(marks)\n",
    "print(\"The total marks you got is\", marks_sum)"
   ]
  }
 ],
 "metadata": {
  "kernelspec": {
   "display_name": "Python 3",
   "language": "python",
   "name": "python3"
  },
  "language_info": {
   "codemirror_mode": {
    "name": "ipython",
    "version": 3
   },
   "file_extension": ".py",
   "mimetype": "text/x-python",
   "name": "python",
   "nbconvert_exporter": "python",
   "pygments_lexer": "ipython3",
   "version": "3.8.5"
  }
 },
 "nbformat": 4,
 "nbformat_minor": 4
}
