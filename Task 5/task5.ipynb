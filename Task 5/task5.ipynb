{
 "cells": [
  {
   "cell_type": "markdown",
   "metadata": {},
   "source": [
    "# Task 5:\n",
    "\n",
    "### Finding if a number is Prime or Not? "
   ]
  },
  {
   "cell_type": "code",
   "execution_count": 13,
   "metadata": {
    "scrolled": true
   },
   "outputs": [
    {
     "name": "stdout",
     "output_type": "stream",
     "text": [
      "Enter the number: 34\n",
      "Composite No.\n"
     ]
    }
   ],
   "source": [
    "n = int(input(\"Enter the number: \"))\n",
    "\n",
    "\n",
    "if(n==0 or n==1):\n",
    "    print(\"Neither Prime nor Composite No.\")\n",
    "\n",
    "elif(n<0):\n",
    "    print(\"Input is Invalid, Enter a Whole No.\")\n",
    "\n",
    "else:\n",
    "    count = 0\n",
    "    for i in range(1, n+1):\n",
    "        if(n%i==0):\n",
    "            count = count+1\n",
    "        \n",
    "    if(count>2):\n",
    "        print(\"Composite No.\")\n",
    "        \n",
    "    else:\n",
    "        print(\"Prime No.\")\n"
   ]
  }
 ],
 "metadata": {
  "kernelspec": {
   "display_name": "Python 3",
   "language": "python",
   "name": "python3"
  },
  "language_info": {
   "codemirror_mode": {
    "name": "ipython",
    "version": 3
   },
   "file_extension": ".py",
   "mimetype": "text/x-python",
   "name": "python",
   "nbconvert_exporter": "python",
   "pygments_lexer": "ipython3",
   "version": "3.8.5"
  }
 },
 "nbformat": 4,
 "nbformat_minor": 4
}
