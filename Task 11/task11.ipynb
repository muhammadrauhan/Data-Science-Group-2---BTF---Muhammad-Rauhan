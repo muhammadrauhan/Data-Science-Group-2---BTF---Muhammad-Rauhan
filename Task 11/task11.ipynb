{
 "cells": [
  {
   "cell_type": "markdown",
   "metadata": {},
   "source": [
    "# Task 11: NumPy Advanced Operations"
   ]
  },
  {
   "cell_type": "markdown",
   "metadata": {},
   "source": [
    "## Indexing and Slicing:"
   ]
  },
  {
   "cell_type": "code",
   "execution_count": 1,
   "metadata": {},
   "outputs": [],
   "source": [
    "# import NumPy library\n",
    "import numpy as np"
   ]
  },
  {
   "cell_type": "markdown",
   "metadata": {},
   "source": [
    "#### Extract a 3x3 sub-array from a 2D array of size 5x5."
   ]
  },
  {
   "cell_type": "code",
   "execution_count": 11,
   "metadata": {},
   "outputs": [
    {
     "name": "stdout",
     "output_type": "stream",
     "text": [
      "2D Array (5x5) with random no. b/w 10 and 50:\n",
      "[[21 39 39 10 48]\n",
      " [23 34 44 35 23]\n",
      " [34 44 18 33 18]\n",
      " [14 24 17 23 14]\n",
      " [43 35 43 43 41]]\n",
      "\n",
      "3x3 Sub-array is:\n",
      "[[34 44 35]\n",
      " [44 18 33]\n",
      " [24 17 23]]\n"
     ]
    }
   ],
   "source": [
    "array_2d = np.random.randint(10, 51, size=(5, 5))\n",
    "\n",
    "# print the 2D array\n",
    "print(\"2D Array (5x5) with random no. b/w 10 and 50:\")\n",
    "print(array_2d)\n",
    "\n",
    "# extracting 3x3 sub-array\n",
    "print(\"\\n3x3 Sub-array is:\")\n",
    "print(array_2d[1:4, 1:4])"
   ]
  },
  {
   "cell_type": "markdown",
   "metadata": {},
   "source": [
    "#### From a 3D array of shape (4, 3, 2), extract all elements in the first two rows and all columns of the second slice along the third axis."
   ]
  },
  {
   "cell_type": "code",
   "execution_count": 4,
   "metadata": {},
   "outputs": [
    {
     "name": "stdout",
     "output_type": "stream",
     "text": [
      "3D Array:\n",
      " [[[ 1  2]\n",
      "  [ 3  4]\n",
      "  [ 5  6]]\n",
      "\n",
      " [[ 7  8]\n",
      "  [ 9 10]\n",
      "  [11 12]]\n",
      "\n",
      " [[13 14]\n",
      "  [15 16]\n",
      "  [17 18]]\n",
      "\n",
      " [[19 20]\n",
      "  [21 22]\n",
      "  [23 24]]]\n",
      "\n",
      "Extracted Elements (first two rows, second slice):\n",
      " [[ 2  4  6]\n",
      " [ 8 10 12]]\n"
     ]
    }
   ],
   "source": [
    "array_3d = np.array([[[ 1,  2], [ 3,  4], [ 5,  6]],\n",
    "                     [[ 7,  8], [ 9, 10], [11, 12]],\n",
    "                     [[13, 14], [15, 16], [17, 18]],\n",
    "                     [[19, 20], [21, 22], [23, 24]]])\n",
    "\n",
    "# extract all elements in the first two rows and all columns of the second slice along the third axis\n",
    "ext_slice = array_3d[:2, :, 1]\n",
    "\n",
    "print(\"3D Array:\\n\", array_3d)\n",
    "print(\"\\nExtracted Elements (first two rows, second slice):\\n\", ext_slice)"
   ]
  },
  {
   "cell_type": "markdown",
   "metadata": {},
   "source": [
    "#### Given an array of integers, use fancy indexing to extract elements at positions [1, 3, 4, 7]."
   ]
  },
  {
   "cell_type": "code",
   "execution_count": 5,
   "metadata": {},
   "outputs": [
    {
     "name": "stdout",
     "output_type": "stream",
     "text": [
      "Array:  [ 10  20  30  40  50  60  70  80  90 100]\n",
      "Extracted Elements at positions [1, 3, 4, 7]: [20 40 50 80]\n"
     ]
    }
   ],
   "source": [
    "# define an array\n",
    "array = np.array([10, 20, 30, 40, 50, 60, 70, 80, 90, 100])\n",
    "\n",
    "# use fancy indexing to extract elements at positions [1, 3, 4, 7]\n",
    "indices = [1, 3, 4, 7]\n",
    "extracted_elements = array[indices]\n",
    "\n",
    "print(\"Array: \", array)\n",
    "print(\"Extracted Elements at positions [1, 3, 4, 7]:\", extracted_elements)"
   ]
  },
  {
   "cell_type": "markdown",
   "metadata": {},
   "source": [
    "#### Given a 2D array, use fancy indexing to select rows [0, 2, 3] and columns [1, 3]."
   ]
  },
  {
   "cell_type": "code",
   "execution_count": 12,
   "metadata": {},
   "outputs": [
    {
     "name": "stdout",
     "output_type": "stream",
     "text": [
      "2D Array:\n",
      " [[21 39 39 10 48]\n",
      " [23 34 44 35 23]\n",
      " [34 44 18 33 18]\n",
      " [14 24 17 23 14]\n",
      " [43 35 43 43 41]]\n",
      "\n",
      "Selected Elements (rows [0, 2, 3] and columns [1, 3]):\n",
      " [[39 10]\n",
      " [44 33]\n",
      " [24 23]]\n"
     ]
    }
   ],
   "source": [
    "# Use fancy indexing to select rows [0, 2, 3] and columns [1, 3]\n",
    "rows = [0, 2, 3]\n",
    "cols = [1, 3]\n",
    "\n",
    "# use numpy.ix_ to create a meshgrid for fancy indexing\n",
    "# considering 2D array that already been defined\n",
    "selected_elements = array_2d[np.ix_(rows, cols)]\n",
    "\n",
    "print(\"2D Array:\\n\", array_2d)\n",
    "print(\"\\nSelected Elements (rows [0, 2, 3] and columns [1, 3]):\\n\", selected_elements)"
   ]
  },
  {
   "cell_type": "markdown",
   "metadata": {},
   "source": [
    "**np.ix_ Function:** This function creates a meshgrid-like selection for the specified rows and columns. It returns a tuple of arrays that can be used to index the 2D array, effectively selecting a sub-array formed by the intersection of the specified rows and columns."
   ]
  },
  {
   "cell_type": "markdown",
   "metadata": {},
   "source": [
    "#### Extract all elements that are greater than 10 from a 1D array of random integers."
   ]
  },
  {
   "cell_type": "code",
   "execution_count": 8,
   "metadata": {},
   "outputs": [
    {
     "name": "stdout",
     "output_type": "stream",
     "text": [
      "1D Array: [15  4 13  1  5  6  2  3  0  3 18  4 20  9 18]\n",
      "\n",
      "Elements Greater Than 10: [15 13 18 20 18]\n"
     ]
    }
   ],
   "source": [
    "# create a 1D array of random integers b/w 0 and 20, with size of 15\n",
    "array_1d = np.random.randint(0, 21, size=15)\n",
    "\n",
    "# extract all elements that are greater than 10\n",
    "elmnts_grtr_thn_10 = array_1d[array_1d > 10]\n",
    "\n",
    "print(\"1D Array:\", array_1d)\n",
    "print(\"\\nElements Greater Than 10:\", elmnts_grtr_thn_10)"
   ]
  },
  {
   "cell_type": "markdown",
   "metadata": {},
   "source": [
    "#### Given a 2D array of shape (5, 5), replace all elements greater than 15 with the value 0."
   ]
  },
  {
   "cell_type": "code",
   "execution_count": 13,
   "metadata": {},
   "outputs": [
    {
     "name": "stdout",
     "output_type": "stream",
     "text": [
      "2D Array:\n",
      " [[21 39 39 10 48]\n",
      " [23 34 44 35 23]\n",
      " [34 44 18 33 18]\n",
      " [14 24 17 23 14]\n",
      " [43 35 43 43 41]]\n",
      "\n",
      "Modified Array (elements > 15 replaced with 0):\n",
      " [[ 0  0  0 10  0]\n",
      " [ 0  0  0  0  0]\n",
      " [ 0  0  0  0  0]\n",
      " [14  0  0  0 14]\n",
      " [ 0  0  0  0  0]]\n"
     ]
    }
   ],
   "source": [
    "#considering 2D array from above question\n",
    "print(\"2D Array:\\n\", array_2d)\n",
    "\n",
    "# replace all elements greater than 15 with the value 0\n",
    "array_2d[array_2d > 15] = 0\n",
    "\n",
    "print(\"\\nModified Array (elements > 15 replaced with 0):\\n\", array_2d)"
   ]
  },
  {
   "cell_type": "markdown",
   "metadata": {},
   "source": [
    "## Broadcasting:"
   ]
  },
  {
   "cell_type": "markdown",
   "metadata": {},
   "source": [
    "**Broadcasting** is a powerful mechanism that allows NumPy to perform arithmetic operations on arrays of different shapes without explicitly reshaping or replicating data. This feature simplifies code and can significantly improve performance by avoiding unnecessary memory usage."
   ]
  },
  {
   "cell_type": "markdown",
   "metadata": {},
   "source": [
    "#### Add a 1D array of shape (3,) to each row of a 2D array of shape (4, 3)."
   ]
  },
  {
   "cell_type": "code",
   "execution_count": 9,
   "metadata": {},
   "outputs": [
    {
     "name": "stdout",
     "output_type": "stream",
     "text": [
      "1D Array:\n",
      " [15  0 19  7  7  1  1 13  2  6  4 16 15  2 18]\n",
      "\n",
      "2D Array:\n",
      " [[ 0  0  0  0  0]\n",
      " [ 0  0  0  0  0]\n",
      " [ 0  0 10 15  0]\n",
      " [10  0 11  0  0]\n",
      " [ 0  0  0  0  0]]\n",
      "\n",
      "Result after adding 1D array to each row of 2D array:\n",
      " [[ 11  22  33]\n",
      " [ 41  52  63]\n",
      " [ 71  82  93]\n",
      " [101 112 123]]\n"
     ]
    }
   ],
   "source": [
    "# define 1D array of shape (3,)\n",
    "arr_1d = np.array([1, 2, 3])\n",
    "\n",
    "# define 2D array of shape (4, 3)\n",
    "arr_2d = np.array([[10, 20, 30],\n",
    "                     [40, 50, 60],\n",
    "                     [70, 80, 90],\n",
    "                     [100, 110, 120]])\n",
    "\n",
    "# add 1D array to each row of the 2D array\n",
    "rslt = arr_2d + arr_1d\n",
    "\n",
    "print(\"1D Array:\\n\", array_1d)\n",
    "print(\"\\n2D Array:\\n\", array_2d)\n",
    "print(\"\\nResult after adding 1D array to each row of 2D array:\\n\", rslt)"
   ]
  },
  {
   "cell_type": "markdown",
   "metadata": {},
   "source": [
    "#### Multiply a 2D array of shape (3, 3) by a 1D array of shape (3,)."
   ]
  },
  {
   "cell_type": "code",
   "execution_count": 10,
   "metadata": {},
   "outputs": [
    {
     "name": "stdout",
     "output_type": "stream",
     "text": [
      "2D Array for Multiplication:\n",
      " [[2 4 6]\n",
      " [1 3 5]\n",
      " [7 8 9]]\n",
      "1D Array for Multiplication:\n",
      " [1 2 3]\n",
      "\n",
      "Result after multiplication:\n",
      " [[ 2  8 18]\n",
      " [ 1  6 15]\n",
      " [ 7 16 27]]\n"
     ]
    }
   ],
   "source": [
    "# define a 2D array of shape (3, 3)\n",
    "array_2d_multiply = np.array([[2, 4, 6],\n",
    "                              [1, 3, 5],\n",
    "                              [7, 8, 9]])\n",
    "\n",
    "# considering 1D array of shape (3,) as shown above\n",
    "# multiplying\n",
    "result = array_2d_multiply * arr_1d\n",
    "\n",
    "print(\"2D Array for Multiplication:\\n\", array_2d_multiply)\n",
    "print(\"1D Array for Multiplication:\\n\", arr_1d)\n",
    "print(\"\\nResult after multiplication:\\n\", result)"
   ]
  },
  {
   "cell_type": "markdown",
   "metadata": {},
   "source": [
    "#### Create two 2D arrays of shapes (3, 1) and (1, 4) respectively, and perform element-wise addition."
   ]
  },
  {
   "cell_type": "code",
   "execution_count": 11,
   "metadata": {},
   "outputs": [
    {
     "name": "stdout",
     "output_type": "stream",
     "text": [
      "2D Array of shape (3, 1):\n",
      " [[1]\n",
      " [2]\n",
      " [3]]\n",
      "\n",
      "2D Array of shape (1, 4):\n",
      " [[10 20 30 40]]\n",
      "\n",
      "Result after element-wise addition:\n",
      " [[11 21 31 41]\n",
      " [12 22 32 42]\n",
      " [13 23 33 43]]\n"
     ]
    }
   ],
   "source": [
    "# define a 2D array of shape (3, 1)\n",
    "ary2d_1 = np.array([[1],\n",
    "                    [2],\n",
    "                    [3]])\n",
    "\n",
    "# define a 2D array of shape (1, 4)\n",
    "ary2d_2 = np.array([[10, 20, 30, 40]])\n",
    "\n",
    "# perform element-wise addition\n",
    "re_sult = ary2d_1 + ary2d_2\n",
    "\n",
    "print(\"2D Array of shape (3, 1):\\n\", ary2d_1)\n",
    "print(\"\\n2D Array of shape (1, 4):\\n\", ary2d_2)\n",
    "print(\"\\nResult after element-wise addition:\\n\", re_sult)"
   ]
  },
  {
   "cell_type": "markdown",
   "metadata": {},
   "source": [
    "#### Given a 3D array of shape (2, 3, 4), add a 2D array of shape (3, 4) to each 2D slice along the first axis."
   ]
  },
  {
   "cell_type": "code",
   "execution_count": 12,
   "metadata": {},
   "outputs": [
    {
     "name": "stdout",
     "output_type": "stream",
     "text": [
      "3D Array of shape (2, 3, 4):\n",
      " [[[ 1  2  3  4]\n",
      "  [ 5  6  7  8]\n",
      "  [ 9 10 11 12]]\n",
      "\n",
      " [[13 14 15 16]\n",
      "  [17 18 19 20]\n",
      "  [21 22 23 24]]]\n",
      "\n",
      "2D Array to be added:\n",
      " [[1 1 1 1]\n",
      " [2 2 2 2]\n",
      " [3 3 3 3]]\n",
      "\n",
      "Result after adding 2D array to each 2D slice along the first axis:\n",
      " [[[ 2  3  4  5]\n",
      "  [ 7  8  9 10]\n",
      "  [12 13 14 15]]\n",
      "\n",
      " [[14 15 16 17]\n",
      "  [19 20 21 22]\n",
      "  [24 25 26 27]]]\n"
     ]
    }
   ],
   "source": [
    "# define 3D array of shape (2, 3, 4)\n",
    "aray_3d = np.array([[[1, 2, 3, 4],\n",
    "                      [5, 6, 7, 8],\n",
    "                      [9, 10, 11, 12]],\n",
    "                     \n",
    "                     [[13, 14, 15, 16],\n",
    "                      [17, 18, 19, 20],\n",
    "                      [21, 22, 23, 24]]])\n",
    "\n",
    "# define 2D array of shape (3, 4)\n",
    "aray_2d_add = np.array([[1, 1, 1, 1],\n",
    "                         [2, 2, 2, 2],\n",
    "                         [3, 3, 3, 3]])\n",
    "\n",
    "# add the 2D array to each 2D slice along the first axis\n",
    "resu_lt = aray_3d + aray_2d_add\n",
    "\n",
    "print(\"3D Array of shape (2, 3, 4):\\n\", aray_3d)\n",
    "print(\"\\n2D Array to be added:\\n\", aray_2d_add)\n",
    "print(\"\\nResult after adding 2D array to each 2D slice along the first axis:\\n\", resu_lt)"
   ]
  },
  {
   "cell_type": "markdown",
   "metadata": {},
   "source": [
    "## Some other questions:"
   ]
  },
  {
   "cell_type": "markdown",
   "metadata": {},
   "source": [
    "#### Extract diagonal elements from a 2D array."
   ]
  },
  {
   "cell_type": "code",
   "execution_count": 14,
   "metadata": {},
   "outputs": [
    {
     "name": "stdout",
     "output_type": "stream",
     "text": [
      "Diagonal Elements:  [1, 5, 9]\n"
     ]
    }
   ],
   "source": [
    "def ext_diag_elements(a_2d):\n",
    "    \n",
    "    # convert input to numpy array if it's not already\n",
    "    a_2d = np.array(a_2d)\n",
    "    \n",
    "    # extract the diagonal elements\n",
    "    diag_elemnts = np.diag(a_2d)\n",
    "    \n",
    "    # convert the diagonal elements to a list\n",
    "    return diag_elemnts.tolist()\n",
    "\n",
    "# eg\n",
    "a_2d = [\n",
    "    [1, 2, 3],\n",
    "    [4, 5, 6],\n",
    "    [7, 8, 9]\n",
    "]\n",
    "\n",
    "diag_elemnts = ext_diag_elements(a_2d)\n",
    "print(\"Diagonal Elements: \", diag_elemnts)"
   ]
  },
  {
   "cell_type": "markdown",
   "metadata": {},
   "source": [
    "#### Given a 2D array, use slicing to extract every second row and every second column, then add a 1D array to each row of the sliced array."
   ]
  },
  {
   "cell_type": "code",
   "execution_count": 16,
   "metadata": {},
   "outputs": [
    {
     "name": "stdout",
     "output_type": "stream",
     "text": [
      "This is required row & column: \n",
      " [[ 6  8]\n",
      " [14 16]]\n"
     ]
    }
   ],
   "source": [
    "def extract_every_second(arrray_2d):\n",
    "    \n",
    "    # convert input to numpy array if it is not already\n",
    "    arrray_2d = np.array(arrray_2d)\n",
    "    \n",
    "    # use slicing to extract every second row and every second column, starting from index 1\n",
    "    sliced_array = arrray_2d[1::2, 1::2]\n",
    "    \n",
    "    return sliced_array\n",
    "\n",
    "# eg\n",
    "arrray_2d = [\n",
    "    [1, 2, 3, 4],\n",
    "    [5, 6, 7, 8],\n",
    "    [9, 10, 11, 12],\n",
    "    [13, 14, 15, 16]\n",
    "]\n",
    "\n",
    "resul_t = extract_every_second(arrray_2d)\n",
    "print(\"This is required row & column: \\n\", resul_t)"
   ]
  },
  {
   "cell_type": "markdown",
   "metadata": {},
   "source": [
    "#### Use slicing to reverse the order of elements in each row of a 2D array."
   ]
  },
  {
   "cell_type": "code",
   "execution_count": 22,
   "metadata": {},
   "outputs": [
    {
     "name": "stdout",
     "output_type": "stream",
     "text": [
      "Reversed array is: \n",
      " [[ 4  3  2  1]\n",
      " [ 8  7  6  5]\n",
      " [12 11 10  9]\n",
      " [16 15 14 13]]\n"
     ]
    }
   ],
   "source": [
    "# considering array from the above question\n",
    "\n",
    "def reverse_rows(arrray_2d):\n",
    "    \n",
    "    # convert input to numpy array if it is not already\n",
    "    arrray_2d = np.array(arrray_2d)\n",
    "    \n",
    "    # reverse the order of elements in each row using slicing\n",
    "    reversed_array = arrray_2d[:, ::-1]\n",
    "    \n",
    "    return reversed_array\n",
    "\n",
    "arrray_2d = [\n",
    "    [1, 2, 3, 4],\n",
    "    [5, 6, 7, 8],\n",
    "    [9, 10, 11, 12],\n",
    "    [13, 14, 15, 16]\n",
    "]\n",
    "\n",
    "rsltt = reverse_rows(arrray_2d)\n",
    "print(\"Reversed array is: \\n\", rsltt)"
   ]
  },
  {
   "cell_type": "markdown",
   "metadata": {},
   "source": [
    "#### Create a 2D array and use both slicing and broadcasting to set the last column to the sum of the first two columns for each row."
   ]
  },
  {
   "cell_type": "code",
   "execution_count": 26,
   "metadata": {},
   "outputs": [
    {
     "name": "stdout",
     "output_type": "stream",
     "text": [
      "New Array: \n",
      " [[ 1  2  3  3]\n",
      " [ 5  6  7 11]\n",
      " [ 9 10 11 19]\n",
      " [13 14 15 27]]\n"
     ]
    }
   ],
   "source": [
    "# considering 2D array from the second question of this section \n",
    "\n",
    "def set_last_col(arrray_2d):\n",
    "    \n",
    "    # convert input to a numpy array if it's not already\n",
    "    arrray_2d = np.array(arrray_2d)\n",
    "    \n",
    "    # calculate the sum of the first two columns\n",
    "    sum_two_col = arrray_2d[:, 0] + arrray_2d[:, 1]\n",
    "    \n",
    "    # set the last column to the sum of the first two columns using broadcasting\n",
    "    arrray_2d[:, -1] = sum_two_col\n",
    "    \n",
    "    return arrray_2d\n",
    "\n",
    "\n",
    "ans = set_last_col(arrray_2d)\n",
    "print(\"New Array: \\n\", ans)"
   ]
  }
 ],
 "metadata": {
  "kernelspec": {
   "display_name": "Python 3",
   "language": "python",
   "name": "python3"
  },
  "language_info": {
   "codemirror_mode": {
    "name": "ipython",
    "version": 3
   },
   "file_extension": ".py",
   "mimetype": "text/x-python",
   "name": "python",
   "nbconvert_exporter": "python",
   "pygments_lexer": "ipython3",
   "version": "3.8.5"
  }
 },
 "nbformat": 4,
 "nbformat_minor": 4
}
