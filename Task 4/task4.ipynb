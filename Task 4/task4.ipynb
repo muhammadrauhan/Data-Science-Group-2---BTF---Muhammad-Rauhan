{
 "cells": [
  {
   "cell_type": "code",
   "execution_count": 5,
   "metadata": {},
   "outputs": [
    {
     "name": "stdout",
     "output_type": "stream",
     "text": [
      "Enter first number: 4\n",
      "Enter second number: 0\n",
      "Multiplication of 4 and 0 is 0\n",
      "Zero Division Error, try another with another number\n",
      "Addition of 4 and 0 is  4\n",
      "Subtraction of 4 and 0 is  4\n"
     ]
    }
   ],
   "source": [
    "x = int(input(\"Enter first number: \"))\n",
    "y = int(input(\"Enter second number: \"))\n",
    "\n",
    "print(f\"Multiplication of {x} and {y} is\",x*y)\n",
    "if y>0:\n",
    "    print(f\"Division of {x} and {y} is \",x/y)\n",
    "else:\n",
    "    print(\"Zero Division Error, try another with another number\")\n",
    "\n",
    "print(f\"Addition of {x} and {y} is \",x+y)\n",
    "print(f\"Subtraction of {x} and {y} is \",x-y)"
   ]
  },
  {
   "cell_type": "code",
   "execution_count": null,
   "metadata": {},
   "outputs": [],
   "source": []
  },
  {
   "cell_type": "code",
   "execution_count": null,
   "metadata": {},
   "outputs": [],
   "source": []
  }
 ],
 "metadata": {
  "kernelspec": {
   "display_name": "Python 3",
   "language": "python",
   "name": "python3"
  },
  "language_info": {
   "codemirror_mode": {
    "name": "ipython",
    "version": 3
   },
   "file_extension": ".py",
   "mimetype": "text/x-python",
   "name": "python",
   "nbconvert_exporter": "python",
   "pygments_lexer": "ipython3",
   "version": "3.8.5"
  }
 },
 "nbformat": 4,
 "nbformat_minor": 4
}
