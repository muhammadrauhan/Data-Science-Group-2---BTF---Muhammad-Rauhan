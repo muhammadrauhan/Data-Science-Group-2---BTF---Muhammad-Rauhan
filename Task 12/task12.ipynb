{
 "cells": [
  {
   "cell_type": "markdown",
   "metadata": {},
   "source": [
    "# Task 12: Introduction to Pandas (Series, DataFrame basics)"
   ]
  },
  {
   "cell_type": "markdown",
   "metadata": {},
   "source": [
    "Time to explore the high level **Data Manipulation** tool offered by the Pandas library. Start by learning about Series and DataFrames and their operations.\n",
    "\n",
    "In Pandas, we store the tabular data in an object called **DataFrame**."
   ]
  },
  {
   "cell_type": "markdown",
   "metadata": {},
   "source": [
    "### Importing Libraries:"
   ]
  },
  {
   "cell_type": "code",
   "execution_count": 1,
   "metadata": {},
   "outputs": [],
   "source": [
    "import pandas as pd\n",
    "import numpy as np"
   ]
  },
  {
   "cell_type": "markdown",
   "metadata": {},
   "source": [
    "### Create Pandas Series:"
   ]
  },
  {
   "cell_type": "markdown",
   "metadata": {},
   "source": [
    "##### From Dictionary:"
   ]
  },
  {
   "cell_type": "code",
   "execution_count": 2,
   "metadata": {},
   "outputs": [
    {
     "name": "stdout",
     "output_type": "stream",
     "text": [
      "Pandas Series from Dictionary:\n",
      "Spain      Madrid\n",
      "France      Paris\n",
      "Germany      Bonn\n",
      "Norway       Oslo\n",
      "dtype: object\n"
     ]
    }
   ],
   "source": [
    "europe = {'Spain':'Madrid', 'France':'Paris', 'Germany':'Bonn', 'Norway':'Oslo'}\n",
    "\n",
    "series_dict = pd.Series(europe)\n",
    "print(\"Pandas Series from Dictionary:\")\n",
    "print(series_dict)"
   ]
  },
  {
   "cell_type": "markdown",
   "metadata": {},
   "source": [
    "#### Data Manipulation on Dictionary:"
   ]
  },
  {
   "cell_type": "code",
   "execution_count": 13,
   "metadata": {},
   "outputs": [
    {
     "name": "stdout",
     "output_type": "stream",
     "text": [
      "Europe Dict. after adding Italy:\n",
      " {'Spain': 'Madrid', 'France': 'Paris', 'Germany': 'Berlin', 'Norway': 'Oslo', 'Italy': 'Rome', 'Poland': 'Warsaw'}\n",
      "\n",
      "Europe Dict. after adding Poland:\n",
      " {'Spain': 'Madrid', 'France': 'Paris', 'Germany': 'Berlin', 'Norway': 'Oslo', 'Italy': 'Rome', 'Poland': 'Warsaw'}\n",
      "\n",
      "Europe Dict. after updating Capital of Germany:\n",
      " {'Spain': 'Madrid', 'France': 'Paris', 'Germany': 'Berlin', 'Norway': 'Oslo', 'Italy': 'Rome', 'Poland': 'Warsaw'}\n"
     ]
    }
   ],
   "source": [
    "# add italy to europe\n",
    "europe['Italy'] = 'Rome'\n",
    "print(\"Europe Dict. after adding Italy:\\n\", europe)\n",
    "\n",
    "# add poland to europe\n",
    "europe['Poland'] = 'Warsaw'\n",
    "print(\"\\nEurope Dict. after adding Poland:\\n\", europe)\n",
    "\n",
    "# Update capital of germany\n",
    "europe['Germany'] = 'Berlin'\n",
    "print(\"\\nEurope Dict. after updating Capital of Germany:\\n\", europe)"
   ]
  },
  {
   "cell_type": "markdown",
   "metadata": {},
   "source": [
    "##### From List (with custom indexing):"
   ]
  },
  {
   "cell_type": "code",
   "execution_count": 3,
   "metadata": {},
   "outputs": [
    {
     "name": "stdout",
     "output_type": "stream",
     "text": [
      "Pandas Series from List:\n",
      "a    11.25\n",
      "b    18.00\n",
      "c    20.00\n",
      "d    10.75\n",
      "e     9.50\n",
      "dtype: float64\n"
     ]
    }
   ],
   "source": [
    "areas = [11.25, 18.0, 20.0, 10.75, 9.50]\n",
    "\n",
    "series_list = pd.Series(areas)\n",
    "\n",
    "# assign a custom index to the Series\n",
    "cust_ind = ['a', 'b', 'c', 'd', 'e']\n",
    "series_list.index = cust_ind\n",
    "\n",
    "print(\"Pandas Series from List:\")\n",
    "print(series_list)"
   ]
  },
  {
   "cell_type": "markdown",
   "metadata": {},
   "source": [
    "##### From NumPy Array (with custom indexing):"
   ]
  },
  {
   "cell_type": "code",
   "execution_count": 4,
   "metadata": {},
   "outputs": [
    {
     "name": "stdout",
     "output_type": "stream",
     "text": [
      "Pandas Series from NumPy Array:\n",
      "A    18.00\n",
      "B    20.00\n",
      "C    10.75\n",
      "D     9.50\n",
      "dtype: float64\n"
     ]
    }
   ],
   "source": [
    "house_length = np.array([18.0, 20.0, 10.75, 9.50])\n",
    "\n",
    "series_nparr = pd.Series(house_length)\n",
    "\n",
    "# assign a custom index to the Series\n",
    "cus_ind = ['A', 'B', 'C', 'D']\n",
    "series_nparr.index = cus_ind\n",
    "\n",
    "print(\"Pandas Series from NumPy Array:\")\n",
    "print(series_nparr)"
   ]
  },
  {
   "cell_type": "markdown",
   "metadata": {},
   "source": [
    "### Perform Basic Arithmetic Operation:"
   ]
  },
  {
   "cell_type": "code",
   "execution_count": 7,
   "metadata": {},
   "outputs": [
    {
     "name": "stdout",
     "output_type": "stream",
     "text": [
      "List Series after adding 10:\n",
      "a    21.25\n",
      "b    28.00\n",
      "c    30.00\n",
      "d    20.75\n",
      "e    19.50\n",
      "dtype: float64\n",
      "\n",
      "Add. List Series after dividing each element by 10:\n",
      "a    2.125\n",
      "b    2.800\n",
      "c    3.000\n",
      "d    2.075\n",
      "e    1.950\n",
      "dtype: float64\n",
      "\n",
      "NumPy array Series after multiplying each element by 2:\n",
      "A    36.0\n",
      "B    40.0\n",
      "C    21.5\n",
      "D    19.0\n",
      "dtype: float64\n",
      "\n",
      "NumPy array Series after subtracting 5:\n",
      "A    13.00\n",
      "B    15.00\n",
      "C     5.75\n",
      "D     4.50\n",
      "dtype: float64\n",
      "\n"
     ]
    }
   ],
   "source": [
    "# arithmetic operation on Pandas list series\n",
    "series_add = series_list + 10\n",
    "print(\"List Series after adding 10:\")\n",
    "print(series_add)\n",
    "print()\n",
    "\n",
    "\n",
    "# divide operation on Pandas list add series\n",
    "series_div = series_add / 10\n",
    "print(\"Add. List Series after dividing each element by 10:\")\n",
    "print(series_div)\n",
    "print()\n",
    "\n",
    "\n",
    "# multipy operation on Pandas Numpy array series\n",
    "series_multi = series_nparr * 2\n",
    "print(\"NumPy array Series after multiplying each element by 2:\")\n",
    "print(series_multi)\n",
    "print()\n",
    "\n",
    "# subtract operation on Numpy array series\n",
    "series_sub = series_nparr - 5\n",
    "print(\"NumPy array Series after subtracting 5:\")\n",
    "print(series_sub)\n",
    "print()"
   ]
  },
  {
   "cell_type": "markdown",
   "metadata": {},
   "source": [
    "### Accessing Elements in Pandas Series:"
   ]
  },
  {
   "cell_type": "markdown",
   "metadata": {},
   "source": [
    "##### Access Dictionary:"
   ]
  },
  {
   "cell_type": "code",
   "execution_count": 14,
   "metadata": {},
   "outputs": [
    {
     "name": "stdout",
     "output_type": "stream",
     "text": [
      "dict_keys(['Spain', 'France', 'Germany', 'Norway', 'Italy', 'Poland'])\n",
      "Oslo\n"
     ]
    }
   ],
   "source": [
    "# Print out the keys in europe\n",
    "print(europe.keys())\n",
    "\n",
    "# Print value that belongs to key 'Norway'\n",
    "print(europe[\"Norway\"])"
   ]
  },
  {
   "cell_type": "markdown",
   "metadata": {},
   "source": [
    "##### Access Elements in List:"
   ]
  },
  {
   "cell_type": "code",
   "execution_count": 15,
   "metadata": {},
   "outputs": [
    {
     "name": "stdout",
     "output_type": "stream",
     "text": [
      "Element accessed by index label 'c': 20.0\n"
     ]
    }
   ],
   "source": [
    "# Access element by index label\n",
    "print(\"Element accessed by index label 'c':\", series_list['c'])"
   ]
  },
  {
   "cell_type": "code",
   "execution_count": 16,
   "metadata": {},
   "outputs": [
    {
     "name": "stdout",
     "output_type": "stream",
     "text": [
      "Element accessed by position 3: 10.75\n"
     ]
    }
   ],
   "source": [
    "# Access element by position 3 (zero-based index)\n",
    "print(\"Element accessed by position 3:\", series_list.iloc[3])"
   ]
  },
  {
   "cell_type": "markdown",
   "metadata": {},
   "source": [
    "We access a single element by its position (3) using the **'.iloc'** method (zero-based index)."
   ]
  },
  {
   "cell_type": "markdown",
   "metadata": {},
   "source": [
    "##### Access Elements in NumPy Array:"
   ]
  },
  {
   "cell_type": "code",
   "execution_count": 5,
   "metadata": {},
   "outputs": [
    {
     "name": "stdout",
     "output_type": "stream",
     "text": [
      "Element accessed by index label 'B': 20.0\n"
     ]
    }
   ],
   "source": [
    "# Access element by index label\n",
    "print(\"Element accessed by index label 'B':\", series_nparr['B'])"
   ]
  },
  {
   "cell_type": "code",
   "execution_count": 6,
   "metadata": {},
   "outputs": [
    {
     "name": "stdout",
     "output_type": "stream",
     "text": [
      "Element accessed by position 1: 18.0\n"
     ]
    }
   ],
   "source": [
    "# Access element by position 1 (zero-based index)\n",
    "print(\"Element accessed by position 1:\", series_list.iloc[1])"
   ]
  },
  {
   "cell_type": "markdown",
   "metadata": {},
   "source": [
    "### Create a DataFrame from dictionary of lists:"
   ]
  },
  {
   "cell_type": "code",
   "execution_count": 10,
   "metadata": {},
   "outputs": [
    {
     "name": "stdout",
     "output_type": "stream",
     "text": [
      "         country  drives_right  cars_per_cap\n",
      "0  United States          True           809\n",
      "1      Australia         False           731\n",
      "2          Japan         False           588\n",
      "3          India         False            18\n",
      "4         Russia          True           200\n",
      "5        Morocco          True            70\n",
      "6          Egypt          True            45\n"
     ]
    }
   ],
   "source": [
    "#dr, a list with booleans that tells whether people drive left or right in the corresponding country.\n",
    "#cpc, the number of motor vehicles per 1000 people\n",
    "\n",
    "names = ['United States', 'Australia', 'Japan', 'India', 'Russia', 'Morocco', 'Egypt']\n",
    "dr =  [True, False, False, False, True, True, True]\n",
    "cpc = [809, 731, 588, 18, 200, 70, 45]\n",
    "\n",
    "# create dictionary my_dict with three key:value pairs: my_dict\n",
    "my_dict = {\n",
    "    'country':names,\n",
    "    'drives_right':dr,\n",
    "    'cars_per_cap':cpc \n",
    "}\n",
    "# build a DataFrame cars from my_dict: cars\n",
    "cars1 = pd.DataFrame(my_dict)\n",
    "\n",
    "print(cars1)"
   ]
  },
  {
   "cell_type": "markdown",
   "metadata": {},
   "source": [
    "##### Specify Row Labels:"
   ]
  },
  {
   "cell_type": "code",
   "execution_count": 11,
   "metadata": {},
   "outputs": [
    {
     "name": "stdout",
     "output_type": "stream",
     "text": [
      "           country  drives_right  cars_per_cap\n",
      "US   United States          True           809\n",
      "AUS      Australia         False           731\n",
      "JPN          Japan         False           588\n",
      "IN           India         False            18\n",
      "RU          Russia          True           200\n",
      "MOR        Morocco          True            70\n",
      "EG           Egypt          True            45\n"
     ]
    }
   ],
   "source": [
    "row_labels = ['US', 'AUS', 'JPN', 'IN', 'RU', 'MOR', 'EG']\n",
    "\n",
    "# specify row labels of cars\n",
    "cars1.index = row_labels\n",
    "\n",
    "print(cars1)"
   ]
  },
  {
   "cell_type": "markdown",
   "metadata": {},
   "source": [
    "### Create a DataFrame from a numpy array, specifying column and index names:"
   ]
  },
  {
   "cell_type": "code",
   "execution_count": 9,
   "metadata": {},
   "outputs": [
    {
     "name": "stdout",
     "output_type": "stream",
     "text": [
      "          Physics  Math  Chemistry\n",
      "Student1       75    71         86\n",
      "Student2       65    50         67\n",
      "Student3       70    87         90\n"
     ]
    }
   ],
   "source": [
    "# create NumPy array\n",
    "data = np.array([[75, 71, 86], [65, 50, 67], [70, 87, 90]])\n",
    "\n",
    "# specify custom columns and index names\n",
    "column_names = ['Physics', 'Math', 'Chemistry']\n",
    "index_names = ['Student1', 'Student2', 'Student3']\n",
    "\n",
    "# create the DataFrame\n",
    "df = pd.DataFrame(data, columns=column_names, index=index_names)\n",
    "\n",
    "print(df)"
   ]
  },
  {
   "cell_type": "markdown",
   "metadata": {},
   "source": [
    "### Load a DataFrame from a CSV file:"
   ]
  },
  {
   "cell_type": "code",
   "execution_count": 13,
   "metadata": {},
   "outputs": [
    {
     "name": "stdout",
     "output_type": "stream",
     "text": [
      "    Unnamed: 0  cars_per_cap        country  drives_right\n",
      "NaN         US           809  United States          True\n",
      "NaN        AUS           731      Australia         False\n",
      "NaN        JAP           588          Japan         False\n",
      "NaN         IN            18          India         False\n",
      "NaN         RU           200         Russia          True\n",
      "NaN        MOR            70        Morocco          True\n",
      "NaN         EG            45          Egypt          True\n"
     ]
    }
   ],
   "source": [
    "cars = pd.read_csv('cars.csv', index_col = 0)\n",
    "\n",
    "print(cars)"
   ]
  },
  {
   "cell_type": "markdown",
   "metadata": {},
   "source": [
    "##### Square Brackets:"
   ]
  },
  {
   "cell_type": "code",
   "execution_count": 14,
   "metadata": {},
   "outputs": [
    {
     "name": "stdout",
     "output_type": "stream",
     "text": [
      "           country\n",
      "NaN  United States\n",
      "NaN      Australia\n",
      "NaN          Japan\n",
      "NaN          India\n",
      "NaN         Russia\n",
      "NaN        Morocco\n",
      "NaN          Egypt\n"
     ]
    }
   ],
   "source": [
    "# print country column as Pandas DataFrame\n",
    "print(cars[['country']])"
   ]
  },
  {
   "cell_type": "code",
   "execution_count": 15,
   "metadata": {},
   "outputs": [
    {
     "name": "stdout",
     "output_type": "stream",
     "text": [
      "           country  drives_right\n",
      "NaN  United States          True\n",
      "NaN      Australia         False\n",
      "NaN          Japan         False\n",
      "NaN          India         False\n",
      "NaN         Russia          True\n",
      "NaN        Morocco          True\n",
      "NaN          Egypt          True\n"
     ]
    }
   ],
   "source": [
    "# print out DataFrame with country and drives_right columns\n",
    "print(cars[['country', 'drives_right']])"
   ]
  },
  {
   "cell_type": "markdown",
   "metadata": {},
   "source": [
    "##### Filtering DataFrame:"
   ]
  },
  {
   "cell_type": "code",
   "execution_count": 17,
   "metadata": {},
   "outputs": [
    {
     "name": "stdout",
     "output_type": "stream",
     "text": [
      "    Unnamed: 0  cars_per_cap        country  drives_right\n",
      "NaN         US           809  United States          True\n",
      "NaN         RU           200         Russia          True\n",
      "NaN        MOR            70        Morocco          True\n",
      "NaN         EG            45          Egypt          True\n"
     ]
    }
   ],
   "source": [
    "# extract drives_right column as a Pandas Series: dr\n",
    "dr = cars[\"drives_right\"]\n",
    "\n",
    "# use dr to subset cars: sel\n",
    "final_dr = cars[dr]\n",
    "print(final_dr)"
   ]
  },
  {
   "cell_type": "markdown",
   "metadata": {},
   "source": [
    "**OR**"
   ]
  },
  {
   "cell_type": "code",
   "execution_count": 18,
   "metadata": {},
   "outputs": [
    {
     "name": "stdout",
     "output_type": "stream",
     "text": [
      "    Unnamed: 0  cars_per_cap        country  drives_right\n",
      "NaN         US           809  United States          True\n",
      "NaN         RU           200         Russia          True\n",
      "NaN        MOR            70        Morocco          True\n",
      "NaN         EG            45          Egypt          True\n"
     ]
    }
   ],
   "source": [
    "# convert code to a one-liner\n",
    "f_dr = cars[cars[\"drives_right\"]]\n",
    "\n",
    "print(f_dr)"
   ]
  },
  {
   "cell_type": "markdown",
   "metadata": {},
   "source": [
    "##### Filtering based on condition:"
   ]
  },
  {
   "cell_type": "code",
   "execution_count": 19,
   "metadata": {},
   "outputs": [
    {
     "name": "stdout",
     "output_type": "stream",
     "text": [
      "    Unnamed: 0  cars_per_cap        country  drives_right\n",
      "NaN         US           809  United States          True\n",
      "NaN        AUS           731      Australia         False\n",
      "NaN        JAP           588          Japan         False\n"
     ]
    }
   ],
   "source": [
    "# create car_maniac: observations that have a cars_per_cap over 500\n",
    "cpc = cars[\"cars_per_cap\"]\n",
    "many_cars = cpc > 500\n",
    "car_maniac = cars[many_cars]\n",
    "\n",
    "print(car_maniac)"
   ]
  },
  {
   "cell_type": "markdown",
   "metadata": {},
   "source": [
    "##### Adding column in DataFrame:"
   ]
  },
  {
   "cell_type": "code",
   "execution_count": 20,
   "metadata": {},
   "outputs": [
    {
     "name": "stdout",
     "output_type": "stream",
     "text": [
      "    Unnamed: 0  cars_per_cap        country  drives_right        COUNTRY\n",
      "NaN         US           809  United States          True  UNITED STATES\n",
      "NaN        AUS           731      Australia         False      AUSTRALIA\n",
      "NaN        JAP           588          Japan         False          JAPAN\n",
      "NaN         IN            18          India         False          INDIA\n",
      "NaN         RU           200         Russia          True         RUSSIA\n",
      "NaN        MOR            70        Morocco          True        MOROCCO\n",
      "NaN         EG            45          Egypt          True          EGYPT\n"
     ]
    }
   ],
   "source": [
    "# use .apply(str.upper)\n",
    "cars[\"COUNTRY\"] = cars[\"country\"].apply(str.upper)\n",
    "print(cars)"
   ]
  },
  {
   "cell_type": "markdown",
   "metadata": {},
   "source": [
    "##### Removing column from the DataFrame:"
   ]
  },
  {
   "cell_type": "code",
   "execution_count": 22,
   "metadata": {},
   "outputs": [
    {
     "name": "stdout",
     "output_type": "stream",
     "text": [
      "    Unnamed: 0  cars_per_cap  drives_right        COUNTRY\n",
      "NaN         US           809          True  UNITED STATES\n",
      "NaN        AUS           731         False      AUSTRALIA\n",
      "NaN        JAP           588         False          JAPAN\n",
      "NaN         IN            18         False          INDIA\n",
      "NaN         RU           200          True         RUSSIA\n",
      "NaN        MOR            70          True        MOROCCO\n",
      "NaN         EG            45          True          EGYPT\n"
     ]
    }
   ],
   "source": [
    "# remove a column\n",
    "cars_new = cars.drop('country', axis=1)\n",
    "print(cars_new)"
   ]
  },
  {
   "cell_type": "markdown",
   "metadata": {},
   "source": [
    "df.drop('ColumnToRemove', axis=1, inplace=True)\n",
    "\n",
    "- **axis=1** specifies that we are dropping columns. For rows, you would use axis=0.\n",
    "- **inplace=True** can be used within drop if you want to modify the original DataFrame without creating a new one."
   ]
  },
  {
   "cell_type": "markdown",
   "metadata": {},
   "source": [
    "##### loc and iloc:"
   ]
  },
  {
   "cell_type": "code",
   "execution_count": 25,
   "metadata": {},
   "outputs": [
    {
     "name": "stdout",
     "output_type": "stream",
     "text": [
      "Unnamed: 0        JAP\n",
      "cars_per_cap      588\n",
      "drives_right    False\n",
      "COUNTRY         JAPAN\n",
      "Name: nan, dtype: object\n",
      "    Unnamed: 0  cars_per_cap  drives_right    COUNTRY\n",
      "NaN        AUS           731         False  AUSTRALIA\n",
      "NaN         EG            45          True      EGYPT\n"
     ]
    }
   ],
   "source": [
    "# print out observation for Japan\n",
    "print(cars_new.iloc[2])\n",
    "\n",
    "# print out observations for Australia and Egypt\n",
    "print(cars_new.iloc[[1,6]])"
   ]
  },
  {
   "cell_type": "markdown",
   "metadata": {},
   "source": [
    "- Use **'loc'** for label-based selection, which allows you to access data by row and column labels.\n",
    "- Use **'iloc'** for position-based selection, which allows you to access data by row and column integer positions."
   ]
  }
 ],
 "metadata": {
  "kernelspec": {
   "display_name": "Python 3",
   "language": "python",
   "name": "python3"
  },
  "language_info": {
   "codemirror_mode": {
    "name": "ipython",
    "version": 3
   },
   "file_extension": ".py",
   "mimetype": "text/x-python",
   "name": "python",
   "nbconvert_exporter": "python",
   "pygments_lexer": "ipython3",
   "version": "3.8.5"
  }
 },
 "nbformat": 4,
 "nbformat_minor": 4
}
