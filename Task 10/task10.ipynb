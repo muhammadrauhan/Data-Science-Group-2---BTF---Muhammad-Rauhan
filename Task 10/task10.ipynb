{
 "cells": [
  {
   "cell_type": "markdown",
   "metadata": {},
   "source": [
    "# Task 10: Introduction to NumPy"
   ]
  },
  {
   "cell_type": "markdown",
   "metadata": {},
   "source": [
    "Learn the basics of NumPy (arrays, etc.) and perform some array operations in multiple dimensions using NumPy."
   ]
  },
  {
   "cell_type": "code",
   "execution_count": 2,
   "metadata": {},
   "outputs": [],
   "source": [
    "# import NumPy with alias as np\n",
    "import numpy as np"
   ]
  },
  {
   "cell_type": "markdown",
   "metadata": {},
   "source": [
    "## 1. 1D Array"
   ]
  },
  {
   "cell_type": "code",
   "execution_count": 3,
   "metadata": {},
   "outputs": [
    {
     "name": "stdout",
     "output_type": "stream",
     "text": [
      "1D NumPy array filled with integers from 0 to 9: \n",
      " [0 1 2 3 4 5 6 7 8 9]\n"
     ]
    }
   ],
   "source": [
    "arr1 = np.arange(10)\n",
    "print(\"1D NumPy array filled with integers from 0 to 9: \\n\", arr1)"
   ]
  },
  {
   "cell_type": "markdown",
   "metadata": {},
   "source": [
    "## 2. 2D Array"
   ]
  },
  {
   "cell_type": "code",
   "execution_count": 4,
   "metadata": {},
   "outputs": [
    {
     "name": "stdout",
     "output_type": "stream",
     "text": [
      "2D NumPy array (3x3) with random integers between 1 and 20: \n",
      " [[13 16  1]\n",
      " [ 4  4  8]\n",
      " [10 20 19]]\n"
     ]
    }
   ],
   "source": [
    "# Seed the random number generator for reproducibility (optional)\n",
    "np.random.seed(0)\n",
    "\n",
    "# Create a 3x3 array with random integers between 1 and 20\n",
    "arr2 = np.random.randint(1, 21, size=(3, 3))\n",
    "\n",
    "print(\"2D NumPy array (3x3) with random integers between 1 and 20: \\n\", arr2)"
   ]
  },
  {
   "cell_type": "markdown",
   "metadata": {},
   "source": [
    "## 3. 3D Array"
   ]
  },
  {
   "cell_type": "code",
   "execution_count": 5,
   "metadata": {},
   "outputs": [
    {
     "data": {
      "text/plain": [
       "array([[[1., 1., 1., 1.],\n",
       "        [1., 1., 1., 1.],\n",
       "        [1., 1., 1., 1.]],\n",
       "\n",
       "       [[1., 1., 1., 1.],\n",
       "        [1., 1., 1., 1.],\n",
       "        [1., 1., 1., 1.]]])"
      ]
     },
     "execution_count": 5,
     "metadata": {},
     "output_type": "execute_result"
    }
   ],
   "source": [
    "# 3D Array with dimensions (2,3,4) filled with ones\n",
    "arr3 = np.ones((2, 3, 4))\n",
    "# print(\"1D NumPy array filled with integers from 0 to 9: \\n\", arr1)\n",
    "arr3"
   ]
  },
  {
   "cell_type": "markdown",
   "metadata": {},
   "source": [
    "### 4. Add two 1D arrays element wise"
   ]
  },
  {
   "cell_type": "code",
   "execution_count": 17,
   "metadata": {},
   "outputs": [
    {
     "name": "stdout",
     "output_type": "stream",
     "text": [
      "[0 1 2 3 4 5 6 7 8 9] + [0 1 2 3 4 5 6 7 8 9]\n",
      "Addition of two 1D arrays is: \n",
      " [ 0  2  4  6  8 10 12 14 16 18]\n"
     ]
    }
   ],
   "source": [
    "print(f\"{arr1} + {arr1}\")\n",
    "arr = arr1 + arr1\n",
    "print(\"Addition of two 1D arrays is: \\n\", arr)"
   ]
  },
  {
   "cell_type": "markdown",
   "metadata": {},
   "source": [
    "### 5. Multiply two 2D arrays element wise"
   ]
  },
  {
   "cell_type": "code",
   "execution_count": 19,
   "metadata": {},
   "outputs": [
    {
     "name": "stdout",
     "output_type": "stream",
     "text": [
      "[[13 16  1]\n",
      " [ 4  4  8]\n",
      " [10 20 19]] * [[13 16  1]\n",
      " [ 4  4  8]\n",
      " [10 20 19]]\n",
      "Multiplication of two 2D arrays is: \n",
      " [[169 256   1]\n",
      " [ 16  16  64]\n",
      " [100 400 361]]\n"
     ]
    }
   ],
   "source": [
    "print(f\"{arr2} * {arr2}\")\n",
    "mul_arr = arr2 * arr2\n",
    "print(\"Multiplication of two 2D arrays is: \\n\", mul_arr)"
   ]
  },
  {
   "cell_type": "markdown",
   "metadata": {},
   "source": [
    "### 6. Calculate the dot product of two matrices."
   ]
  },
  {
   "cell_type": "code",
   "execution_count": 9,
   "metadata": {},
   "outputs": [
    {
     "name": "stdout",
     "output_type": "stream",
     "text": [
      "Matrix A: \n",
      " [[1 2]\n",
      " [3 4]]\n",
      "Matrix B: \n",
      " [[5 6]\n",
      " [7 8]]\n",
      "Dot product of the Matrix A and Matrix B is: \n",
      " [[19 22]\n",
      " [43 50]]\n"
     ]
    }
   ],
   "source": [
    "# Define two matrices\n",
    "matrix_A = np.array([[1, 2],\n",
    "                     [3, 4]])\n",
    "\n",
    "matrix_B = np.array([[5, 6],\n",
    "                     [7, 8]])\n",
    "\n",
    "# calculate dot product of two matrices\n",
    "dot_product = np.dot(matrix_A, matrix_B)\n",
    "\n",
    "# print matrices and their dot product\n",
    "print(\"Matrix A: \\n\", matrix_A)\n",
    "print(\"Matrix B: \\n\", matrix_B)\n",
    "print(\"Dot product of the Matrix A and Matrix B is: \\n\", dot_product)"
   ]
  },
  {
   "cell_type": "markdown",
   "metadata": {},
   "source": [
    "### 7. Calculating the Mean, Median & Std. Deviation of 1D array"
   ]
  },
  {
   "cell_type": "code",
   "execution_count": 24,
   "metadata": {},
   "outputs": [
    {
     "name": "stdout",
     "output_type": "stream",
     "text": [
      "1D array: [0 1 2 3 4 5 6 7 8 9]\n",
      "Mean: 4.5\n",
      "Median: 4.5\n",
      "Standard Deviation: 2.8722813232690143\n"
     ]
    }
   ],
   "source": [
    "# Calculate mean\n",
    "mean_val = np.mean(arr1)\n",
    "\n",
    "# Calculate median\n",
    "median_val = np.median(arr1)\n",
    "\n",
    "# Calculate std. deviation\n",
    "std_dev = np.std(arr1)\n",
    "\n",
    "# Print results\n",
    "print(f\"1D array: {arr1}\")\n",
    "print(\"Mean:\", mean_val)\n",
    "print(\"Median:\", median_val)\n",
    "print(\"Standard Deviation:\", std_dev)\n"
   ]
  },
  {
   "cell_type": "markdown",
   "metadata": {},
   "source": [
    "### 8. Find the maximum and minimum values in a 2D array."
   ]
  },
  {
   "cell_type": "code",
   "execution_count": 7,
   "metadata": {},
   "outputs": [
    {
     "name": "stdout",
     "output_type": "stream",
     "text": [
      "2D Array: \n",
      " [[13 16  1]\n",
      " [ 4  4  8]\n",
      " [10 20 19]]\n",
      "Maximum value in the 2D array is:  20\n",
      "Minimum value in the 2D array is:  1\n"
     ]
    }
   ],
   "source": [
    "# Find max value in the 2D array\n",
    "max_val = np.max(arr2)\n",
    "\n",
    "# Find min. value in the 2D array\n",
    "min_val = np.min(arr2)\n",
    "\n",
    "print(\"2D Array: \\n\", arr2)\n",
    "print(\"Maximum value in the 2D array is: \", max_val)\n",
    "print(\"Minimum value in the 2D array is: \", min_val)"
   ]
  },
  {
   "cell_type": "markdown",
   "metadata": {},
   "source": [
    "### 9. Generate an array of 1000 random numbers from a normal distribution with a mean of 0 and a standard deviation of 1."
   ]
  },
  {
   "cell_type": "code",
   "execution_count": 10,
   "metadata": {},
   "outputs": [
    {
     "name": "stdout",
     "output_type": "stream",
     "text": [
      "First 10 random numbers from the normal distribution: \n",
      "[ 0.95008842 -0.15135721 -0.10321885  0.4105985   0.14404357  1.45427351\n",
      "  0.76103773  0.12167502  0.44386323  0.33367433]\n",
      "\n",
      " Mean: -0.049970459293933185\n",
      "Standard Deviation: 0.9805502122823032\n"
     ]
    }
   ],
   "source": [
    "random_numbers = np.random.normal(loc=0, scale=1, size=1000)\n",
    "\n",
    "# print first 10 numbers to verify\n",
    "print(\"First 10 random numbers from the normal distribution: \")\n",
    "print(random_numbers[:10])\n",
    "\n",
    "# print some statistics to verify the distribution\n",
    "print(\"\\n Mean:\", np.mean(random_numbers))\n",
    "print(\"Standard Deviation:\", np.std(random_numbers))"
   ]
  },
  {
   "cell_type": "markdown",
   "metadata": {},
   "source": [
    "### 10. Create a 2D array of shapes (5, 5) with random integers from a uniform distribution between 10 and 50."
   ]
  },
  {
   "cell_type": "code",
   "execution_count": 11,
   "metadata": {},
   "outputs": [
    {
     "name": "stdout",
     "output_type": "stream",
     "text": [
      "2D Array (5x5): \n",
      "[[18 25 46 11 40]\n",
      " [47 10 29 16 39]\n",
      " [13 41 39 26 13]\n",
      " [36 16 47 21 27]\n",
      " [13 30 37 38 24]]\n"
     ]
    }
   ],
   "source": [
    "# create 2D array of shape(5x5) with random integers between 10 & 50\n",
    "array_2d = np.random.randint(10, 51, size=(5, 5))\n",
    "\n",
    "# print 2D array\n",
    "print(\"2D Array (5x5): \")\n",
    "print(array_2d)"
   ]
  },
  {
   "cell_type": "markdown",
   "metadata": {},
   "source": [
    "### 11. Cumulative sum of 1D array"
   ]
  },
  {
   "cell_type": "code",
   "execution_count": 26,
   "metadata": {},
   "outputs": [
    {
     "name": "stdout",
     "output_type": "stream",
     "text": [
      "1D array:  [0 1 2 3 4 5 6 7 8 9]\n",
      "Cumulative Sum: [ 0  1  3  6 10 15 21 28 36 45]\n"
     ]
    }
   ],
   "source": [
    "cumulative_sum = np.cumsum(arr1)\n",
    "\n",
    "# print the 1D array and its cumulative sum\n",
    "print(\"1D array: \", arr1)\n",
    "print(\"Cumulative Sum:\", cumulative_sum)"
   ]
  },
  {
   "cell_type": "markdown",
   "metadata": {},
   "source": [
    "### 12. Compute the correlation coefficient matrix of a 2D array."
   ]
  },
  {
   "cell_type": "code",
   "execution_count": 12,
   "metadata": {},
   "outputs": [
    {
     "name": "stdout",
     "output_type": "stream",
     "text": [
      "2D Array (5x5) is:\n",
      "[[18 25 46 11 40]\n",
      " [47 10 29 16 39]\n",
      " [13 41 39 26 13]\n",
      " [36 16 47 21 27]\n",
      " [13 30 37 38 24]]\n",
      "\n",
      " Correlation Coefficient Matrix:\n",
      "[[ 1.          0.24024423  0.20483802  0.55759148  0.14501973]\n",
      " [ 0.24024423  1.         -0.77644378  0.60257279 -0.74925653]\n",
      " [ 0.20483802 -0.77644378  1.         -0.04015473  0.70517806]\n",
      " [ 0.55759148  0.60257279 -0.04015473  1.         -0.0821296 ]\n",
      " [ 0.14501973 -0.74925653  0.70517806 -0.0821296   1.        ]]\n"
     ]
    }
   ],
   "source": [
    "# considering 2D array of shape (5x5)\n",
    "\n",
    "# pompute the correlation coefficient matrix\n",
    "corre_matrix = np.corrcoef(array_2d)\n",
    "\n",
    "# print 2D array (5x5) and the correlation coefficient matrix\n",
    "print(\"2D Array (5x5) is:\")\n",
    "print(array_2d)\n",
    "print(\"\\n Correlation Coefficient Matrix:\")\n",
    "print(corre_matrix)"
   ]
  },
  {
   "cell_type": "markdown",
   "metadata": {},
   "source": [
    "This correlation coefficient matrix represents the pairwise correlations between variables in a dataset. Each value in the matrix shows the strength and direction of the linear relationship between two variables.\n",
    "- For instance, the correlation of 0.55759148 between the first and fourth variables indicates a moderate positive relationship.\n",
    "- while -0.77644378 between the second and third variables indicates a strong negative relationship.\n",
    "- The diagonal elements are 1, as each variable is perfectly correlated with itself."
   ]
  },
  {
   "cell_type": "markdown",
   "metadata": {},
   "source": [
    "### 13. Simulate rolling a six-sided die 1000 times and count the frequency of each outcome."
   ]
  },
  {
   "cell_type": "code",
   "execution_count": 13,
   "metadata": {},
   "outputs": [
    {
     "name": "stdout",
     "output_type": "stream",
     "text": [
      "Outcome frequencies after rolling a six-sided die 1000 times:\n",
      "1: 149\n",
      "2: 165\n",
      "3: 167\n",
      "4: 182\n",
      "5: 166\n",
      "6: 171\n"
     ]
    }
   ],
   "source": [
    "# simulate rolling a six-sided die 1000 times\n",
    "rolls = np.random.randint(1, 7, size=1000)\n",
    "\n",
    "# count frequency of each outcome (1 through 6)\n",
    "frequencies = np.bincount(rolls, minlength=7)[1:]\n",
    "\n",
    "# print the outcomes and their frequencies\n",
    "print(\"Outcome frequencies after rolling a six-sided die 1000 times:\")\n",
    "for outcome, frequency in enumerate(frequencies, start=1):\n",
    "    print(f\"{outcome}: {frequency}\")"
   ]
  }
 ],
 "metadata": {
  "kernelspec": {
   "display_name": "Python 3",
   "language": "python",
   "name": "python3"
  },
  "language_info": {
   "codemirror_mode": {
    "name": "ipython",
    "version": 3
   },
   "file_extension": ".py",
   "mimetype": "text/x-python",
   "name": "python",
   "nbconvert_exporter": "python",
   "pygments_lexer": "ipython3",
   "version": "3.8.5"
  }
 },
 "nbformat": 4,
 "nbformat_minor": 4
}
