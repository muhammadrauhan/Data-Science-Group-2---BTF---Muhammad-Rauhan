{
 "cells": [
  {
   "cell_type": "markdown",
   "metadata": {},
   "source": [
    "# Task 8:\n",
    "\n",
    "## Simple Data Structures in Python"
   ]
  },
  {
   "cell_type": "markdown",
   "metadata": {},
   "source": [
    "Learn how to create, manipulate and use these data structures effectively in Python programming."
   ]
  },
  {
   "cell_type": "markdown",
   "metadata": {},
   "source": [
    "### List:"
   ]
  },
  {
   "cell_type": "code",
   "execution_count": 1,
   "metadata": {},
   "outputs": [],
   "source": [
    "# Create a list\n",
    "my_list = [1, 2, 3, 4, 5, 6, 7, 8]"
   ]
  },
  {
   "cell_type": "code",
   "execution_count": 2,
   "metadata": {},
   "outputs": [
    {
     "data": {
      "text/plain": [
       "1"
      ]
     },
     "execution_count": 2,
     "metadata": {},
     "output_type": "execute_result"
    }
   ],
   "source": [
    "# Accessing elements\n",
    "my_list[0]"
   ]
  },
  {
   "cell_type": "code",
   "execution_count": 4,
   "metadata": {},
   "outputs": [
    {
     "data": {
      "text/plain": [
       "[1, 2, 3, 4, 5, 6, 7, 9]"
      ]
     },
     "execution_count": 4,
     "metadata": {},
     "output_type": "execute_result"
    }
   ],
   "source": [
    "# Modifying elements\n",
    "my_list[7] = 9\n",
    "my_list"
   ]
  },
  {
   "cell_type": "code",
   "execution_count": 5,
   "metadata": {},
   "outputs": [
    {
     "data": {
      "text/plain": [
       "[1, 2, 3, 4, 5, 6, 7, 9, 10]"
      ]
     },
     "execution_count": 5,
     "metadata": {},
     "output_type": "execute_result"
    }
   ],
   "source": [
    "# Adding elements\n",
    "my_list.append(10)\n",
    "my_list"
   ]
  },
  {
   "cell_type": "code",
   "execution_count": 6,
   "metadata": {},
   "outputs": [
    {
     "data": {
      "text/plain": [
       "[2, 3, 4, 5, 6, 7, 9, 10]"
      ]
     },
     "execution_count": 6,
     "metadata": {},
     "output_type": "execute_result"
    }
   ],
   "source": [
    "# Removing elements\n",
    "my_list.remove(1)\n",
    "my_list"
   ]
  },
  {
   "cell_type": "markdown",
   "metadata": {},
   "source": [
    "### Tuple:"
   ]
  },
  {
   "cell_type": "code",
   "execution_count": 7,
   "metadata": {},
   "outputs": [
    {
     "data": {
      "text/plain": [
       "1"
      ]
     },
     "execution_count": 7,
     "metadata": {},
     "output_type": "execute_result"
    }
   ],
   "source": [
    "my_tuple = (1,2,3,4)\n",
    "\n",
    "# Accessing element\n",
    "my_tuple[0]"
   ]
  },
  {
   "cell_type": "markdown",
   "metadata": {},
   "source": [
    "We cannot modify 'Tuple' after creation because 'Tuple' are Immutable in nature. "
   ]
  },
  {
   "cell_type": "markdown",
   "metadata": {},
   "source": [
    "### Set:"
   ]
  },
  {
   "cell_type": "code",
   "execution_count": 8,
   "metadata": {},
   "outputs": [
    {
     "data": {
      "text/plain": [
       "{1, 2, 3, 4, 5, 6}"
      ]
     },
     "execution_count": 8,
     "metadata": {},
     "output_type": "execute_result"
    }
   ],
   "source": [
    "my_set = {1,2,3,4,5}\n",
    "\n",
    "# Adding element\n",
    "my_set.add(6)\n",
    "my_set"
   ]
  },
  {
   "cell_type": "code",
   "execution_count": 9,
   "metadata": {},
   "outputs": [
    {
     "data": {
      "text/plain": [
       "{2, 3, 4, 5, 6}"
      ]
     },
     "execution_count": 9,
     "metadata": {},
     "output_type": "execute_result"
    }
   ],
   "source": [
    "# Removing element\n",
    "my_set.remove(1)\n",
    "my_set"
   ]
  },
  {
   "cell_type": "markdown",
   "metadata": {},
   "source": [
    "The elements in 'Set' must be unique. As no duplicates are allowed in 'Set'."
   ]
  },
  {
   "cell_type": "markdown",
   "metadata": {},
   "source": [
    "### Dictionary:"
   ]
  },
  {
   "cell_type": "code",
   "execution_count": 10,
   "metadata": {},
   "outputs": [
    {
     "data": {
      "text/plain": [
       "1"
      ]
     },
     "execution_count": 10,
     "metadata": {},
     "output_type": "execute_result"
    }
   ],
   "source": [
    "dict = {'a' : 1, 'b' : 2, 'c' : 3}\n",
    "\n",
    "# Accessing element\n",
    "dict['a']"
   ]
  },
  {
   "cell_type": "code",
   "execution_count": 11,
   "metadata": {},
   "outputs": [
    {
     "data": {
      "text/plain": [
       "{'a': 1, 'b': 4, 'c': 3}"
      ]
     },
     "execution_count": 11,
     "metadata": {},
     "output_type": "execute_result"
    }
   ],
   "source": [
    "# Modifying elements\n",
    "dict['b'] = 4\n",
    "dict"
   ]
  },
  {
   "cell_type": "code",
   "execution_count": 12,
   "metadata": {},
   "outputs": [
    {
     "data": {
      "text/plain": [
       "{'a': 1, 'b': 4, 'c': 3, 'd': 5}"
      ]
     },
     "execution_count": 12,
     "metadata": {},
     "output_type": "execute_result"
    }
   ],
   "source": [
    "# Adding element\n",
    "dict['d'] = 5\n",
    "dict"
   ]
  },
  {
   "cell_type": "code",
   "execution_count": 13,
   "metadata": {},
   "outputs": [
    {
     "data": {
      "text/plain": [
       "{'a': 1, 'b': 4, 'd': 5}"
      ]
     },
     "execution_count": 13,
     "metadata": {},
     "output_type": "execute_result"
    }
   ],
   "source": [
    "# Removing element\n",
    "del dict['c']\n",
    "dict"
   ]
  },
  {
   "cell_type": "markdown",
   "metadata": {},
   "source": [
    "## Project: Inventory Management System"
   ]
  },
  {
   "cell_type": "markdown",
   "metadata": {},
   "source": [
    "This system manages products, categories and stock levels."
   ]
  },
  {
   "cell_type": "code",
   "execution_count": 2,
   "metadata": {},
   "outputs": [
    {
     "name": "stdout",
     "output_type": "stream",
     "text": [
      "All Products in Inventory: \n",
      "ID: ID001, Name: Product1, Category: Category1, Stock: 50\n",
      "ID: ID002, Name: Product2, Category: Category2, Stock: 70\n",
      "ID: ID003, Name: Product3, Category: Category1, Stock: 20\n",
      "ID: ID004, Name: Product4, Category: Category3, Stock: 25\n",
      "\n",
      "Product in Category 'Category1':\n",
      "ID: ID001, Name: Product1, Stock: 50\n",
      "ID: ID003, Name: Product3, Stock: 20\n",
      "\n",
      "Product in Category 'Category3':\n",
      "ID: ID004, Name: Product4, Stock: 25\n"
     ]
    }
   ],
   "source": [
    "# Initializing data structures\n",
    "\n",
    "products = {}\n",
    "product_order = []\n",
    "categories = set()\n",
    "\n",
    "def add_product(product_id, name, category, stock):\n",
    "    if product_id in products:\n",
    "        print(f\"Product ID: {product_id} already exists!\")\n",
    "        return\n",
    "    \n",
    "    products[product_id] = {'info' : (name, category),\n",
    "                           'stock' : stock}\n",
    "    \n",
    "    # Add product ID to order list\n",
    "    product_order.append(product_id)\n",
    "    \n",
    "    # Add category to set\n",
    "    categories.add(category)\n",
    "    \n",
    "    \n",
    "\n",
    "def update_stock(product_id, quantity):\n",
    "    if product_id not in products:\n",
    "        print(f\"Product ID: {product_id} does not exists!\")\n",
    "        return\n",
    "    \n",
    "    products[product_id]['stock'] += quantity\n",
    "    \n",
    "# Display all products\n",
    "def display_products():\n",
    "    if not products:\n",
    "        print(\"No product in the inventory\")\n",
    "        return\n",
    "    \n",
    "    print(\"All Products in Inventory: \")\n",
    "    for product_id in product_order:\n",
    "        name, category = products[product_id]['info']\n",
    "        stock = products[product_id]['stock']\n",
    "        print(f\"ID: {product_id}, Name: {name}, Category: {category}, Stock: {stock}\")\n",
    "        \n",
    "# Display product by category\n",
    "def display_by_category(category):\n",
    "    \n",
    "    print(f\"Product in Category '{category}':\")\n",
    "    found = False\n",
    "    for product_id in product_order:\n",
    "        name, prod_category = products[product_id]['info']\n",
    "        if prod_category == category:\n",
    "            stock = products[product_id]['stock']\n",
    "            print(f\"ID: {product_id}, Name: {name}, Stock: {stock}\")\n",
    "            found = True\n",
    "    if not found:\n",
    "        print(f\"No products found in category '{category}'.\")\n",
    "        \n",
    "\n",
    "        \n",
    "        \n",
    "        \n",
    "add_product('ID001', 'Product1', 'Category1', 50)\n",
    "add_product('ID002', 'Product2', 'Category2', 10)\n",
    "add_product('ID003', 'Product3', 'Category1', 20)\n",
    "add_product('ID004', 'Product4', 'Category3', 30)\n",
    "\n",
    "\n",
    "\n",
    "# Update stock\n",
    "update_stock('ID002', 60)\n",
    "update_stock('ID004', -5)\n",
    "\n",
    "# Display\n",
    "display_products()\n",
    "print()\n",
    "display_by_category('Category1')\n",
    "print()\n",
    "display_by_category('Category3')"
   ]
  }
 ],
 "metadata": {
  "kernelspec": {
   "display_name": "Python 3",
   "language": "python",
   "name": "python3"
  },
  "language_info": {
   "codemirror_mode": {
    "name": "ipython",
    "version": 3
   },
   "file_extension": ".py",
   "mimetype": "text/x-python",
   "name": "python",
   "nbconvert_exporter": "python",
   "pygments_lexer": "ipython3",
   "version": "3.8.5"
  }
 },
 "nbformat": 4,
 "nbformat_minor": 4
}
