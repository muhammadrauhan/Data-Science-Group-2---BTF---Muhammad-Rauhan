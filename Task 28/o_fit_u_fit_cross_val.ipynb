{
 "cells": [
  {
   "cell_type": "markdown",
   "metadata": {},
   "source": [
    "# Task 28: Exploring Cross-Validation, Overfitting, and Underfitting:"
   ]
  },
  {
   "cell_type": "markdown",
   "metadata": {},
   "source": [
    "## Overfitting:"
   ]
  },
  {
   "cell_type": "markdown",
   "metadata": {},
   "source": [
    "**Due to excess knowledge of attributes where model tries to use all attributes (even the least important ones)**.\n",
    "<br>\n",
    "OR we can also say that <br>\n",
    "**Covering every aspect of data given to train hence isn't flexible enough to identify those object with same attributes little less or more**."
   ]
  },
  {
   "cell_type": "markdown",
   "metadata": {},
   "source": [
    "e.g\n",
    "<br>\n",
    "We train our model with following attributes,\n",
    "<br>\n",
    "- shape = Sphere\n",
    "- play -> can playable\n",
    "- eat -> not eatable\n",
    "- radius = 5cm"
   ]
  },
  {
   "cell_type": "markdown",
   "metadata": {},
   "source": [
    "If it is satisfying these conditions then output will be **'Ball'**.\n",
    "<br>\n",
    "- We give 10cm ball or basket ball(which is bigger in size) as a input, due to excess knowledge of attributes it cannot identify it. That is called 'Overfitting'."
   ]
  },
  {
   "cell_type": "markdown",
   "metadata": {},
   "source": [
    "## Underfitting:"
   ]
  },
  {
   "cell_type": "markdown",
   "metadata": {},
   "source": [
    "- Due to lack of enough attributes, model doesn't has enough knowledge and gives incoherent results.\n",
    "- Attributes on which model is trained are very less and hence can't identify objects properly."
   ]
  },
  {
   "cell_type": "markdown",
   "metadata": {},
   "source": [
    "e.g\n",
    "<br>\n",
    "We train our model **'Sphere'** shape in which if it's sphere in shape then it will give the output **'Ball'**.\n",
    "<br>\n",
    "- We give 'Orange' as an input, due to lack of attributes it give the output as 'Ball'. This is called 'Underfitting'."
   ]
  },
  {
   "cell_type": "markdown",
   "metadata": {},
   "source": [
    "## Cross-Validation:"
   ]
  },
  {
   "cell_type": "markdown",
   "metadata": {},
   "source": [
    "In machine learning, we couldn’t fit the model on the training data and can’t say that the model will work accurately for the real data. For this, we must assure that our model got the correct patterns from the data, and it is not getting up too much noise. For this purpose, we use the cross-validation technique."
   ]
  },
  {
   "cell_type": "markdown",
   "metadata": {},
   "source": [
    "**Cross validation** is a technique used in machine learning to evaluate the performance of a model on unseen data.\n",
    "- It involves dividing the available data into multiple folds or subsets, using one of these folds as a validation set, and training the model on the remaining folds.\n",
    "- This process is repeated multiple times, each time using a different fold as the validation set.\n",
    "- Finally, the results from each validation step are averaged to produce a more robust estimate of the model’s performance."
   ]
  },
  {
   "cell_type": "markdown",
   "metadata": {},
   "source": [
    "Cross validation is an important step in the machine learning process and helps to ensure that the model selected for deployment is robust and generalizes well to new data."
   ]
  },
  {
   "cell_type": "markdown",
   "metadata": {},
   "source": [
    "##### Purpose:"
   ]
  },
  {
   "cell_type": "markdown",
   "metadata": {},
   "source": [
    "The main purpose of cross validation is to prevent overfitting, which occurs when a model is trained too well on the training data and performs poorly on new, unseen data."
   ]
  }
 ],
 "metadata": {
  "kernelspec": {
   "display_name": "Python 3",
   "language": "python",
   "name": "python3"
  },
  "language_info": {
   "codemirror_mode": {
    "name": "ipython",
    "version": 3
   },
   "file_extension": ".py",
   "mimetype": "text/x-python",
   "name": "python",
   "nbconvert_exporter": "python",
   "pygments_lexer": "ipython3",
   "version": "3.8.5"
  }
 },
 "nbformat": 4,
 "nbformat_minor": 4
}
