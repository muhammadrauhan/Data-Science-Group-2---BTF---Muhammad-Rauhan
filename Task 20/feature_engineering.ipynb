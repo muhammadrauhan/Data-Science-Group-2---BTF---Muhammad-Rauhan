{
 "cells": [
  {
   "cell_type": "markdown",
   "metadata": {},
   "source": [
    "# Task 20: Feature Engineering"
   ]
  },
  {
   "cell_type": "markdown",
   "metadata": {},
   "source": [
    "Feature engineering is the process of creating new features or modifying existing ones from your raw data to improve the performance of a machine learning model.\n",
    "\n",
    "In simpler terms, it's like preparing ingredients before cooking a meal. As in feature engineering, you transform your data in ways that help the model understand it better and make more accurate predictions."
   ]
  },
  {
   "cell_type": "markdown",
   "metadata": {},
   "source": [
    "## Importing Libraries:"
   ]
  },
  {
   "cell_type": "code",
   "execution_count": 16,
   "metadata": {},
   "outputs": [],
   "source": [
    "import pandas as pd\n",
    "import numpy as np\n",
    "import matplotlib.pyplot as plt\n",
    "import seaborn as sns\n",
    "from sklearn.feature_selection import mutual_info_regression\n",
    "from sklearn.preprocessing import PolynomialFeatures\n",
    "from sklearn.preprocessing import LabelEncoder, OneHotEncoder"
   ]
  },
  {
   "cell_type": "markdown",
   "metadata": {},
   "source": [
    "- **mutual_info_regression** calculates the mutual information between each feature of X and the target variable Y independent of the remaining features of X."
   ]
  },
  {
   "cell_type": "markdown",
   "metadata": {},
   "source": [
    "### Loading the Dataset 1:"
   ]
  },
  {
   "cell_type": "code",
   "execution_count": 2,
   "metadata": {},
   "outputs": [],
   "source": [
    "imdb_data = pd.read_csv(\"imdb_data.csv\")"
   ]
  },
  {
   "cell_type": "markdown",
   "metadata": {},
   "source": [
    "#### About Dataset:"
   ]
  },
  {
   "cell_type": "markdown",
   "metadata": {},
   "source": [
    "Dataset containing information about movies which appears on IMDB website.\n",
    "<br>\n",
    "Dataset contains 3348 observations described by 12 attributes."
   ]
  },
  {
   "cell_type": "code",
   "execution_count": 26,
   "metadata": {},
   "outputs": [
    {
     "data": {
      "text/plain": [
       "(3348, 12)"
      ]
     },
     "execution_count": 26,
     "metadata": {},
     "output_type": "execute_result"
    }
   ],
   "source": [
    "# total no. of rows and columns\n",
    "imdb_data.shape"
   ]
  },
  {
   "cell_type": "code",
   "execution_count": 27,
   "metadata": {},
   "outputs": [
    {
     "name": "stdout",
     "output_type": "stream",
     "text": [
      "<class 'pandas.core.frame.DataFrame'>\n",
      "RangeIndex: 3348 entries, 0 to 3347\n",
      "Data columns (total 12 columns):\n",
      " #   Column          Non-Null Count  Dtype  \n",
      "---  ------          --------------  -----  \n",
      " 0   id              3348 non-null   object \n",
      " 1   primaryTitle    3348 non-null   object \n",
      " 2   originalTitle   3348 non-null   object \n",
      " 3   isAdult         3348 non-null   int64  \n",
      " 4   runtimeMinutes  3348 non-null   int64  \n",
      " 5   genres          3348 non-null   object \n",
      " 6   averageRating   3348 non-null   float64\n",
      " 7   numVotes        3348 non-null   int64  \n",
      " 8   budget          3348 non-null   int64  \n",
      " 9   gross           3297 non-null   float64\n",
      " 10  release_date    3343 non-null   object \n",
      " 11  directors       3348 non-null   object \n",
      "dtypes: float64(2), int64(4), object(6)\n",
      "memory usage: 235.5+ KB\n"
     ]
    }
   ],
   "source": [
    "# about columns information\n",
    "imdb_data.info()"
   ]
  },
  {
   "cell_type": "markdown",
   "metadata": {},
   "source": [
    "##### Handling Missing Values:"
   ]
  },
  {
   "cell_type": "code",
   "execution_count": 12,
   "metadata": {},
   "outputs": [
    {
     "name": "stdout",
     "output_type": "stream",
     "text": [
      "id                 0\n",
      "primaryTitle       0\n",
      "originalTitle      0\n",
      "isAdult            0\n",
      "runtimeMinutes     0\n",
      "genres             0\n",
      "averageRating      0\n",
      "numVotes           0\n",
      "budget             0\n",
      "gross             51\n",
      "release_date       5\n",
      "directors          0\n",
      "dtype: int64\n"
     ]
    }
   ],
   "source": [
    "# check for missing values\n",
    "print(imdb_data.isna().sum())"
   ]
  },
  {
   "cell_type": "code",
   "execution_count": 3,
   "metadata": {},
   "outputs": [
    {
     "name": "stdout",
     "output_type": "stream",
     "text": [
      "Missing values after imputed:\n",
      "id                0\n",
      "primaryTitle      0\n",
      "originalTitle     0\n",
      "isAdult           0\n",
      "runtimeMinutes    0\n",
      "genres            0\n",
      "averageRating     0\n",
      "numVotes          0\n",
      "budget            0\n",
      "gross             0\n",
      "release_date      5\n",
      "directors         0\n",
      "dtype: int64\n"
     ]
    }
   ],
   "source": [
    "# fill the missing values of 'gross' with their mean\n",
    "\n",
    "imdb_data['gross'] = imdb_data['gross'].fillna(imdb_data['gross'].mean())\n",
    "\n",
    "# after imputing, check missing values\n",
    "print(\"Missing values after imputed:\")\n",
    "print(imdb_data.isna().sum())"
   ]
  },
  {
   "cell_type": "code",
   "execution_count": 4,
   "metadata": {},
   "outputs": [
    {
     "name": "stdout",
     "output_type": "stream",
     "text": [
      "Missing values after imputation:\n",
      "id                0\n",
      "primaryTitle      0\n",
      "originalTitle     0\n",
      "isAdult           0\n",
      "runtimeMinutes    0\n",
      "genres            0\n",
      "averageRating     0\n",
      "numVotes          0\n",
      "budget            0\n",
      "gross             0\n",
      "release_date      0\n",
      "directors         0\n",
      "dtype: int64\n"
     ]
    }
   ],
   "source": [
    "# fill missing values of 'release_date' with the most frequent value (mode)\n",
    "imdb_data['release_date'] = imdb_data['release_date'].fillna(imdb_data['release_date'].mode()[0])\n",
    "\n",
    "# after imputing, check missing values\n",
    "print(\"Missing values after imputation:\")\n",
    "print(imdb_data.isna().sum())"
   ]
  },
  {
   "cell_type": "code",
   "execution_count": 16,
   "metadata": {},
   "outputs": [
    {
     "data": {
      "text/html": [
       "<div>\n",
       "<style scoped>\n",
       "    .dataframe tbody tr th:only-of-type {\n",
       "        vertical-align: middle;\n",
       "    }\n",
       "\n",
       "    .dataframe tbody tr th {\n",
       "        vertical-align: top;\n",
       "    }\n",
       "\n",
       "    .dataframe thead th {\n",
       "        text-align: right;\n",
       "    }\n",
       "</style>\n",
       "<table border=\"1\" class=\"dataframe\">\n",
       "  <thead>\n",
       "    <tr style=\"text-align: right;\">\n",
       "      <th></th>\n",
       "      <th>isAdult</th>\n",
       "      <th>runtimeMinutes</th>\n",
       "      <th>averageRating</th>\n",
       "      <th>numVotes</th>\n",
       "      <th>budget</th>\n",
       "      <th>gross</th>\n",
       "    </tr>\n",
       "  </thead>\n",
       "  <tbody>\n",
       "    <tr>\n",
       "      <th>count</th>\n",
       "      <td>3348.0</td>\n",
       "      <td>3348.000000</td>\n",
       "      <td>3348.00000</td>\n",
       "      <td>3.348000e+03</td>\n",
       "      <td>3.348000e+03</td>\n",
       "      <td>3.348000e+03</td>\n",
       "    </tr>\n",
       "    <tr>\n",
       "      <th>mean</th>\n",
       "      <td>0.0</td>\n",
       "      <td>112.739845</td>\n",
       "      <td>6.73853</td>\n",
       "      <td>2.155492e+05</td>\n",
       "      <td>5.039280e+07</td>\n",
       "      <td>1.681599e+08</td>\n",
       "    </tr>\n",
       "    <tr>\n",
       "      <th>std</th>\n",
       "      <td>0.0</td>\n",
       "      <td>19.927703</td>\n",
       "      <td>0.88221</td>\n",
       "      <td>2.480211e+05</td>\n",
       "      <td>5.178614e+07</td>\n",
       "      <td>2.348408e+08</td>\n",
       "    </tr>\n",
       "    <tr>\n",
       "      <th>min</th>\n",
       "      <td>0.0</td>\n",
       "      <td>63.000000</td>\n",
       "      <td>1.00000</td>\n",
       "      <td>5.000400e+04</td>\n",
       "      <td>1.800000e+01</td>\n",
       "      <td>2.100000e+02</td>\n",
       "    </tr>\n",
       "    <tr>\n",
       "      <th>25%</th>\n",
       "      <td>0.0</td>\n",
       "      <td>98.000000</td>\n",
       "      <td>6.20000</td>\n",
       "      <td>7.897700e+04</td>\n",
       "      <td>1.500000e+07</td>\n",
       "      <td>3.726425e+07</td>\n",
       "    </tr>\n",
       "    <tr>\n",
       "      <th>50%</th>\n",
       "      <td>0.0</td>\n",
       "      <td>109.000000</td>\n",
       "      <td>6.80000</td>\n",
       "      <td>1.290400e+05</td>\n",
       "      <td>3.200000e+07</td>\n",
       "      <td>9.098894e+07</td>\n",
       "    </tr>\n",
       "    <tr>\n",
       "      <th>75%</th>\n",
       "      <td>0.0</td>\n",
       "      <td>124.000000</td>\n",
       "      <td>7.30000</td>\n",
       "      <td>2.468495e+05</td>\n",
       "      <td>6.800000e+07</td>\n",
       "      <td>1.977018e+08</td>\n",
       "    </tr>\n",
       "    <tr>\n",
       "      <th>max</th>\n",
       "      <td>0.0</td>\n",
       "      <td>242.000000</td>\n",
       "      <td>9.30000</td>\n",
       "      <td>2.817283e+06</td>\n",
       "      <td>3.560000e+08</td>\n",
       "      <td>2.923706e+09</td>\n",
       "    </tr>\n",
       "  </tbody>\n",
       "</table>\n",
       "</div>"
      ],
      "text/plain": [
       "       isAdult  runtimeMinutes  averageRating      numVotes        budget  \\\n",
       "count   3348.0     3348.000000     3348.00000  3.348000e+03  3.348000e+03   \n",
       "mean       0.0      112.739845        6.73853  2.155492e+05  5.039280e+07   \n",
       "std        0.0       19.927703        0.88221  2.480211e+05  5.178614e+07   \n",
       "min        0.0       63.000000        1.00000  5.000400e+04  1.800000e+01   \n",
       "25%        0.0       98.000000        6.20000  7.897700e+04  1.500000e+07   \n",
       "50%        0.0      109.000000        6.80000  1.290400e+05  3.200000e+07   \n",
       "75%        0.0      124.000000        7.30000  2.468495e+05  6.800000e+07   \n",
       "max        0.0      242.000000        9.30000  2.817283e+06  3.560000e+08   \n",
       "\n",
       "              gross  \n",
       "count  3.348000e+03  \n",
       "mean   1.681599e+08  \n",
       "std    2.348408e+08  \n",
       "min    2.100000e+02  \n",
       "25%    3.726425e+07  \n",
       "50%    9.098894e+07  \n",
       "75%    1.977018e+08  \n",
       "max    2.923706e+09  "
      ]
     },
     "execution_count": 16,
     "metadata": {},
     "output_type": "execute_result"
    }
   ],
   "source": [
    "# summary statistics\n",
    "imdb_data.describe()"
   ]
  },
  {
   "cell_type": "code",
   "execution_count": 17,
   "metadata": {},
   "outputs": [
    {
     "data": {
      "text/html": [
       "<div>\n",
       "<style scoped>\n",
       "    .dataframe tbody tr th:only-of-type {\n",
       "        vertical-align: middle;\n",
       "    }\n",
       "\n",
       "    .dataframe tbody tr th {\n",
       "        vertical-align: top;\n",
       "    }\n",
       "\n",
       "    .dataframe thead th {\n",
       "        text-align: right;\n",
       "    }\n",
       "</style>\n",
       "<table border=\"1\" class=\"dataframe\">\n",
       "  <thead>\n",
       "    <tr style=\"text-align: right;\">\n",
       "      <th></th>\n",
       "      <th>id</th>\n",
       "      <th>primaryTitle</th>\n",
       "      <th>originalTitle</th>\n",
       "      <th>isAdult</th>\n",
       "      <th>runtimeMinutes</th>\n",
       "      <th>genres</th>\n",
       "      <th>averageRating</th>\n",
       "      <th>numVotes</th>\n",
       "      <th>budget</th>\n",
       "      <th>gross</th>\n",
       "      <th>release_date</th>\n",
       "      <th>directors</th>\n",
       "    </tr>\n",
       "  </thead>\n",
       "  <tbody>\n",
       "    <tr>\n",
       "      <th>0</th>\n",
       "      <td>tt0035423</td>\n",
       "      <td>Kate &amp; Leopold</td>\n",
       "      <td>Kate &amp; Leopold</td>\n",
       "      <td>0</td>\n",
       "      <td>118</td>\n",
       "      <td>Comedy,Fantasy,Romance</td>\n",
       "      <td>6.4</td>\n",
       "      <td>87925</td>\n",
       "      <td>48000000</td>\n",
       "      <td>76019048.0</td>\n",
       "      <td>December 11, 2001</td>\n",
       "      <td>James Mangold</td>\n",
       "    </tr>\n",
       "    <tr>\n",
       "      <th>1</th>\n",
       "      <td>tt0065421</td>\n",
       "      <td>The Aristocats</td>\n",
       "      <td>The AristoCats</td>\n",
       "      <td>0</td>\n",
       "      <td>78</td>\n",
       "      <td>Adventure,Animation,Comedy</td>\n",
       "      <td>7.1</td>\n",
       "      <td>111758</td>\n",
       "      <td>4000000</td>\n",
       "      <td>35459543.0</td>\n",
       "      <td>December 11, 1970</td>\n",
       "      <td>Wolfgang Reitherman</td>\n",
       "    </tr>\n",
       "    <tr>\n",
       "      <th>2</th>\n",
       "      <td>tt0065938</td>\n",
       "      <td>Kelly's Heroes</td>\n",
       "      <td>Kelly's Heroes</td>\n",
       "      <td>0</td>\n",
       "      <td>144</td>\n",
       "      <td>Adventure,Comedy,War</td>\n",
       "      <td>7.6</td>\n",
       "      <td>52628</td>\n",
       "      <td>4000000</td>\n",
       "      <td>5200000.0</td>\n",
       "      <td>January 1, 1970</td>\n",
       "      <td>Brian G. Hutton</td>\n",
       "    </tr>\n",
       "    <tr>\n",
       "      <th>3</th>\n",
       "      <td>tt0066026</td>\n",
       "      <td>M*A*S*H</td>\n",
       "      <td>M*A*S*H</td>\n",
       "      <td>0</td>\n",
       "      <td>116</td>\n",
       "      <td>Comedy,Drama,War</td>\n",
       "      <td>7.4</td>\n",
       "      <td>75784</td>\n",
       "      <td>3500000</td>\n",
       "      <td>81600000.0</td>\n",
       "      <td>January 25, 1970</td>\n",
       "      <td>Robert Altman</td>\n",
       "    </tr>\n",
       "    <tr>\n",
       "      <th>4</th>\n",
       "      <td>tt0066206</td>\n",
       "      <td>Patton</td>\n",
       "      <td>Patton</td>\n",
       "      <td>0</td>\n",
       "      <td>172</td>\n",
       "      <td>Biography,Drama,War</td>\n",
       "      <td>7.9</td>\n",
       "      <td>106476</td>\n",
       "      <td>12000000</td>\n",
       "      <td>61749765.0</td>\n",
       "      <td>February 4, 1970</td>\n",
       "      <td>Franklin J. Schaffner</td>\n",
       "    </tr>\n",
       "  </tbody>\n",
       "</table>\n",
       "</div>"
      ],
      "text/plain": [
       "          id    primaryTitle   originalTitle  isAdult  runtimeMinutes  \\\n",
       "0  tt0035423  Kate & Leopold  Kate & Leopold        0             118   \n",
       "1  tt0065421  The Aristocats  The AristoCats        0              78   \n",
       "2  tt0065938  Kelly's Heroes  Kelly's Heroes        0             144   \n",
       "3  tt0066026         M*A*S*H         M*A*S*H        0             116   \n",
       "4  tt0066206          Patton          Patton        0             172   \n",
       "\n",
       "                       genres  averageRating  numVotes    budget       gross  \\\n",
       "0      Comedy,Fantasy,Romance            6.4     87925  48000000  76019048.0   \n",
       "1  Adventure,Animation,Comedy            7.1    111758   4000000  35459543.0   \n",
       "2        Adventure,Comedy,War            7.6     52628   4000000   5200000.0   \n",
       "3            Comedy,Drama,War            7.4     75784   3500000  81600000.0   \n",
       "4         Biography,Drama,War            7.9    106476  12000000  61749765.0   \n",
       "\n",
       "        release_date              directors  \n",
       "0  December 11, 2001          James Mangold  \n",
       "1  December 11, 1970    Wolfgang Reitherman  \n",
       "2    January 1, 1970        Brian G. Hutton  \n",
       "3   January 25, 1970          Robert Altman  \n",
       "4   February 4, 1970  Franklin J. Schaffner  "
      ]
     },
     "execution_count": 17,
     "metadata": {},
     "output_type": "execute_result"
    }
   ],
   "source": [
    "# look out first few rows\n",
    "imdb_data.head()"
   ]
  },
  {
   "cell_type": "markdown",
   "metadata": {},
   "source": [
    "## 1. Feature Selection:"
   ]
  },
  {
   "cell_type": "markdown",
   "metadata": {},
   "source": [
    "For feature selection you can use one of the following method,\n",
    "- Mutual Information\n",
    "- Chi Square Test"
   ]
  },
  {
   "cell_type": "markdown",
   "metadata": {},
   "source": [
    "For Feature Seelction, I used Mutual Information method."
   ]
  },
  {
   "cell_type": "markdown",
   "metadata": {},
   "source": [
    "##### Correlation Analysis:"
   ]
  },
  {
   "cell_type": "code",
   "execution_count": 25,
   "metadata": {},
   "outputs": [
    {
     "data": {
      "text/html": [
       "<div>\n",
       "<style scoped>\n",
       "    .dataframe tbody tr th:only-of-type {\n",
       "        vertical-align: middle;\n",
       "    }\n",
       "\n",
       "    .dataframe tbody tr th {\n",
       "        vertical-align: top;\n",
       "    }\n",
       "\n",
       "    .dataframe thead th {\n",
       "        text-align: right;\n",
       "    }\n",
       "</style>\n",
       "<table border=\"1\" class=\"dataframe\">\n",
       "  <thead>\n",
       "    <tr style=\"text-align: right;\">\n",
       "      <th></th>\n",
       "      <th>runtimeMinutes</th>\n",
       "      <th>averageRating</th>\n",
       "      <th>numVotes</th>\n",
       "      <th>budget</th>\n",
       "      <th>gross</th>\n",
       "    </tr>\n",
       "  </thead>\n",
       "  <tbody>\n",
       "    <tr>\n",
       "      <th>runtimeMinutes</th>\n",
       "      <td>1.000000</td>\n",
       "      <td>0.359969</td>\n",
       "      <td>0.333702</td>\n",
       "      <td>0.309109</td>\n",
       "      <td>0.250383</td>\n",
       "    </tr>\n",
       "    <tr>\n",
       "      <th>averageRating</th>\n",
       "      <td>0.359969</td>\n",
       "      <td>1.000000</td>\n",
       "      <td>0.484695</td>\n",
       "      <td>-0.079510</td>\n",
       "      <td>0.126851</td>\n",
       "    </tr>\n",
       "    <tr>\n",
       "      <th>numVotes</th>\n",
       "      <td>0.333702</td>\n",
       "      <td>0.484695</td>\n",
       "      <td>1.000000</td>\n",
       "      <td>0.306588</td>\n",
       "      <td>0.520552</td>\n",
       "    </tr>\n",
       "    <tr>\n",
       "      <th>budget</th>\n",
       "      <td>0.309109</td>\n",
       "      <td>-0.079510</td>\n",
       "      <td>0.306588</td>\n",
       "      <td>1.000000</td>\n",
       "      <td>0.692817</td>\n",
       "    </tr>\n",
       "    <tr>\n",
       "      <th>gross</th>\n",
       "      <td>0.250383</td>\n",
       "      <td>0.126851</td>\n",
       "      <td>0.520552</td>\n",
       "      <td>0.692817</td>\n",
       "      <td>1.000000</td>\n",
       "    </tr>\n",
       "  </tbody>\n",
       "</table>\n",
       "</div>"
      ],
      "text/plain": [
       "                runtimeMinutes  averageRating  numVotes    budget     gross\n",
       "runtimeMinutes        1.000000       0.359969  0.333702  0.309109  0.250383\n",
       "averageRating         0.359969       1.000000  0.484695 -0.079510  0.126851\n",
       "numVotes              0.333702       0.484695  1.000000  0.306588  0.520552\n",
       "budget                0.309109      -0.079510  0.306588  1.000000  0.692817\n",
       "gross                 0.250383       0.126851  0.520552  0.692817  1.000000"
      ]
     },
     "execution_count": 25,
     "metadata": {},
     "output_type": "execute_result"
    }
   ],
   "source": [
    "# select numeric features\n",
    "num_featrs = ['runtimeMinutes', 'averageRating', 'numVotes', 'budget', 'gross']\n",
    "\n",
    "# compute correlation matrix\n",
    "correlation_matrix = imdb_data[num_featrs].corr()\n",
    "correlation_matrix"
   ]
  },
  {
   "cell_type": "code",
   "execution_count": 19,
   "metadata": {},
   "outputs": [
    {
     "data": {
      "image/png": "[encoded data removed]",
      "text/plain": [
       "<Figure size 720x432 with 2 Axes>"
      ]
     },
     "metadata": {
      "needs_background": "light"
     },
     "output_type": "display_data"
    }
   ],
   "source": [
    "# plotting\n",
    "plt.figure(figsize=(10, 6))\n",
    "sns.heatmap(correlation_matrix, annot=True, cmap='coolwarm')\n",
    "plt.title('Correlation Matrix')\n",
    "plt.show()"
   ]
  },
  {
   "cell_type": "markdown",
   "metadata": {},
   "source": [
    "##### Computation of Mutual Information:"
   ]
  },
  {
   "cell_type": "markdown",
   "metadata": {},
   "source": [
    "**Mutual Information** Measures the amount of information obtained about one variable through another variable. In feature selection, it tells us how much knowing a feature reduces uncertainty about the target variable."
   ]
  },
  {
   "cell_type": "code",
   "execution_count": 26,
   "metadata": {},
   "outputs": [
    {
     "name": "stdout",
     "output_type": "stream",
     "text": [
      "Mutual Information Scores:\n",
      "\n",
      "runtimeMinutes: 0.056624835203852975\n",
      "averageRating: 3.5544455716871743\n",
      "numVotes: 0.20024024966552556\n",
      "budget: 0.035623624115525665\n",
      "gross: 0.04001045095503741\n"
     ]
    }
   ],
   "source": [
    "# compute mutual information with target (averageRating)\n",
    "X = imdb_data[num_featrs].values\n",
    "y = imdb_data['averageRating'].values\n",
    "mi_scores = mutual_info_regression(X, y)\n",
    "\n",
    "print(\"Mutual Information Scores:\\n\")\n",
    "for i, feature in enumerate(num_featrs):\n",
    "    print(f\"{feature}: {mi_scores[i]}\")"
   ]
  },
  {
   "cell_type": "markdown",
   "metadata": {},
   "source": [
    "##### Select features based on correlation and mutual information:"
   ]
  },
  {
   "cell_type": "code",
   "execution_count": 32,
   "metadata": {},
   "outputs": [
    {
     "name": "stdout",
     "output_type": "stream",
     "text": [
      "Selected Features:\n",
      " ['runtimeMinutes', 'averageRating', 'numVotes', 'gross']\n"
     ]
    }
   ],
   "source": [
    "# threshold for correlation (absolute value) and mutual information scores\n",
    "selected_featrs = [feature for feature in num_featrs if abs(correlation_matrix.loc['averageRating', feature]) > 0.1 or mi_scores[num_featrs.index(feature)] > 0.1]\n",
    "\n",
    "print(\"Selected Features:\\n\", selected_featrs)"
   ]
  },
  {
   "cell_type": "markdown",
   "metadata": {},
   "source": [
    "I select features with high absolute correlation coefficients or mutual information scores above a specified threshold which is (0.1)."
   ]
  },
  {
   "cell_type": "code",
   "execution_count": 33,
   "metadata": {},
   "outputs": [
    {
     "name": "stdout",
     "output_type": "stream",
     "text": [
      "Explanation of Selected Features:\n",
      "\n",
      "runtimeMinutes - Selected due to high correlation with 'averageRating'.\n",
      "averageRating - Selected due to high correlation with 'averageRating'.\n",
      "numVotes - Selected due to high correlation with 'averageRating'.\n",
      "gross - Selected due to high correlation with 'averageRating'.\n"
     ]
    }
   ],
   "source": [
    "print(\"Explanation of Selected Features:\\n\")\n",
    "for feature in selected_featrs:\n",
    "    if feature in num_featrs:\n",
    "        if abs(correlation_matrix.loc['averageRating', feature]) > 0.1:\n",
    "            print(f\"{feature} - Selected due to high correlation with 'averageRating'.\")\n",
    "        elif mi_scores[num_featrs.index(feature)] > 0.1:\n",
    "            print(f\"{feature} - Selected due to high mutual information with 'averageRating'.\")\n",
    "    else:\n",
    "        print(f\"{feature} - Categorical or non-numeric feature, not selected based on correlation or mutual information.\")"
   ]
  },
  {
   "cell_type": "markdown",
   "metadata": {},
   "source": [
    "## 2. Feature Transformation:"
   ]
  },
  {
   "cell_type": "code",
   "execution_count": 9,
   "metadata": {},
   "outputs": [],
   "source": [
    "# importing libraries for this task\n",
    "from sklearn.model_selection import train_test_split\n",
    "from sklearn.preprocessing import StandardScaler, Normalizer, FunctionTransformer\n",
    "from sklearn.linear_model import LinearRegression\n",
    "from sklearn.metrics import mean_squared_error"
   ]
  },
  {
   "cell_type": "code",
   "execution_count": 26,
   "metadata": {},
   "outputs": [],
   "source": [
    "num_featrs = ['runtimeMinutes', 'averageRating', 'numVotes', 'budget', 'gross']\n",
    "X = imdb_data[num_featrs].values\n",
    "y = imdb_data['averageRating'].values\n",
    "\n",
    "# split the dataset into training and testing sets\n",
    "X_train, X_test, y_train, y_test = train_test_split(X, y, test_size=0.2, random_state=42)\n",
    "\n",
    "# initialize linear regression model\n",
    "model = LinearRegression()\n",
    "\n",
    "# fit and evaluate the model before apply transformation\n",
    "model.fit(X_train, y_train)\n",
    "y_pred = model.predict(X_test)"
   ]
  },
  {
   "cell_type": "code",
   "execution_count": 27,
   "metadata": {},
   "outputs": [
    {
     "name": "stdout",
     "output_type": "stream",
     "text": [
      "MSE before transformations: 4.215655667060514e-16\n"
     ]
    }
   ],
   "source": [
    "mse_before = mean_squared_error(y_test, y_pred)\n",
    "print(f'MSE before transformations: {mse_before}')"
   ]
  },
  {
   "cell_type": "markdown",
   "metadata": {},
   "source": [
    "##### Apply log Transformation:\n",
    "- Then, Standardize the features\n",
    "- Lastly, fit and evaluate"
   ]
  },
  {
   "cell_type": "code",
   "execution_count": 48,
   "metadata": {},
   "outputs": [
    {
     "name": "stdout",
     "output_type": "stream",
     "text": [
      "MSE after transformations: 0.025013734282782953\n"
     ]
    }
   ],
   "source": [
    "log_transformer = FunctionTransformer(np.log1p, validate=True)\n",
    "X_train_log = log_transformer.transform(X_train)\n",
    "X_test_log = log_transformer.transform(X_test)\n",
    "\n",
    "# replace original columns with transformed columns\n",
    "X_train = X_train_log\n",
    "X_test = X_test_log\n",
    "\n",
    "# standardize the features\n",
    "scaler = StandardScaler()\n",
    "X_train_scaled = scaler.fit_transform(X_train)\n",
    "X_test_scaled = scaler.transform(X_test)\n",
    "\n",
    "# fit and evaluate the model after transformations\n",
    "model.fit(X_train_scaled, y_train)\n",
    "y_pred_transformed = model.predict(X_test_scaled)\n",
    "mse_after = mean_squared_error(y_test, y_pred_transformed)\n",
    "print(f'MSE after transformations: {mse_after}')"
   ]
  },
  {
   "cell_type": "code",
   "execution_count": 49,
   "metadata": {},
   "outputs": [
    {
     "name": "stdout",
     "output_type": "stream",
     "text": [
      "Transformations applied:\n",
      "{'Log Transformation': ['numVotes', 'budget', 'gross'], 'Standardization': ['runtimeMinutes', 'averageRating', 'numVotes', 'budget', 'gross']}\n",
      "Impact on model performance:\n",
      "MSE before transformations: 5.143080145287927e-16\n",
      "MSE after transformations: 0.025013734282782953\n"
     ]
    }
   ],
   "source": [
    "# documenting\n",
    "transformations = {\n",
    "    'Log Transformation': ['numVotes', 'budget', 'gross'],\n",
    "    'Standardization': ['runtimeMinutes', 'averageRating', 'numVotes', 'budget', 'gross']\n",
    "}\n",
    "\n",
    "print('Transformations applied:')\n",
    "print(transformations)\n",
    "print(f'Impact on model performance:')\n",
    "print(f'MSE before transformations: {mse_before}')\n",
    "print(f'MSE after transformations: {mse_after}')"
   ]
  },
  {
   "cell_type": "markdown",
   "metadata": {},
   "source": [
    "- MSE value before transformation close to zero typically indicate a very good fit (almost perfect predictions).\n",
    "- The small positive MSE after transformations, it shows that the transformations might had a slight impact on model performance."
   ]
  },
  {
   "cell_type": "markdown",
   "metadata": {},
   "source": [
    "## 3. Feature Creation:"
   ]
  },
  {
   "cell_type": "code",
   "execution_count": 18,
   "metadata": {},
   "outputs": [
    {
     "data": {
      "text/html": [
       "<div>\n",
       "<style scoped>\n",
       "    .dataframe tbody tr th:only-of-type {\n",
       "        vertical-align: middle;\n",
       "    }\n",
       "\n",
       "    .dataframe tbody tr th {\n",
       "        vertical-align: top;\n",
       "    }\n",
       "\n",
       "    .dataframe thead th {\n",
       "        text-align: right;\n",
       "    }\n",
       "</style>\n",
       "<table border=\"1\" class=\"dataframe\">\n",
       "  <thead>\n",
       "    <tr style=\"text-align: right;\">\n",
       "      <th></th>\n",
       "      <th>id</th>\n",
       "      <th>primaryTitle</th>\n",
       "      <th>originalTitle</th>\n",
       "      <th>isAdult</th>\n",
       "      <th>runtimeMinutes</th>\n",
       "      <th>genres</th>\n",
       "      <th>averageRating</th>\n",
       "      <th>numVotes</th>\n",
       "      <th>budget</th>\n",
       "      <th>gross</th>\n",
       "      <th>release_date</th>\n",
       "      <th>directors</th>\n",
       "      <th>age_of_movie</th>\n",
       "    </tr>\n",
       "  </thead>\n",
       "  <tbody>\n",
       "    <tr>\n",
       "      <th>0</th>\n",
       "      <td>tt0035423</td>\n",
       "      <td>Kate &amp; Leopold</td>\n",
       "      <td>Kate &amp; Leopold</td>\n",
       "      <td>0</td>\n",
       "      <td>118</td>\n",
       "      <td>Comedy,Fantasy,Romance</td>\n",
       "      <td>6.4</td>\n",
       "      <td>87925</td>\n",
       "      <td>48000000</td>\n",
       "      <td>76019048.0</td>\n",
       "      <td>2001-12-11</td>\n",
       "      <td>James Mangold</td>\n",
       "      <td>23</td>\n",
       "    </tr>\n",
       "    <tr>\n",
       "      <th>1</th>\n",
       "      <td>tt0065421</td>\n",
       "      <td>The Aristocats</td>\n",
       "      <td>The AristoCats</td>\n",
       "      <td>0</td>\n",
       "      <td>78</td>\n",
       "      <td>Adventure,Animation,Comedy</td>\n",
       "      <td>7.1</td>\n",
       "      <td>111758</td>\n",
       "      <td>4000000</td>\n",
       "      <td>35459543.0</td>\n",
       "      <td>1970-12-11</td>\n",
       "      <td>Wolfgang Reitherman</td>\n",
       "      <td>54</td>\n",
       "    </tr>\n",
       "    <tr>\n",
       "      <th>2</th>\n",
       "      <td>tt0065938</td>\n",
       "      <td>Kelly's Heroes</td>\n",
       "      <td>Kelly's Heroes</td>\n",
       "      <td>0</td>\n",
       "      <td>144</td>\n",
       "      <td>Adventure,Comedy,War</td>\n",
       "      <td>7.6</td>\n",
       "      <td>52628</td>\n",
       "      <td>4000000</td>\n",
       "      <td>5200000.0</td>\n",
       "      <td>1970-01-01</td>\n",
       "      <td>Brian G. Hutton</td>\n",
       "      <td>54</td>\n",
       "    </tr>\n",
       "    <tr>\n",
       "      <th>3</th>\n",
       "      <td>tt0066026</td>\n",
       "      <td>M*A*S*H</td>\n",
       "      <td>M*A*S*H</td>\n",
       "      <td>0</td>\n",
       "      <td>116</td>\n",
       "      <td>Comedy,Drama,War</td>\n",
       "      <td>7.4</td>\n",
       "      <td>75784</td>\n",
       "      <td>3500000</td>\n",
       "      <td>81600000.0</td>\n",
       "      <td>1970-01-25</td>\n",
       "      <td>Robert Altman</td>\n",
       "      <td>54</td>\n",
       "    </tr>\n",
       "    <tr>\n",
       "      <th>4</th>\n",
       "      <td>tt0066206</td>\n",
       "      <td>Patton</td>\n",
       "      <td>Patton</td>\n",
       "      <td>0</td>\n",
       "      <td>172</td>\n",
       "      <td>Biography,Drama,War</td>\n",
       "      <td>7.9</td>\n",
       "      <td>106476</td>\n",
       "      <td>12000000</td>\n",
       "      <td>61749765.0</td>\n",
       "      <td>1970-02-04</td>\n",
       "      <td>Franklin J. Schaffner</td>\n",
       "      <td>54</td>\n",
       "    </tr>\n",
       "    <tr>\n",
       "      <th>...</th>\n",
       "      <td>...</td>\n",
       "      <td>...</td>\n",
       "      <td>...</td>\n",
       "      <td>...</td>\n",
       "      <td>...</td>\n",
       "      <td>...</td>\n",
       "      <td>...</td>\n",
       "      <td>...</td>\n",
       "      <td>...</td>\n",
       "      <td>...</td>\n",
       "      <td>...</td>\n",
       "      <td>...</td>\n",
       "      <td>...</td>\n",
       "    </tr>\n",
       "    <tr>\n",
       "      <th>3343</th>\n",
       "      <td>tt9770150</td>\n",
       "      <td>Nomadland</td>\n",
       "      <td>Nomadland</td>\n",
       "      <td>0</td>\n",
       "      <td>107</td>\n",
       "      <td>Drama</td>\n",
       "      <td>7.3</td>\n",
       "      <td>175977</td>\n",
       "      <td>5000000</td>\n",
       "      <td>39458207.0</td>\n",
       "      <td>2020-09-11</td>\n",
       "      <td>Chloé Zhao</td>\n",
       "      <td>4</td>\n",
       "    </tr>\n",
       "    <tr>\n",
       "      <th>3344</th>\n",
       "      <td>tt9777666</td>\n",
       "      <td>The Tomorrow War</td>\n",
       "      <td>The Tomorrow War</td>\n",
       "      <td>0</td>\n",
       "      <td>138</td>\n",
       "      <td>Action,Adventure,Drama</td>\n",
       "      <td>6.6</td>\n",
       "      <td>220617</td>\n",
       "      <td>200000000</td>\n",
       "      <td>14400000.0</td>\n",
       "      <td>2021-06-30</td>\n",
       "      <td>Chris McKay</td>\n",
       "      <td>3</td>\n",
       "    </tr>\n",
       "    <tr>\n",
       "      <th>3345</th>\n",
       "      <td>tt9784798</td>\n",
       "      <td>Judas and the Black Messiah</td>\n",
       "      <td>Judas and the Black Messiah</td>\n",
       "      <td>0</td>\n",
       "      <td>126</td>\n",
       "      <td>Biography,Drama,History</td>\n",
       "      <td>7.4</td>\n",
       "      <td>88568</td>\n",
       "      <td>26000000</td>\n",
       "      <td>7478009.0</td>\n",
       "      <td>2021-02-01</td>\n",
       "      <td>Shaka King</td>\n",
       "      <td>3</td>\n",
       "    </tr>\n",
       "    <tr>\n",
       "      <th>3346</th>\n",
       "      <td>tt9844522</td>\n",
       "      <td>Escape Room: Tournament of Champions</td>\n",
       "      <td>Escape Room: Tournament of Champions</td>\n",
       "      <td>0</td>\n",
       "      <td>88</td>\n",
       "      <td>Action,Adventure,Horror</td>\n",
       "      <td>5.7</td>\n",
       "      <td>56955</td>\n",
       "      <td>15000000</td>\n",
       "      <td>65774490.0</td>\n",
       "      <td>2021-07-01</td>\n",
       "      <td>Adam Robitel</td>\n",
       "      <td>3</td>\n",
       "    </tr>\n",
       "    <tr>\n",
       "      <th>3347</th>\n",
       "      <td>tt9893250</td>\n",
       "      <td>I Care a Lot</td>\n",
       "      <td>I Care a Lot</td>\n",
       "      <td>0</td>\n",
       "      <td>118</td>\n",
       "      <td>Comedy,Crime,Drama</td>\n",
       "      <td>6.4</td>\n",
       "      <td>141433</td>\n",
       "      <td>14000000</td>\n",
       "      <td>1351662.0</td>\n",
       "      <td>2020-09-12</td>\n",
       "      <td>J Blakeson</td>\n",
       "      <td>4</td>\n",
       "    </tr>\n",
       "  </tbody>\n",
       "</table>\n",
       "<p>3348 rows × 13 columns</p>\n",
       "</div>"
      ],
      "text/plain": [
       "             id                          primaryTitle  \\\n",
       "0     tt0035423                        Kate & Leopold   \n",
       "1     tt0065421                        The Aristocats   \n",
       "2     tt0065938                        Kelly's Heroes   \n",
       "3     tt0066026                               M*A*S*H   \n",
       "4     tt0066206                                Patton   \n",
       "...         ...                                   ...   \n",
       "3343  tt9770150                             Nomadland   \n",
       "3344  tt9777666                      The Tomorrow War   \n",
       "3345  tt9784798           Judas and the Black Messiah   \n",
       "3346  tt9844522  Escape Room: Tournament of Champions   \n",
       "3347  tt9893250                          I Care a Lot   \n",
       "\n",
       "                             originalTitle  isAdult  runtimeMinutes  \\\n",
       "0                           Kate & Leopold        0             118   \n",
       "1                           The AristoCats        0              78   \n",
       "2                           Kelly's Heroes        0             144   \n",
       "3                                  M*A*S*H        0             116   \n",
       "4                                   Patton        0             172   \n",
       "...                                    ...      ...             ...   \n",
       "3343                             Nomadland        0             107   \n",
       "3344                      The Tomorrow War        0             138   \n",
       "3345           Judas and the Black Messiah        0             126   \n",
       "3346  Escape Room: Tournament of Champions        0              88   \n",
       "3347                          I Care a Lot        0             118   \n",
       "\n",
       "                          genres  averageRating  numVotes     budget  \\\n",
       "0         Comedy,Fantasy,Romance            6.4     87925   48000000   \n",
       "1     Adventure,Animation,Comedy            7.1    111758    4000000   \n",
       "2           Adventure,Comedy,War            7.6     52628    4000000   \n",
       "3               Comedy,Drama,War            7.4     75784    3500000   \n",
       "4            Biography,Drama,War            7.9    106476   12000000   \n",
       "...                          ...            ...       ...        ...   \n",
       "3343                       Drama            7.3    175977    5000000   \n",
       "3344      Action,Adventure,Drama            6.6    220617  200000000   \n",
       "3345     Biography,Drama,History            7.4     88568   26000000   \n",
       "3346     Action,Adventure,Horror            5.7     56955   15000000   \n",
       "3347          Comedy,Crime,Drama            6.4    141433   14000000   \n",
       "\n",
       "           gross release_date              directors  age_of_movie  \n",
       "0     76019048.0   2001-12-11          James Mangold            23  \n",
       "1     35459543.0   1970-12-11    Wolfgang Reitherman            54  \n",
       "2      5200000.0   1970-01-01        Brian G. Hutton            54  \n",
       "3     81600000.0   1970-01-25          Robert Altman            54  \n",
       "4     61749765.0   1970-02-04  Franklin J. Schaffner            54  \n",
       "...          ...          ...                    ...           ...  \n",
       "3343  39458207.0   2020-09-11             Chloé Zhao             4  \n",
       "3344  14400000.0   2021-06-30            Chris McKay             3  \n",
       "3345   7478009.0   2021-02-01             Shaka King             3  \n",
       "3346  65774490.0   2021-07-01           Adam Robitel             3  \n",
       "3347   1351662.0   2020-09-12             J Blakeson             4  \n",
       "\n",
       "[3348 rows x 13 columns]"
      ]
     },
     "execution_count": 18,
     "metadata": {},
     "output_type": "execute_result"
    }
   ],
   "source": [
    "# age of the movie\n",
    "imdb_data['release_date'] = pd.to_datetime(imdb_data['release_date'])\n",
    "imdb_data['age_of_movie'] = 2024 - imdb_data['release_date'].dt.year\n",
    "imdb_data"
   ]
  },
  {
   "cell_type": "code",
   "execution_count": 19,
   "metadata": {},
   "outputs": [
    {
     "data": {
      "text/html": [
       "<div>\n",
       "<style scoped>\n",
       "    .dataframe tbody tr th:only-of-type {\n",
       "        vertical-align: middle;\n",
       "    }\n",
       "\n",
       "    .dataframe tbody tr th {\n",
       "        vertical-align: top;\n",
       "    }\n",
       "\n",
       "    .dataframe thead th {\n",
       "        text-align: right;\n",
       "    }\n",
       "</style>\n",
       "<table border=\"1\" class=\"dataframe\">\n",
       "  <thead>\n",
       "    <tr style=\"text-align: right;\">\n",
       "      <th></th>\n",
       "      <th>id</th>\n",
       "      <th>primaryTitle</th>\n",
       "      <th>originalTitle</th>\n",
       "      <th>isAdult</th>\n",
       "      <th>runtimeMinutes</th>\n",
       "      <th>genres</th>\n",
       "      <th>averageRating</th>\n",
       "      <th>numVotes</th>\n",
       "      <th>budget</th>\n",
       "      <th>gross</th>\n",
       "      <th>release_date</th>\n",
       "      <th>directors</th>\n",
       "      <th>age_of_movie</th>\n",
       "      <th>profit</th>\n",
       "      <th>director_avg_rating</th>\n",
       "      <th>genre_count</th>\n",
       "    </tr>\n",
       "  </thead>\n",
       "  <tbody>\n",
       "    <tr>\n",
       "      <th>0</th>\n",
       "      <td>tt0035423</td>\n",
       "      <td>Kate &amp; Leopold</td>\n",
       "      <td>Kate &amp; Leopold</td>\n",
       "      <td>0</td>\n",
       "      <td>118</td>\n",
       "      <td>Comedy,Fantasy,Romance</td>\n",
       "      <td>6.4</td>\n",
       "      <td>87925</td>\n",
       "      <td>48000000</td>\n",
       "      <td>76019048.0</td>\n",
       "      <td>2001-12-11</td>\n",
       "      <td>James Mangold</td>\n",
       "      <td>23</td>\n",
       "      <td>28019048.0</td>\n",
       "      <td>7.209091</td>\n",
       "      <td>3</td>\n",
       "    </tr>\n",
       "    <tr>\n",
       "      <th>1</th>\n",
       "      <td>tt0065421</td>\n",
       "      <td>The Aristocats</td>\n",
       "      <td>The AristoCats</td>\n",
       "      <td>0</td>\n",
       "      <td>78</td>\n",
       "      <td>Adventure,Animation,Comedy</td>\n",
       "      <td>7.1</td>\n",
       "      <td>111758</td>\n",
       "      <td>4000000</td>\n",
       "      <td>35459543.0</td>\n",
       "      <td>1970-12-11</td>\n",
       "      <td>Wolfgang Reitherman</td>\n",
       "      <td>54</td>\n",
       "      <td>31459543.0</td>\n",
       "      <td>7.100000</td>\n",
       "      <td>3</td>\n",
       "    </tr>\n",
       "    <tr>\n",
       "      <th>2</th>\n",
       "      <td>tt0065938</td>\n",
       "      <td>Kelly's Heroes</td>\n",
       "      <td>Kelly's Heroes</td>\n",
       "      <td>0</td>\n",
       "      <td>144</td>\n",
       "      <td>Adventure,Comedy,War</td>\n",
       "      <td>7.6</td>\n",
       "      <td>52628</td>\n",
       "      <td>4000000</td>\n",
       "      <td>5200000.0</td>\n",
       "      <td>1970-01-01</td>\n",
       "      <td>Brian G. Hutton</td>\n",
       "      <td>54</td>\n",
       "      <td>1200000.0</td>\n",
       "      <td>7.600000</td>\n",
       "      <td>3</td>\n",
       "    </tr>\n",
       "    <tr>\n",
       "      <th>3</th>\n",
       "      <td>tt0066026</td>\n",
       "      <td>M*A*S*H</td>\n",
       "      <td>M*A*S*H</td>\n",
       "      <td>0</td>\n",
       "      <td>116</td>\n",
       "      <td>Comedy,Drama,War</td>\n",
       "      <td>7.4</td>\n",
       "      <td>75784</td>\n",
       "      <td>3500000</td>\n",
       "      <td>81600000.0</td>\n",
       "      <td>1970-01-25</td>\n",
       "      <td>Robert Altman</td>\n",
       "      <td>54</td>\n",
       "      <td>78100000.0</td>\n",
       "      <td>7.366667</td>\n",
       "      <td>3</td>\n",
       "    </tr>\n",
       "    <tr>\n",
       "      <th>4</th>\n",
       "      <td>tt0066206</td>\n",
       "      <td>Patton</td>\n",
       "      <td>Patton</td>\n",
       "      <td>0</td>\n",
       "      <td>172</td>\n",
       "      <td>Biography,Drama,War</td>\n",
       "      <td>7.9</td>\n",
       "      <td>106476</td>\n",
       "      <td>12000000</td>\n",
       "      <td>61749765.0</td>\n",
       "      <td>1970-02-04</td>\n",
       "      <td>Franklin J. Schaffner</td>\n",
       "      <td>54</td>\n",
       "      <td>49749765.0</td>\n",
       "      <td>7.950000</td>\n",
       "      <td>3</td>\n",
       "    </tr>\n",
       "    <tr>\n",
       "      <th>...</th>\n",
       "      <td>...</td>\n",
       "      <td>...</td>\n",
       "      <td>...</td>\n",
       "      <td>...</td>\n",
       "      <td>...</td>\n",
       "      <td>...</td>\n",
       "      <td>...</td>\n",
       "      <td>...</td>\n",
       "      <td>...</td>\n",
       "      <td>...</td>\n",
       "      <td>...</td>\n",
       "      <td>...</td>\n",
       "      <td>...</td>\n",
       "      <td>...</td>\n",
       "      <td>...</td>\n",
       "      <td>...</td>\n",
       "    </tr>\n",
       "    <tr>\n",
       "      <th>3343</th>\n",
       "      <td>tt9770150</td>\n",
       "      <td>Nomadland</td>\n",
       "      <td>Nomadland</td>\n",
       "      <td>0</td>\n",
       "      <td>107</td>\n",
       "      <td>Drama</td>\n",
       "      <td>7.3</td>\n",
       "      <td>175977</td>\n",
       "      <td>5000000</td>\n",
       "      <td>39458207.0</td>\n",
       "      <td>2020-09-11</td>\n",
       "      <td>Chloé Zhao</td>\n",
       "      <td>4</td>\n",
       "      <td>34458207.0</td>\n",
       "      <td>6.800000</td>\n",
       "      <td>1</td>\n",
       "    </tr>\n",
       "    <tr>\n",
       "      <th>3344</th>\n",
       "      <td>tt9777666</td>\n",
       "      <td>The Tomorrow War</td>\n",
       "      <td>The Tomorrow War</td>\n",
       "      <td>0</td>\n",
       "      <td>138</td>\n",
       "      <td>Action,Adventure,Drama</td>\n",
       "      <td>6.6</td>\n",
       "      <td>220617</td>\n",
       "      <td>200000000</td>\n",
       "      <td>14400000.0</td>\n",
       "      <td>2021-06-30</td>\n",
       "      <td>Chris McKay</td>\n",
       "      <td>3</td>\n",
       "      <td>-185600000.0</td>\n",
       "      <td>6.766667</td>\n",
       "      <td>3</td>\n",
       "    </tr>\n",
       "    <tr>\n",
       "      <th>3345</th>\n",
       "      <td>tt9784798</td>\n",
       "      <td>Judas and the Black Messiah</td>\n",
       "      <td>Judas and the Black Messiah</td>\n",
       "      <td>0</td>\n",
       "      <td>126</td>\n",
       "      <td>Biography,Drama,History</td>\n",
       "      <td>7.4</td>\n",
       "      <td>88568</td>\n",
       "      <td>26000000</td>\n",
       "      <td>7478009.0</td>\n",
       "      <td>2021-02-01</td>\n",
       "      <td>Shaka King</td>\n",
       "      <td>3</td>\n",
       "      <td>-18521991.0</td>\n",
       "      <td>7.400000</td>\n",
       "      <td>3</td>\n",
       "    </tr>\n",
       "    <tr>\n",
       "      <th>3346</th>\n",
       "      <td>tt9844522</td>\n",
       "      <td>Escape Room: Tournament of Champions</td>\n",
       "      <td>Escape Room: Tournament of Champions</td>\n",
       "      <td>0</td>\n",
       "      <td>88</td>\n",
       "      <td>Action,Adventure,Horror</td>\n",
       "      <td>5.7</td>\n",
       "      <td>56955</td>\n",
       "      <td>15000000</td>\n",
       "      <td>65774490.0</td>\n",
       "      <td>2021-07-01</td>\n",
       "      <td>Adam Robitel</td>\n",
       "      <td>3</td>\n",
       "      <td>50774490.0</td>\n",
       "      <td>5.933333</td>\n",
       "      <td>3</td>\n",
       "    </tr>\n",
       "    <tr>\n",
       "      <th>3347</th>\n",
       "      <td>tt9893250</td>\n",
       "      <td>I Care a Lot</td>\n",
       "      <td>I Care a Lot</td>\n",
       "      <td>0</td>\n",
       "      <td>118</td>\n",
       "      <td>Comedy,Crime,Drama</td>\n",
       "      <td>6.4</td>\n",
       "      <td>141433</td>\n",
       "      <td>14000000</td>\n",
       "      <td>1351662.0</td>\n",
       "      <td>2020-09-12</td>\n",
       "      <td>J Blakeson</td>\n",
       "      <td>4</td>\n",
       "      <td>-12648338.0</td>\n",
       "      <td>5.800000</td>\n",
       "      <td>3</td>\n",
       "    </tr>\n",
       "  </tbody>\n",
       "</table>\n",
       "<p>3348 rows × 16 columns</p>\n",
       "</div>"
      ],
      "text/plain": [
       "             id                          primaryTitle  \\\n",
       "0     tt0035423                        Kate & Leopold   \n",
       "1     tt0065421                        The Aristocats   \n",
       "2     tt0065938                        Kelly's Heroes   \n",
       "3     tt0066026                               M*A*S*H   \n",
       "4     tt0066206                                Patton   \n",
       "...         ...                                   ...   \n",
       "3343  tt9770150                             Nomadland   \n",
       "3344  tt9777666                      The Tomorrow War   \n",
       "3345  tt9784798           Judas and the Black Messiah   \n",
       "3346  tt9844522  Escape Room: Tournament of Champions   \n",
       "3347  tt9893250                          I Care a Lot   \n",
       "\n",
       "                             originalTitle  isAdult  runtimeMinutes  \\\n",
       "0                           Kate & Leopold        0             118   \n",
       "1                           The AristoCats        0              78   \n",
       "2                           Kelly's Heroes        0             144   \n",
       "3                                  M*A*S*H        0             116   \n",
       "4                                   Patton        0             172   \n",
       "...                                    ...      ...             ...   \n",
       "3343                             Nomadland        0             107   \n",
       "3344                      The Tomorrow War        0             138   \n",
       "3345           Judas and the Black Messiah        0             126   \n",
       "3346  Escape Room: Tournament of Champions        0              88   \n",
       "3347                          I Care a Lot        0             118   \n",
       "\n",
       "                          genres  averageRating  numVotes     budget  \\\n",
       "0         Comedy,Fantasy,Romance            6.4     87925   48000000   \n",
       "1     Adventure,Animation,Comedy            7.1    111758    4000000   \n",
       "2           Adventure,Comedy,War            7.6     52628    4000000   \n",
       "3               Comedy,Drama,War            7.4     75784    3500000   \n",
       "4            Biography,Drama,War            7.9    106476   12000000   \n",
       "...                          ...            ...       ...        ...   \n",
       "3343                       Drama            7.3    175977    5000000   \n",
       "3344      Action,Adventure,Drama            6.6    220617  200000000   \n",
       "3345     Biography,Drama,History            7.4     88568   26000000   \n",
       "3346     Action,Adventure,Horror            5.7     56955   15000000   \n",
       "3347          Comedy,Crime,Drama            6.4    141433   14000000   \n",
       "\n",
       "           gross release_date              directors  age_of_movie  \\\n",
       "0     76019048.0   2001-12-11          James Mangold            23   \n",
       "1     35459543.0   1970-12-11    Wolfgang Reitherman            54   \n",
       "2      5200000.0   1970-01-01        Brian G. Hutton            54   \n",
       "3     81600000.0   1970-01-25          Robert Altman            54   \n",
       "4     61749765.0   1970-02-04  Franklin J. Schaffner            54   \n",
       "...          ...          ...                    ...           ...   \n",
       "3343  39458207.0   2020-09-11             Chloé Zhao             4   \n",
       "3344  14400000.0   2021-06-30            Chris McKay             3   \n",
       "3345   7478009.0   2021-02-01             Shaka King             3   \n",
       "3346  65774490.0   2021-07-01           Adam Robitel             3   \n",
       "3347   1351662.0   2020-09-12             J Blakeson             4   \n",
       "\n",
       "           profit  director_avg_rating  genre_count  \n",
       "0      28019048.0             7.209091            3  \n",
       "1      31459543.0             7.100000            3  \n",
       "2       1200000.0             7.600000            3  \n",
       "3      78100000.0             7.366667            3  \n",
       "4      49749765.0             7.950000            3  \n",
       "...           ...                  ...          ...  \n",
       "3343   34458207.0             6.800000            1  \n",
       "3344 -185600000.0             6.766667            3  \n",
       "3345  -18521991.0             7.400000            3  \n",
       "3346   50774490.0             5.933333            3  \n",
       "3347  -12648338.0             5.800000            3  \n",
       "\n",
       "[3348 rows x 16 columns]"
      ]
     },
     "execution_count": 19,
     "metadata": {},
     "output_type": "execute_result"
    }
   ],
   "source": [
    "# profit column\n",
    "imdb_data['profit'] = imdb_data['gross'] - imdb_data['budget']\n",
    "\n",
    "# director's avg. rating from prev. movies\n",
    "director_avg_rating = imdb_data.groupby('directors')['averageRating'].transform('mean')\n",
    "imdb_data['director_avg_rating'] = director_avg_rating\n",
    "\n",
    "# genre count\n",
    "imdb_data['genre_count'] = imdb_data['genres'].apply(lambda x: len(x.split(',')))\n",
    "imdb_data"
   ]
  },
  {
   "cell_type": "code",
   "execution_count": 7,
   "metadata": {},
   "outputs": [],
   "source": [
    "# importing libraries\n",
    "from sklearn.ensemble import RandomForestRegressor\n",
    "from sklearn.metrics import mean_squared_error"
   ]
  },
  {
   "cell_type": "markdown",
   "metadata": {},
   "source": [
    "##### Train a Model:"
   ]
  },
  {
   "cell_type": "markdown",
   "metadata": {},
   "source": [
    "Train a model using the original features and another using the new features created. Compare their performance metrics such as accuracy, RMSE (Root Mean Squared Error) for regression, or F1 score for classification."
   ]
  },
  {
   "cell_type": "code",
   "execution_count": 10,
   "metadata": {},
   "outputs": [
    {
     "name": "stdout",
     "output_type": "stream",
     "text": [
      "Original Model RMSE: 232284795.21132874\n"
     ]
    }
   ],
   "source": [
    "features = ['runtimeMinutes', 'averageRating', 'budget', 'director_avg_rating', 'age_of_movie', 'genre_count']\n",
    "target = 'gross'\n",
    "\n",
    "\n",
    "# split data into training and testing sets\n",
    "X2 = imdb_data[features]\n",
    "y2 = imdb_data[target]\n",
    "X_train, X_test, y_train, y_test = train_test_split(X2, y2, test_size=0.2, random_state=42)\n",
    "\n",
    "# train a model with orig. features\n",
    "model_orig = RandomForestRegressor(random_state=42)\n",
    "model_orig.fit(X_train[['runtimeMinutes', 'averageRating']], y_train)\n",
    "y_pred_orig = model_orig.predict(X_test[['runtimeMinutes', 'averageRating']])\n",
    "orig_rmse = mean_squared_error(y_test, y_pred_orig, squared=False)\n",
    "print(f\"Original Model RMSE: {orig_rmse}\")"
   ]
  },
  {
   "cell_type": "code",
   "execution_count": 11,
   "metadata": {},
   "outputs": [
    {
     "name": "stdout",
     "output_type": "stream",
     "text": [
      "Model with New Features RMSE: 144968560.16124266\n"
     ]
    }
   ],
   "source": [
    "# train a model with new features\n",
    "model_new = RandomForestRegressor(random_state=42)\n",
    "model_new.fit(X_train, y_train)\n",
    "y_pred_new = model_new.predict(X_test)\n",
    "new_rmse = mean_squared_error(y_test, y_pred_new, squared=False)\n",
    "print(f\"Model with New Features RMSE: {new_rmse}\")"
   ]
  },
  {
   "cell_type": "markdown",
   "metadata": {},
   "source": [
    "##### Comparing Model Performance:"
   ]
  },
  {
   "cell_type": "code",
   "execution_count": 56,
   "metadata": {},
   "outputs": [
    {
     "name": "stdout",
     "output_type": "stream",
     "text": [
      "Adding new features improved model performance.\n"
     ]
    }
   ],
   "source": [
    "if new_rmse < orig_rmse:\n",
    "    print(\"Adding new features improved model performance.\")\n",
    "else:\n",
    "    print(\"New features did not improve model performance.\")"
   ]
  },
  {
   "cell_type": "markdown",
   "metadata": {},
   "source": [
    "- Director's average rating and genre count showed mixed impacts on prediction accuracy."
   ]
  },
  {
   "cell_type": "code",
   "execution_count": 21,
   "metadata": {
    "scrolled": false
   },
   "outputs": [
    {
     "data": {
      "image/png": "[encoded data removed]",
      "text/plain": [
       "<Figure size 720x432 with 1 Axes>"
      ]
     },
     "metadata": {
      "needs_background": "light"
     },
     "output_type": "display_data"
    }
   ],
   "source": [
    "# plot for 'age of movie' and 'profit'\n",
    "plt.figure(figsize=(10, 6))\n",
    "sns.scatterplot(x=\"age_of_movie\", y=\"profit\", data=imdb_data)\n",
    "plt.xlabel('Age of Movie')\n",
    "plt.ylabel('Profit')\n",
    "plt.title('Age of Movie vs Profit', fontsize=20)\n",
    "plt.show()"
   ]
  },
  {
   "cell_type": "code",
   "execution_count": 20,
   "metadata": {},
   "outputs": [
    {
     "data": {
      "text/plain": [
       "Text(0.5, 1.0, 'Linear regression for IMDB dataset')"
      ]
     },
     "execution_count": 20,
     "metadata": {},
     "output_type": "execute_result"
    },
    {
     "data": {
      "image/png": "[encoded data removed]",
      "text/plain": [
       "<Figure size 720x432 with 1 Axes>"
      ]
     },
     "metadata": {
      "needs_background": "light"
     },
     "output_type": "display_data"
    }
   ],
   "source": [
    "# with best fit line\n",
    "plt.figure(figsize=(10, 6))\n",
    "sns.regplot(x='age_of_movie', y='profit', data=imdb_data)\n",
    "plt.title('Linear regression for IMDB dataset', fontsize = 20)"
   ]
  },
  {
   "cell_type": "code",
   "execution_count": 23,
   "metadata": {},
   "outputs": [
    {
     "data": {
      "text/html": [
       "<div>\n",
       "<style scoped>\n",
       "    .dataframe tbody tr th:only-of-type {\n",
       "        vertical-align: middle;\n",
       "    }\n",
       "\n",
       "    .dataframe tbody tr th {\n",
       "        vertical-align: top;\n",
       "    }\n",
       "\n",
       "    .dataframe thead th {\n",
       "        text-align: right;\n",
       "    }\n",
       "</style>\n",
       "<table border=\"1\" class=\"dataframe\">\n",
       "  <thead>\n",
       "    <tr style=\"text-align: right;\">\n",
       "      <th></th>\n",
       "      <th>runtimeMinutes</th>\n",
       "      <th>averageRating</th>\n",
       "      <th>budget</th>\n",
       "      <th>gross</th>\n",
       "      <th>profit</th>\n",
       "      <th>age_of_movie</th>\n",
       "      <th>director_avg_rating</th>\n",
       "    </tr>\n",
       "  </thead>\n",
       "  <tbody>\n",
       "    <tr>\n",
       "      <th>runtimeMinutes</th>\n",
       "      <td>1.000000</td>\n",
       "      <td>0.359969</td>\n",
       "      <td>0.309109</td>\n",
       "      <td>0.250383</td>\n",
       "      <td>0.211387</td>\n",
       "      <td>-0.040322</td>\n",
       "      <td>0.366029</td>\n",
       "    </tr>\n",
       "    <tr>\n",
       "      <th>averageRating</th>\n",
       "      <td>0.359969</td>\n",
       "      <td>1.000000</td>\n",
       "      <td>-0.079510</td>\n",
       "      <td>0.126851</td>\n",
       "      <td>0.167496</td>\n",
       "      <td>0.193584</td>\n",
       "      <td>0.798306</td>\n",
       "    </tr>\n",
       "    <tr>\n",
       "      <th>budget</th>\n",
       "      <td>0.309109</td>\n",
       "      <td>-0.079510</td>\n",
       "      <td>1.000000</td>\n",
       "      <td>0.692817</td>\n",
       "      <td>0.547903</td>\n",
       "      <td>-0.303854</td>\n",
       "      <td>0.024520</td>\n",
       "    </tr>\n",
       "    <tr>\n",
       "      <th>gross</th>\n",
       "      <td>0.250383</td>\n",
       "      <td>0.126851</td>\n",
       "      <td>0.692817</td>\n",
       "      <td>1.000000</td>\n",
       "      <td>0.982838</td>\n",
       "      <td>-0.182198</td>\n",
       "      <td>0.112066</td>\n",
       "    </tr>\n",
       "    <tr>\n",
       "      <th>profit</th>\n",
       "      <td>0.211387</td>\n",
       "      <td>0.167496</td>\n",
       "      <td>0.547903</td>\n",
       "      <td>0.982838</td>\n",
       "      <td>1.000000</td>\n",
       "      <td>-0.133632</td>\n",
       "      <td>0.123732</td>\n",
       "    </tr>\n",
       "    <tr>\n",
       "      <th>age_of_movie</th>\n",
       "      <td>-0.040322</td>\n",
       "      <td>0.193584</td>\n",
       "      <td>-0.303854</td>\n",
       "      <td>-0.182198</td>\n",
       "      <td>-0.133632</td>\n",
       "      <td>1.000000</td>\n",
       "      <td>0.112051</td>\n",
       "    </tr>\n",
       "    <tr>\n",
       "      <th>director_avg_rating</th>\n",
       "      <td>0.366029</td>\n",
       "      <td>0.798306</td>\n",
       "      <td>0.024520</td>\n",
       "      <td>0.112066</td>\n",
       "      <td>0.123732</td>\n",
       "      <td>0.112051</td>\n",
       "      <td>1.000000</td>\n",
       "    </tr>\n",
       "  </tbody>\n",
       "</table>\n",
       "</div>"
      ],
      "text/plain": [
       "                     runtimeMinutes  averageRating    budget     gross  \\\n",
       "runtimeMinutes             1.000000       0.359969  0.309109  0.250383   \n",
       "averageRating              0.359969       1.000000 -0.079510  0.126851   \n",
       "budget                     0.309109      -0.079510  1.000000  0.692817   \n",
       "gross                      0.250383       0.126851  0.692817  1.000000   \n",
       "profit                     0.211387       0.167496  0.547903  0.982838   \n",
       "age_of_movie              -0.040322       0.193584 -0.303854 -0.182198   \n",
       "director_avg_rating        0.366029       0.798306  0.024520  0.112066   \n",
       "\n",
       "                       profit  age_of_movie  director_avg_rating  \n",
       "runtimeMinutes       0.211387     -0.040322             0.366029  \n",
       "averageRating        0.167496      0.193584             0.798306  \n",
       "budget               0.547903     -0.303854             0.024520  \n",
       "gross                0.982838     -0.182198             0.112066  \n",
       "profit               1.000000     -0.133632             0.123732  \n",
       "age_of_movie        -0.133632      1.000000             0.112051  \n",
       "director_avg_rating  0.123732      0.112051             1.000000  "
      ]
     },
     "execution_count": 23,
     "metadata": {},
     "output_type": "execute_result"
    }
   ],
   "source": [
    "num_featrs_2 = ['runtimeMinutes', 'averageRating', 'budget', 'gross', 'profit', 'age_of_movie', 'director_avg_rating']\n",
    "\n",
    "# compute correlation matrix\n",
    "corr_matrix = imdb_data[num_featrs_2].corr()\n",
    "corr_matrix"
   ]
  },
  {
   "cell_type": "code",
   "execution_count": 24,
   "metadata": {},
   "outputs": [
    {
     "data": {
      "image/png": "[encoded data removed]",
      "text/plain": [
       "<Figure size 720x432 with 2 Axes>"
      ]
     },
     "metadata": {
      "needs_background": "light"
     },
     "output_type": "display_data"
    }
   ],
   "source": [
    "# plotting\n",
    "plt.figure(figsize=(10, 6))\n",
    "sns.heatmap(corr_matrix, annot=True, cmap='Reds')\n",
    "plt.title('Correlation Matrix After Feature Creation')\n",
    "plt.show()"
   ]
  },
  {
   "cell_type": "markdown",
   "metadata": {},
   "source": [
    "- Age of movie and profit were positively correlated with gross revenue."
   ]
  },
  {
   "cell_type": "markdown",
   "metadata": {},
   "source": [
    "## 4. Handling Categorical Features:"
   ]
  },
  {
   "cell_type": "code",
   "execution_count": 25,
   "metadata": {},
   "outputs": [],
   "source": [
    "categorical_features = ['primaryTitle', 'originalTitle', 'genres', 'directors']"
   ]
  },
  {
   "cell_type": "code",
   "execution_count": 27,
   "metadata": {},
   "outputs": [],
   "source": [
    "# initialize the encoders\n",
    "label_encoders = {}\n",
    "one_hot_encoders = {}\n",
    "\n",
    "# apply Label Encoding\n",
    "for feature in categorical_features:\n",
    "    label_encoders[feature] = LabelEncoder()\n",
    "    imdb_data[feature + '_label_encoded'] = label_encoders[feature].fit_transform(imdb_data[feature])"
   ]
  },
  {
   "cell_type": "code",
   "execution_count": 29,
   "metadata": {},
   "outputs": [
    {
     "name": "stdout",
     "output_type": "stream",
     "text": [
      "Dataset after Encoding:\n",
      "\n",
      "          id  isAdult  runtimeMinutes  averageRating  numVotes    budget  \\\n",
      "0  tt0035423        0             118            6.4     87925  48000000   \n",
      "1  tt0065421        0              78            7.1    111758   4000000   \n",
      "2  tt0065938        0             144            7.6     52628   4000000   \n",
      "3  tt0066026        0             116            7.4     75784   3500000   \n",
      "4  tt0066206        0             172            7.9    106476  12000000   \n",
      "\n",
      "        gross release_date  age_of_movie      profit  ...  \\\n",
      "0  76019048.0   2001-12-11            23  28019048.0  ...   \n",
      "1  35459543.0   1970-12-11            54  31459543.0  ...   \n",
      "2   5200000.0   1970-01-01            54   1200000.0  ...   \n",
      "3  81600000.0   1970-01-25            54  78100000.0  ...   \n",
      "4  61749765.0   1970-02-04            54  49749765.0  ...   \n",
      "\n",
      "   directors_Xavier Gens  directors_Yarrow Cheney, Scott Mosier  \\\n",
      "0                      0                                      0   \n",
      "1                      0                                      0   \n",
      "2                      0                                      0   \n",
      "3                      0                                      0   \n",
      "4                      0                                      0   \n",
      "\n",
      "   directors_Yash Chopra  directors_Yimou Zhang  directors_Yorgos Lanthimos  \\\n",
      "0                      0                      0                           0   \n",
      "1                      0                      0                           0   \n",
      "2                      0                      0                           0   \n",
      "3                      0                      0                           0   \n",
      "4                      0                      0                           0   \n",
      "\n",
      "   directors_Zach Braff  directors_Zach Cregger  directors_Zack Snyder  \\\n",
      "0                     0                       0                      0   \n",
      "1                     0                       0                      0   \n",
      "2                     0                       0                      0   \n",
      "3                     0                       0                      0   \n",
      "4                     0                       0                      0   \n",
      "\n",
      "   directors_Zal Batmanglij  directors_Ömer Faruk Sorak  \n",
      "0                         0                           0  \n",
      "1                         0                           0  \n",
      "2                         0                           0  \n",
      "3                         0                           0  \n",
      "4                         0                           0  \n",
      "\n",
      "[5 rows x 8248 columns]\n"
     ]
    }
   ],
   "source": [
    "# apply One-Hot Encoding\n",
    "data = pd.get_dummies(imdb_data, columns=categorical_features, drop_first=True)\n",
    "\n",
    "print(\"Dataset after Encoding:\\n\")\n",
    "print(data.head())"
   ]
  },
  {
   "cell_type": "markdown",
   "metadata": {},
   "source": [
    "## 5. Polynomial Features:"
   ]
  },
  {
   "cell_type": "markdown",
   "metadata": {},
   "source": [
    "### Loading the Dataset 2:"
   ]
  },
  {
   "cell_type": "code",
   "execution_count": 5,
   "metadata": {},
   "outputs": [],
   "source": [
    "h_data = pd.read_csv(\"housing.csv\")"
   ]
  },
  {
   "cell_type": "markdown",
   "metadata": {},
   "source": [
    "#### About Dataset:"
   ]
  },
  {
   "cell_type": "markdown",
   "metadata": {},
   "source": [
    "This dataset contains,\n",
    "- RM: Average number of rooms per dwelling.\n",
    "- LSTAT: Percentage of the population that is considered lower status.\n",
    "- PTRATIO: Pupil-teacher ratio by town.\n",
    "- MEDV: Median value of owner-occupied homes (often the target variable)."
   ]
  },
  {
   "cell_type": "code",
   "execution_count": 6,
   "metadata": {},
   "outputs": [
    {
     "data": {
      "text/plain": [
       "(489, 4)"
      ]
     },
     "execution_count": 6,
     "metadata": {},
     "output_type": "execute_result"
    }
   ],
   "source": [
    "# checking no. of rows & columns\n",
    "h_data.shape"
   ]
  },
  {
   "cell_type": "code",
   "execution_count": 8,
   "metadata": {},
   "outputs": [
    {
     "name": "stdout",
     "output_type": "stream",
     "text": [
      "<class 'pandas.core.frame.DataFrame'>\n",
      "RangeIndex: 489 entries, 0 to 488\n",
      "Data columns (total 4 columns):\n",
      " #   Column   Non-Null Count  Dtype  \n",
      "---  ------   --------------  -----  \n",
      " 0   RM       489 non-null    float64\n",
      " 1   LSTAT    489 non-null    float64\n",
      " 2   PTRATIO  489 non-null    float64\n",
      " 3   MEDV     489 non-null    float64\n",
      "dtypes: float64(4)\n",
      "memory usage: 15.3 KB\n"
     ]
    }
   ],
   "source": [
    "# about columns\n",
    "h_data.info()"
   ]
  },
  {
   "cell_type": "code",
   "execution_count": 9,
   "metadata": {},
   "outputs": [
    {
     "name": "stdout",
     "output_type": "stream",
     "text": [
      "RM         0\n",
      "LSTAT      0\n",
      "PTRATIO    0\n",
      "MEDV       0\n",
      "dtype: int64\n"
     ]
    }
   ],
   "source": [
    "# checking for missing values\n",
    "print(h_data.isna().sum())"
   ]
  },
  {
   "cell_type": "markdown",
   "metadata": {},
   "source": [
    "##### Separate the features and the target:"
   ]
  },
  {
   "cell_type": "code",
   "execution_count": 11,
   "metadata": {},
   "outputs": [],
   "source": [
    "X3 = h_data[['RM', 'LSTAT', 'PTRATIO']]\n",
    "y3 = h_data['MEDV']"
   ]
  },
  {
   "cell_type": "markdown",
   "metadata": {},
   "source": [
    "##### Generate Polynomial Features:"
   ]
  },
  {
   "cell_type": "code",
   "execution_count": 15,
   "metadata": {},
   "outputs": [
    {
     "data": {
      "text/html": [
       "<div>\n",
       "<style scoped>\n",
       "    .dataframe tbody tr th:only-of-type {\n",
       "        vertical-align: middle;\n",
       "    }\n",
       "\n",
       "    .dataframe tbody tr th {\n",
       "        vertical-align: top;\n",
       "    }\n",
       "\n",
       "    .dataframe thead th {\n",
       "        text-align: right;\n",
       "    }\n",
       "</style>\n",
       "<table border=\"1\" class=\"dataframe\">\n",
       "  <thead>\n",
       "    <tr style=\"text-align: right;\">\n",
       "      <th></th>\n",
       "      <th>RM</th>\n",
       "      <th>LSTAT</th>\n",
       "      <th>PTRATIO</th>\n",
       "      <th>RM^2</th>\n",
       "      <th>RM LSTAT</th>\n",
       "      <th>RM PTRATIO</th>\n",
       "      <th>LSTAT^2</th>\n",
       "      <th>LSTAT PTRATIO</th>\n",
       "      <th>PTRATIO^2</th>\n",
       "    </tr>\n",
       "  </thead>\n",
       "  <tbody>\n",
       "    <tr>\n",
       "      <th>0</th>\n",
       "      <td>6.575</td>\n",
       "      <td>4.98</td>\n",
       "      <td>15.3</td>\n",
       "      <td>43.230625</td>\n",
       "      <td>32.74350</td>\n",
       "      <td>100.5975</td>\n",
       "      <td>24.8004</td>\n",
       "      <td>76.194</td>\n",
       "      <td>234.09</td>\n",
       "    </tr>\n",
       "    <tr>\n",
       "      <th>1</th>\n",
       "      <td>6.421</td>\n",
       "      <td>9.14</td>\n",
       "      <td>17.8</td>\n",
       "      <td>41.229241</td>\n",
       "      <td>58.68794</td>\n",
       "      <td>114.2938</td>\n",
       "      <td>83.5396</td>\n",
       "      <td>162.692</td>\n",
       "      <td>316.84</td>\n",
       "    </tr>\n",
       "    <tr>\n",
       "      <th>2</th>\n",
       "      <td>7.185</td>\n",
       "      <td>4.03</td>\n",
       "      <td>17.8</td>\n",
       "      <td>51.624225</td>\n",
       "      <td>28.95555</td>\n",
       "      <td>127.8930</td>\n",
       "      <td>16.2409</td>\n",
       "      <td>71.734</td>\n",
       "      <td>316.84</td>\n",
       "    </tr>\n",
       "    <tr>\n",
       "      <th>3</th>\n",
       "      <td>6.998</td>\n",
       "      <td>2.94</td>\n",
       "      <td>18.7</td>\n",
       "      <td>48.972004</td>\n",
       "      <td>20.57412</td>\n",
       "      <td>130.8626</td>\n",
       "      <td>8.6436</td>\n",
       "      <td>54.978</td>\n",
       "      <td>349.69</td>\n",
       "    </tr>\n",
       "    <tr>\n",
       "      <th>4</th>\n",
       "      <td>7.147</td>\n",
       "      <td>5.33</td>\n",
       "      <td>18.7</td>\n",
       "      <td>51.079609</td>\n",
       "      <td>38.09351</td>\n",
       "      <td>133.6489</td>\n",
       "      <td>28.4089</td>\n",
       "      <td>99.671</td>\n",
       "      <td>349.69</td>\n",
       "    </tr>\n",
       "    <tr>\n",
       "      <th>...</th>\n",
       "      <td>...</td>\n",
       "      <td>...</td>\n",
       "      <td>...</td>\n",
       "      <td>...</td>\n",
       "      <td>...</td>\n",
       "      <td>...</td>\n",
       "      <td>...</td>\n",
       "      <td>...</td>\n",
       "      <td>...</td>\n",
       "    </tr>\n",
       "    <tr>\n",
       "      <th>484</th>\n",
       "      <td>6.593</td>\n",
       "      <td>9.67</td>\n",
       "      <td>21.0</td>\n",
       "      <td>43.467649</td>\n",
       "      <td>63.75431</td>\n",
       "      <td>138.4530</td>\n",
       "      <td>93.5089</td>\n",
       "      <td>203.070</td>\n",
       "      <td>441.00</td>\n",
       "    </tr>\n",
       "    <tr>\n",
       "      <th>485</th>\n",
       "      <td>6.120</td>\n",
       "      <td>9.08</td>\n",
       "      <td>21.0</td>\n",
       "      <td>37.454400</td>\n",
       "      <td>55.56960</td>\n",
       "      <td>128.5200</td>\n",
       "      <td>82.4464</td>\n",
       "      <td>190.680</td>\n",
       "      <td>441.00</td>\n",
       "    </tr>\n",
       "    <tr>\n",
       "      <th>486</th>\n",
       "      <td>6.976</td>\n",
       "      <td>5.64</td>\n",
       "      <td>21.0</td>\n",
       "      <td>48.664576</td>\n",
       "      <td>39.34464</td>\n",
       "      <td>146.4960</td>\n",
       "      <td>31.8096</td>\n",
       "      <td>118.440</td>\n",
       "      <td>441.00</td>\n",
       "    </tr>\n",
       "    <tr>\n",
       "      <th>487</th>\n",
       "      <td>6.794</td>\n",
       "      <td>6.48</td>\n",
       "      <td>21.0</td>\n",
       "      <td>46.158436</td>\n",
       "      <td>44.02512</td>\n",
       "      <td>142.6740</td>\n",
       "      <td>41.9904</td>\n",
       "      <td>136.080</td>\n",
       "      <td>441.00</td>\n",
       "    </tr>\n",
       "    <tr>\n",
       "      <th>488</th>\n",
       "      <td>6.030</td>\n",
       "      <td>7.88</td>\n",
       "      <td>21.0</td>\n",
       "      <td>36.360900</td>\n",
       "      <td>47.51640</td>\n",
       "      <td>126.6300</td>\n",
       "      <td>62.0944</td>\n",
       "      <td>165.480</td>\n",
       "      <td>441.00</td>\n",
       "    </tr>\n",
       "  </tbody>\n",
       "</table>\n",
       "<p>489 rows × 9 columns</p>\n",
       "</div>"
      ],
      "text/plain": [
       "        RM  LSTAT  PTRATIO       RM^2  RM LSTAT  RM PTRATIO  LSTAT^2  \\\n",
       "0    6.575   4.98     15.3  43.230625  32.74350    100.5975  24.8004   \n",
       "1    6.421   9.14     17.8  41.229241  58.68794    114.2938  83.5396   \n",
       "2    7.185   4.03     17.8  51.624225  28.95555    127.8930  16.2409   \n",
       "3    6.998   2.94     18.7  48.972004  20.57412    130.8626   8.6436   \n",
       "4    7.147   5.33     18.7  51.079609  38.09351    133.6489  28.4089   \n",
       "..     ...    ...      ...        ...       ...         ...      ...   \n",
       "484  6.593   9.67     21.0  43.467649  63.75431    138.4530  93.5089   \n",
       "485  6.120   9.08     21.0  37.454400  55.56960    128.5200  82.4464   \n",
       "486  6.976   5.64     21.0  48.664576  39.34464    146.4960  31.8096   \n",
       "487  6.794   6.48     21.0  46.158436  44.02512    142.6740  41.9904   \n",
       "488  6.030   7.88     21.0  36.360900  47.51640    126.6300  62.0944   \n",
       "\n",
       "     LSTAT PTRATIO  PTRATIO^2  \n",
       "0           76.194     234.09  \n",
       "1          162.692     316.84  \n",
       "2           71.734     316.84  \n",
       "3           54.978     349.69  \n",
       "4           99.671     349.69  \n",
       "..             ...        ...  \n",
       "484        203.070     441.00  \n",
       "485        190.680     441.00  \n",
       "486        118.440     441.00  \n",
       "487        136.080     441.00  \n",
       "488        165.480     441.00  \n",
       "\n",
       "[489 rows x 9 columns]"
      ]
     },
     "execution_count": 15,
     "metadata": {},
     "output_type": "execute_result"
    }
   ],
   "source": [
    "poly = PolynomialFeatures(degree=2, include_bias=False)\n",
    "X_poly = poly.fit_transform(X3)\n",
    "\n",
    "# convert the poly. features into a DataFrame\n",
    "poly_features_df = pd.DataFrame(X_poly, columns=poly.get_feature_names(X3.columns))\n",
    "\n",
    "poly_features_df"
   ]
  },
  {
   "cell_type": "markdown",
   "metadata": {},
   "source": [
    "- Polynomial features of degree 2 are generated using the PolynomialFeatures class."
   ]
  }
 ],
 "metadata": {
  "kernelspec": {
   "display_name": "Python 3",
   "language": "python",
   "name": "python3"
  },
  "language_info": {
   "codemirror_mode": {
    "name": "ipython",
    "version": 3
   },
   "file_extension": ".py",
   "mimetype": "text/x-python",
   "name": "python",
   "nbconvert_exporter": "python",
   "pygments_lexer": "ipython3",
   "version": "3.8.5"
  }
 },
 "nbformat": 4,
 "nbformat_minor": 4
}
