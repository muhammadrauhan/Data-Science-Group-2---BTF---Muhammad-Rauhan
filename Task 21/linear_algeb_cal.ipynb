{
 "cells": [
  {
   "cell_type": "markdown",
   "metadata": {},
   "source": [
    "# Task 21: Linear Algebra & Calculus Using NumPy"
   ]
  },
  {
   "cell_type": "markdown",
   "metadata": {},
   "source": [
    "### Importing Libraries:"
   ]
  },
  {
   "cell_type": "code",
   "execution_count": 8,
   "metadata": {},
   "outputs": [],
   "source": [
    "import numpy as np\n",
    "from scipy.linalg import lu, qr\n",
    "from scipy.optimize import minimize"
   ]
  },
  {
   "cell_type": "markdown",
   "metadata": {},
   "source": [
    "## Linear Algebra Tasks:"
   ]
  },
  {
   "cell_type": "markdown",
   "metadata": {},
   "source": [
    "NumPy provides us with functions for performing common linear algebra tasks, such as array multiplication, solving linear systems, and more."
   ]
  },
  {
   "cell_type": "markdown",
   "metadata": {},
   "source": [
    "### 1. Matrix Creation and Manipulation:"
   ]
  },
  {
   "cell_type": "code",
   "execution_count": 2,
   "metadata": {},
   "outputs": [
    {
     "name": "stdout",
     "output_type": "stream",
     "text": [
      "Zero Matrix:\n",
      " [[0. 0. 0.]\n",
      " [0. 0. 0.]\n",
      " [0. 0. 0.]]\n",
      "\n",
      "Identity Matrix:\n",
      " [[1. 0. 0.]\n",
      " [0. 1. 0.]\n",
      " [0. 0. 1.]]\n",
      "\n",
      "Random Matrix:\n",
      " [[4 4 9]\n",
      " [0 3 1]\n",
      " [8 9 8]]\n"
     ]
    }
   ],
   "source": [
    "# creating 3x3 zero matrix\n",
    "zero_matrix = np.zeros((3, 3))\n",
    "print(\"Zero Matrix:\\n\", zero_matrix)\n",
    "\n",
    "# creating 3x3 identity matrix\n",
    "identity_matrix = np.eye(3)\n",
    "print(\"\\nIdentity Matrix:\\n\", identity_matrix)\n",
    "\n",
    "# creating 3x3 random matrix\n",
    "random_matrix = np.random.randint(0, 10, (3,3))\n",
    "print(\"\\nRandom Matrix:\\n\", random_matrix)"
   ]
  },
  {
   "cell_type": "markdown",
   "metadata": {},
   "source": [
    "- **np.eye()** in Python returns a 2-D array with 1's as the diagonal and 0's elsewhere."
   ]
  },
  {
   "cell_type": "code",
   "execution_count": 3,
   "metadata": {},
   "outputs": [
    {
     "name": "stdout",
     "output_type": "stream",
     "text": [
      "Identity Matrix + Random Matrix\n",
      " [[5. 4. 9.]\n",
      " [0. 4. 1.]\n",
      " [8. 9. 9.]]\n"
     ]
    }
   ],
   "source": [
    "# addition of identity matrix and random matrix\n",
    "add_result = identity_matrix + random_matrix\n",
    "print(\"Identity Matrix + Random Matrix\\n\", add_result)"
   ]
  },
  {
   "cell_type": "code",
   "execution_count": 4,
   "metadata": {},
   "outputs": [
    {
     "name": "stdout",
     "output_type": "stream",
     "text": [
      "Random Matrix - Identity Matrix\n",
      " [[3. 4. 9.]\n",
      " [0. 2. 1.]\n",
      " [8. 9. 7.]]\n"
     ]
    }
   ],
   "source": [
    "# subtraction of identity matrix and random matrix\n",
    "sub_result = random_matrix - identity_matrix\n",
    "print(\"Random Matrix - Identity Matrix\\n\", sub_result)"
   ]
  },
  {
   "cell_type": "code",
   "execution_count": 5,
   "metadata": {},
   "outputs": [
    {
     "name": "stdout",
     "output_type": "stream",
     "text": [
      "Identity Matrix x Subtracted Result Matrix\n",
      " [[3. 0. 0.]\n",
      " [0. 2. 0.]\n",
      " [0. 0. 7.]]\n"
     ]
    }
   ],
   "source": [
    "# dot product of the two matrices\n",
    "mul_result = identity_matrix * sub_result\n",
    "print(\"Identity Matrix x Subtracted Result Matrix\\n\", mul_result)"
   ]
  },
  {
   "cell_type": "code",
   "execution_count": 6,
   "metadata": {},
   "outputs": [
    {
     "name": "stdout",
     "output_type": "stream",
     "text": [
      "Transpose of a Identity Matrix:\n",
      " [[4 0 8]\n",
      " [4 3 9]\n",
      " [9 1 8]]\n"
     ]
    }
   ],
   "source": [
    "# tranpose of a identity matrix\n",
    "transpose = np.transpose(random_matrix)\n",
    "print(\"Transpose of a Identity Matrix:\\n\", transpose)"
   ]
  },
  {
   "cell_type": "code",
   "execution_count": 7,
   "metadata": {},
   "outputs": [
    {
     "name": "stdout",
     "output_type": "stream",
     "text": [
      "Determinant of Random Matrix:\n",
      " -123.99999999999991\n"
     ]
    }
   ],
   "source": [
    "# determinant of random matrix\n",
    "det = np.linalg.det(random_matrix)\n",
    "print(\"Determinant of Random Matrix:\\n\", det)"
   ]
  },
  {
   "cell_type": "code",
   "execution_count": 8,
   "metadata": {},
   "outputs": [
    {
     "name": "stdout",
     "output_type": "stream",
     "text": [
      "Inverse of Random Matrix:\n",
      " [[-0.12096774 -0.39516129  0.18548387]\n",
      " [-0.06451613  0.32258065  0.03225806]\n",
      " [ 0.19354839  0.03225806 -0.09677419]]\n"
     ]
    }
   ],
   "source": [
    "# inverse of random matrix\n",
    "if np.linalg.det(random_matrix) != 0:  # check if the matrix is invertible\n",
    "    inverse_matrix = np.linalg.inv(random_matrix)\n",
    "    print(\"Inverse of Random Matrix:\\n\", inverse_matrix)\n",
    "else:\n",
    "    print(\"Random Matrix is not invertible.\")"
   ]
  },
  {
   "cell_type": "markdown",
   "metadata": {},
   "source": [
    "- **np.linalg.inv()**   calculates the inverse of a matrix.\n",
    "- **np.linalg.det()**\tcalculates the determinant of a matrix.\n",
    "- **np.transpose()**\ttransposes a matrix"
   ]
  },
  {
   "cell_type": "markdown",
   "metadata": {},
   "source": [
    "### 2. Solving Linear Equations:"
   ]
  },
  {
   "cell_type": "markdown",
   "metadata": {},
   "source": [
    "##### Solving system of linear equation:"
   ]
  },
  {
   "cell_type": "code",
   "execution_count": 9,
   "metadata": {},
   "outputs": [
    {
     "name": "stdout",
     "output_type": "stream",
     "text": [
      "The system does not have a unique solution.\n"
     ]
    }
   ],
   "source": [
    "# example system: 2x + 3y = 5, 4x + 6y = 10\n",
    "A = np.array([[2, 3], [4, 6]])\n",
    "b = np.array([5, 10])\n",
    "\n",
    "# check if the system has unique solution\n",
    "if np.linalg.det(A) != 0:\n",
    "    x = np.linalg.solve(A, b)\n",
    "    print(\"Solution to the system of equations:\\n\", x)\n",
    "else:\n",
    "    print(\"The system does not have a unique solution.\")"
   ]
  },
  {
   "cell_type": "code",
   "execution_count": 24,
   "metadata": {},
   "outputs": [
    {
     "name": "stdout",
     "output_type": "stream",
     "text": [
      "Solution to the system of equations:\n",
      " [-3.33333333  1.66666667]\n"
     ]
    }
   ],
   "source": [
    "# example system: 3x + 9y = 5, 2x + 10y = 10\n",
    "A2 = np.array([[3, 9], [2, 10]])\n",
    "b2 = np.array([5, 10])\n",
    "\n",
    "# check if the system has unique solution\n",
    "if np.linalg.det(A2) != 0:\n",
    "    x2 = np.linalg.solve(A2, b2)\n",
    "    print(\"Solution to the system of equations:\\n\", x2)\n",
    "else:\n",
    "    print(\"The system does not have a unique solution.\")"
   ]
  },
  {
   "cell_type": "markdown",
   "metadata": {},
   "source": [
    "##### LU Decomposition:"
   ]
  },
  {
   "cell_type": "code",
   "execution_count": 10,
   "metadata": {},
   "outputs": [
    {
     "name": "stdout",
     "output_type": "stream",
     "text": [
      "LU Decomposition:\n",
      "P Matrix:\n",
      " [[0. 0. 1.]\n",
      " [0. 1. 0.]\n",
      " [1. 0. 0.]]\n",
      "L Matrix:\n",
      " [[ 1.          0.          0.        ]\n",
      " [ 0.          1.          0.        ]\n",
      " [ 0.5        -0.16666667  1.        ]]\n",
      "U Matrix:\n",
      " [[8.         9.         8.        ]\n",
      " [0.         3.         1.        ]\n",
      " [0.         0.         5.16666667]]\n"
     ]
    }
   ],
   "source": [
    "# considering random matrix\n",
    "P, L, U = lu(random_matrix)\n",
    "\n",
    "print(\"LU Decomposition:\")\n",
    "print(\"P Matrix:\\n\", P)\n",
    "print(\"L Matrix:\\n\", L)\n",
    "print(\"U Matrix:\\n\", U)"
   ]
  },
  {
   "cell_type": "markdown",
   "metadata": {},
   "source": [
    "##### QR Decomposition:"
   ]
  },
  {
   "cell_type": "code",
   "execution_count": 11,
   "metadata": {},
   "outputs": [
    {
     "name": "stdout",
     "output_type": "stream",
     "text": [
      "QR Decomposition:\n",
      "Q Matrix:\n",
      " [[-0.4472136   0.13187609 -0.88465174]\n",
      " [-0.         -0.98907071 -0.14744196]\n",
      " [-0.89442719 -0.06593805  0.44232587]]\n",
      "R Matrix:\n",
      " [[ -8.94427191  -9.8386991  -11.18033989]\n",
      " [  0.          -3.03315018  -0.32969024]\n",
      " [  0.           0.          -4.57070064]]\n"
     ]
    }
   ],
   "source": [
    "# considering random matrix\n",
    "Q, R = qr(random_matrix)\n",
    "\n",
    "print(\"QR Decomposition:\")\n",
    "print(\"Q Matrix:\\n\", Q)\n",
    "print(\"R Matrix:\\n\", R)"
   ]
  },
  {
   "cell_type": "markdown",
   "metadata": {},
   "source": [
    "### 3. Eigenvalues and Eigenvectors:"
   ]
  },
  {
   "cell_type": "markdown",
   "metadata": {},
   "source": [
    "##### Calculate the eigenvalues and eigenvectors of a given matrix."
   ]
  },
  {
   "cell_type": "code",
   "execution_count": 12,
   "metadata": {},
   "outputs": [
    {
     "name": "stdout",
     "output_type": "stream",
     "text": [
      "Eigenvalues:\n",
      " [15.32023857 -3.00959413  2.68935557]\n",
      "Eigenvectors:\n",
      " [[-0.63454929 -0.76095902  0.65953591]\n",
      " [-0.06252712 -0.10649636 -0.71783507]\n",
      " [-0.77034899  0.63999992  0.22299147]]\n"
     ]
    }
   ],
   "source": [
    "# considering random matrix\n",
    "eigenvalues, eigenvectors = np.linalg.eig(random_matrix)\n",
    "print(\"Eigenvalues:\\n\", eigenvalues)\n",
    "print(\"Eigenvectors:\\n\", eigenvectors)"
   ]
  },
  {
   "cell_type": "code",
   "execution_count": 13,
   "metadata": {},
   "outputs": [
    {
     "name": "stdout",
     "output_type": "stream",
     "text": [
      "\n",
      "Reconstructed Matrix:\n",
      " [[ 4.00000000e+00  4.00000000e+00  9.00000000e+00]\n",
      " [-1.22124533e-15  3.00000000e+00  1.00000000e+00]\n",
      " [ 8.00000000e+00  9.00000000e+00  8.00000000e+00]]\n"
     ]
    }
   ],
   "source": [
    "# verify by reconstructing the original matrix\n",
    "\n",
    "D = np.diag(eigenvalues)\n",
    "P = eigenvectors\n",
    "P_inv = np.linalg.inv(P)\n",
    "A_reconstructed = P @ D @ P_inv\n",
    "print(\"\\nReconstructed Matrix:\\n\", A_reconstructed)"
   ]
  },
  {
   "cell_type": "markdown",
   "metadata": {},
   "source": [
    "- A = PDP^(-1), where D is a diagonal matrix of eigenvalues and P is a matrix of eigenvectors."
   ]
  },
  {
   "cell_type": "markdown",
   "metadata": {},
   "source": [
    "### 4. Vector Operations:"
   ]
  },
  {
   "cell_type": "code",
   "execution_count": 29,
   "metadata": {},
   "outputs": [
    {
     "name": "stdout",
     "output_type": "stream",
     "text": [
      "Addition Result:\n",
      " [5 7 9]\n",
      "\n",
      "Dot Product Result:\n",
      " 32\n",
      "\n",
      "Cross Product Result:\n",
      " [-3  6 -3]\n"
     ]
    }
   ],
   "source": [
    "v1 = np.array([1, 2, 3])\n",
    "v2 = np.array([4, 5, 6])\n",
    "\n",
    "# addition of vectors\n",
    "addition = v1 + v2\n",
    "print(\"Addition Result:\\n\", addition)\n",
    "\n",
    "# dot product of vectors\n",
    "dot_product = np.dot(v1, v2)\n",
    "print(\"\\nDot Product Result:\\n\", dot_product)\n",
    "\n",
    "# cross product of vectors\n",
    "cross_product= np.cross(v1, v2)\n",
    "print(\"\\nCross Product Result:\\n\", cross_product)"
   ]
  },
  {
   "cell_type": "markdown",
   "metadata": {},
   "source": [
    "##### Normalize a vector:"
   ]
  },
  {
   "cell_type": "code",
   "execution_count": 30,
   "metadata": {},
   "outputs": [
    {
     "name": "stdout",
     "output_type": "stream",
     "text": [
      "Normalized Vector v1:\n",
      " [0.26726124 0.53452248 0.80178373]\n"
     ]
    }
   ],
   "source": [
    "norm_v1 = np.linalg.norm(v1)\n",
    "normalized_v1 = v1 / norm_v1\n",
    "print(\"Normalized Vector v1:\\n\", normalized_v1)"
   ]
  },
  {
   "cell_type": "markdown",
   "metadata": {},
   "source": [
    "##### Compute vector norms:"
   ]
  },
  {
   "cell_type": "markdown",
   "metadata": {},
   "source": [
    "- L1 Norm of a vector is also known as the Manhattan distance or Taxicab norm.\n",
    "- L2 norm of a vector is Euclidean distance.\n",
    "- L-infinity norm (also known as the maximum norm or Chebyshev norm)."
   ]
  },
  {
   "cell_type": "code",
   "execution_count": 31,
   "metadata": {},
   "outputs": [
    {
     "name": "stdout",
     "output_type": "stream",
     "text": [
      "L2 Norm of v1:\n",
      " 3.7416573867739413\n",
      "\n",
      "L1 Norm of v1:\n",
      " 6.0\n",
      "\n",
      "Infinity Norm of v1:\n",
      " 3.0\n"
     ]
    }
   ],
   "source": [
    "l2_norm = np.linalg.norm(v1)\n",
    "l1_norm = np.linalg.norm(v1, ord=1)\n",
    "inf_norm = np.linalg.norm(v1, ord=np.inf)\n",
    "\n",
    "print(\"L2 Norm of v1:\\n\", l2_norm)\n",
    "print(\"\\nL1 Norm of v1:\\n\", l1_norm)\n",
    "print(\"\\nInfinity Norm of v1:\\n\", inf_norm)"
   ]
  },
  {
   "cell_type": "markdown",
   "metadata": {},
   "source": [
    "The default value for ord is 2, so if it's not specified, **np.linalg.norm** calculates the L2 norm by default.\n",
    "<br>\n",
    "Vector norm is calculated as:\n",
    "- L1 norm=∣v1∣+∣v2∣+∣v3∣\n",
    "- L-infinity norm=max(∣v1∣,∣v2∣,∣v3∣)\n",
    "- L2 norm= sqrt(v1^2+v2^2+v3^2)"
   ]
  },
  {
   "cell_type": "markdown",
   "metadata": {},
   "source": [
    "### 5. Matrix Decomposition:"
   ]
  },
  {
   "cell_type": "code",
   "execution_count": 15,
   "metadata": {},
   "outputs": [
    {
     "data": {
      "text/plain": [
       "array([[ 0.        , -1.33333333,  3.        ],\n",
       "       [-4.        , -2.33333333, -5.        ],\n",
       "       [ 4.        ,  3.66666667,  2.        ]])"
      ]
     },
     "execution_count": 15,
     "metadata": {},
     "output_type": "execute_result"
    }
   ],
   "source": [
    "# considering random matrix\n",
    "meaned_mat = random_matrix - np.mean(random_matrix, axis=0)\n",
    "meaned_mat"
   ]
  },
  {
   "cell_type": "markdown",
   "metadata": {},
   "source": [
    "- Standardize the data (mean centering). Subtract the mean of each feature from the data to center it around the origin."
   ]
  },
  {
   "cell_type": "code",
   "execution_count": 16,
   "metadata": {},
   "outputs": [
    {
     "data": {
      "text/plain": [
       "array([[16.        , 12.        , 14.        ],\n",
       "       [12.        , 10.33333333,  7.5       ],\n",
       "       [14.        ,  7.5       , 19.        ]])"
      ]
     },
     "execution_count": 16,
     "metadata": {},
     "output_type": "execute_result"
    }
   ],
   "source": [
    "# compute the covariance matrix\n",
    "cov_matrix = np.cov(meaned_mat, rowvar=False)\n",
    "cov_matrix"
   ]
  },
  {
   "cell_type": "markdown",
   "metadata": {},
   "source": [
    "##### Perform Singular Value Decomposition (SVD):"
   ]
  },
  {
   "cell_type": "code",
   "execution_count": 17,
   "metadata": {},
   "outputs": [],
   "source": [
    "U, S, Vt = np.linalg.svd(cov_matrix)"
   ]
  },
  {
   "cell_type": "code",
   "execution_count": 21,
   "metadata": {},
   "outputs": [],
   "source": [
    "# project the data onto the principal components\n",
    "rand_mat_pca = np.dot(meaned_mat, Vt.T)"
   ]
  },
  {
   "cell_type": "markdown",
   "metadata": {},
   "source": [
    "- I use Vt.T because Vt is the transpose of V."
   ]
  },
  {
   "cell_type": "code",
   "execution_count": 22,
   "metadata": {},
   "outputs": [
    {
     "name": "stdout",
     "output_type": "stream",
     "text": [
      "Original Data:\n",
      " [[4 4 9]\n",
      " [0 3 1]\n",
      " [8 9 8]]\n",
      "\n",
      "Mean Centered Data:\n",
      " [[ 0.         -1.33333333  3.        ]\n",
      " [-4.         -2.33333333 -5.        ]\n",
      " [ 4.          3.66666667  2.        ]]\n",
      "\n",
      "Covariance Matrix:\n",
      " [[16.         12.         14.        ]\n",
      " [12.         10.33333333  7.5       ]\n",
      " [14.          7.5        19.        ]]\n",
      "\n",
      "U (left singular vectors):\n",
      " [[-0.63541713 -0.2762147  -0.72107594]\n",
      " [-0.44238977 -0.63515764  0.63313985]\n",
      " [-0.63287942  0.72130453  0.28139549]]\n",
      "\n",
      "S (singular values):\n",
      " [3.82987206e+01 7.03461270e+00 1.23310416e-15]\n",
      "\n",
      "Vt (right singular vectors, transposed):\n",
      " [[-0.63541713 -0.44238977 -0.63287942]\n",
      " [-0.2762147  -0.63515764  0.72130453]\n",
      " [-0.72107594  0.63313985  0.28139549]]\n",
      "\n",
      "Projected Data (PCA):\n",
      " [[-1.30878523e+00  3.01079043e+00  0.00000000e+00]\n",
      " [ 6.73830842e+00 -1.01962936e+00 -4.44089210e-16]\n",
      " [-5.42952319e+00 -1.99116106e+00  8.88178420e-16]]\n"
     ]
    }
   ],
   "source": [
    "print(\"Original Data:\\n\", random_matrix)\n",
    "print(\"\\nMean Centered Data:\\n\", meaned_mat)\n",
    "print(\"\\nCovariance Matrix:\\n\", cov_matrix)\n",
    "print(\"\\nU (left singular vectors):\\n\", U)\n",
    "print(\"\\nS (singular values):\\n\", S)\n",
    "print(\"\\nVt (right singular vectors, transposed):\\n\", Vt)\n",
    "print(\"\\nProjected Data (PCA):\\n\", rand_mat_pca)"
   ]
  },
  {
   "cell_type": "markdown",
   "metadata": {},
   "source": [
    "## Calculus Tasks:"
   ]
  },
  {
   "cell_type": "markdown",
   "metadata": {},
   "source": [
    "NumPy, a powerful numerical library in Python, provides tools to perform basic calculus operations such as differentiation and integration numerically. NumPy allows for efficient and practical numerical computation of derivatives and integrals, which are essential for various applications in science and engineering."
   ]
  },
  {
   "cell_type": "markdown",
   "metadata": {},
   "source": [
    "### 1. Numerical Integration:"
   ]
  },
  {
   "cell_type": "markdown",
   "metadata": {},
   "source": [
    "Numerical integration can be performed using techniques like the Trapezoidal rule or Simpson's rule."
   ]
  },
  {
   "cell_type": "code",
   "execution_count": 23,
   "metadata": {},
   "outputs": [
    {
     "name": "stdout",
     "output_type": "stream",
     "text": [
      "Trapezoidal rule result: 0.33335000000000004\n"
     ]
    }
   ],
   "source": [
    "def trapezoidal_rule(f, a, b, n):\n",
    "    \n",
    "    x = np.linspace(a, b, n+1)\n",
    "    y = f(x)\n",
    "    h = (b - a) / n\n",
    "    integral = (h/2) * (y[0] + 2*np.sum(y[1:-1]) + y[-1])\n",
    "    return integral\n",
    "\n",
    "# cheching\n",
    "f = lambda x: x**2\n",
    "a = 0\n",
    "b = 1\n",
    "n = 100\n",
    "result = trapezoidal_rule(f, a, b, n)\n",
    "print(\"Trapezoidal rule result:\", result)"
   ]
  },
  {
   "cell_type": "code",
   "execution_count": 25,
   "metadata": {},
   "outputs": [
    {
     "name": "stdout",
     "output_type": "stream",
     "text": [
      "Simpson's rule result: 0.33333333333333337\n"
     ]
    }
   ],
   "source": [
    "def simpsons_rule(f, a, b, n):\n",
    "    if n % 2 == 1:\n",
    "        raise ValueError(\"n must be an even number.\")\n",
    "    \n",
    "    x = np.linspace(a, b, n+1)\n",
    "    y = f(x)\n",
    "    h = (b - a) / n\n",
    "    integral = (h/3) * (y[0] + 4*np.sum(y[1:-1:2]) + 2*np.sum(y[2:-2:2]) + y[-1])\n",
    "    return integral\n",
    "\n",
    "# checking\n",
    "f = lambda x: x**2\n",
    "a = 0\n",
    "b = 1\n",
    "n = 50\n",
    "result = simpsons_rule(f, a, b, n)\n",
    "print(\"Simpson's rule result:\", result)"
   ]
  },
  {
   "cell_type": "markdown",
   "metadata": {},
   "source": [
    "**Note**: 'n' must be an even number (for simpson's rule)\n",
    "- 'f' is the function to integrate.\n",
    "- 'a' and 'b' are the start and end points of the interval.\n",
    "- 'n' is the number of intervals."
   ]
  },
  {
   "cell_type": "markdown",
   "metadata": {},
   "source": [
    "### 2. Numerical Differenciation:"
   ]
  },
  {
   "cell_type": "markdown",
   "metadata": {},
   "source": [
    "Implementations of numerical differentiation using forward, backward, and central difference methods with NumPy."
   ]
  },
  {
   "cell_type": "code",
   "execution_count": 3,
   "metadata": {},
   "outputs": [
    {
     "name": "stdout",
     "output_type": "stream",
     "text": [
      "Forward difference result: 2.0100000000000007\n"
     ]
    }
   ],
   "source": [
    "# forward difference method\n",
    "def forward_difference(f, x, h):\n",
    "    return (f(x + h) - f(x)) / h\n",
    "\n",
    "# to check\n",
    "f = lambda x: x**2\n",
    "x = 1\n",
    "h = 0.01\n",
    "result_fd = forward_difference(f, x, h)\n",
    "print(\"Forward difference result:\", result_fd)"
   ]
  },
  {
   "cell_type": "markdown",
   "metadata": {},
   "source": [
    "The forward difference method approximates the derivative by using the difference between the function value at a point and the function value at the next point.\n",
    "- f : The function to differentiate.\n",
    "- x : The point at which to compute the derivative.\n",
    "- h : The step size."
   ]
  },
  {
   "cell_type": "code",
   "execution_count": 4,
   "metadata": {},
   "outputs": [
    {
     "name": "stdout",
     "output_type": "stream",
     "text": [
      "Backward difference result: 1.9900000000000029\n"
     ]
    }
   ],
   "source": [
    "# backward difference method\n",
    "def backward_difference(f, x, h):\n",
    "    return (f(x) - f(x - h)) / h\n",
    "\n",
    "# checking\n",
    "f = lambda x: x**2\n",
    "x = 1\n",
    "h = 0.01\n",
    "result_bd = backward_difference(f, x, h)\n",
    "print(\"Backward difference result:\", result_bd)"
   ]
  },
  {
   "cell_type": "markdown",
   "metadata": {},
   "source": [
    "The backward difference method approximates the derivative by using the difference between the function value at a point and the function value at the previous point.\n",
    "- f : The function to differentiate.\n",
    "- x : The point at which to compute the derivative.\n",
    "- h : The step size."
   ]
  },
  {
   "cell_type": "code",
   "execution_count": 5,
   "metadata": {},
   "outputs": [
    {
     "name": "stdout",
     "output_type": "stream",
     "text": [
      "Central difference result: 2.0000000000000018\n"
     ]
    }
   ],
   "source": [
    "# central difference method\n",
    "def central_difference(f, x, h):\n",
    "    return (f(x + h) - f(x - h)) / (2 * h)\n",
    "\n",
    "# checking\n",
    "f = lambda x: x**2\n",
    "x = 1\n",
    "h = 0.01\n",
    "result_cd = central_difference(f, x, h)\n",
    "print(\"Central difference result:\", result_cd)"
   ]
  },
  {
   "cell_type": "markdown",
   "metadata": {},
   "source": [
    "The central difference method approximates the derivative by using the difference between the function values at the next and previous points.\n",
    "- f : The function to differentiate.\n",
    "- x : The point at which to compute the derivative.\n",
    "- h : The step size."
   ]
  },
  {
   "cell_type": "markdown",
   "metadata": {},
   "source": [
    "### 3. Partial Derivatives:"
   ]
  },
  {
   "cell_type": "markdown",
   "metadata": {},
   "source": [
    "Let's consider a function f(x,y) = x^2 + y^2. We will compute the partial derivatives with respect to x and y."
   ]
  },
  {
   "cell_type": "code",
   "execution_count": 6,
   "metadata": {},
   "outputs": [
    {
     "name": "stdout",
     "output_type": "stream",
     "text": [
      "Partial derivative with respect to x: 2.000000000002\n",
      "Partial derivative with respect to y: 2.000000000002\n"
     ]
    }
   ],
   "source": [
    "def partial_derivative(f, var_index, point, h=1e-5):\n",
    "    \n",
    "    point_forward = np.array(point, dtype=float)\n",
    "    point_backward = np.array(point, dtype=float)\n",
    "    \n",
    "    point_forward[var_index] += h\n",
    "    point_backward[var_index] -= h\n",
    "    \n",
    "    return (f(*point_forward) - f(*point_backward)) / (2 * h)\n",
    "\n",
    "# example func.\n",
    "f = lambda x, y: x**2 + y**2\n",
    "\n",
    "# point at which to compute the partial derivatives\n",
    "point = (1, 1)\n",
    "\n",
    "# compute partial derivatives\n",
    "partial_x = partial_derivative(f, 0, point)\n",
    "partial_y = partial_derivative(f, 1, point)\n",
    "\n",
    "print(\"Partial derivative with respect to x:\", partial_x)\n",
    "print(\"Partial derivative with respect to y:\", partial_y)"
   ]
  },
  {
   "cell_type": "markdown",
   "metadata": {},
   "source": [
    "- **'f'** is the multivariable function to differentiate.\n",
    "- **'var_index'** is the index of the variable with respect to which to compute the partial derivative.\n",
    "- **'point'** is the point at which to compute the partial derivative.\n",
    "- **'h'** is the step size, defaulting to 1e-5."
   ]
  },
  {
   "cell_type": "code",
   "execution_count": 7,
   "metadata": {},
   "outputs": [
    {
     "name": "stdout",
     "output_type": "stream",
     "text": [
      "Analytical partial derivative with respect to x: 2\n",
      "Analytical partial derivative with respect to y: 2\n",
      "Results verified and are correct.\n"
     ]
    }
   ],
   "source": [
    "# analytical solutions for verification\n",
    "analy_partial_x = 2 * point[0]\n",
    "analy_partial_y = 2 * point[1]\n",
    "\n",
    "print(\"Analytical partial derivative with respect to x:\", analy_partial_x)\n",
    "print(\"Analytical partial derivative with respect to y:\", analy_partial_y)\n",
    "\n",
    "# verifying\n",
    "assert np.isclose(partial_x, analy_partial_x, atol=1e-5), \"Partial derivative with respect to x is incorrect.\"\n",
    "assert np.isclose(partial_y, analy_partial_y, atol=1e-5), \"Partial derivative with respect to y is incorrect.\"\n",
    "\n",
    "print(\"Results verified and are correct.\")"
   ]
  },
  {
   "cell_type": "markdown",
   "metadata": {},
   "source": [
    "**np.isclose(partial_x, analytical_partial_x, atol=1e-5)**:\n",
    "- This function checks if the partial derivative of x is approximately equals to the analytical solution of x.\n",
    "- atol=1e-5 specifies the absolute tolerance. This means the difference between partial_x and analytical_partial_x must be within 10^-5."
   ]
  },
  {
   "cell_type": "markdown",
   "metadata": {},
   "source": [
    "**assert**:\n",
    "\n",
    "- This keyword is used to perform the check.\n",
    "- If np.isclose(partial_x, analytical_partial_x, atol=1e-5) returns True, the program continues execution.\n",
    "- If returns False, assert statement raises an AssertionError and stops the program, indicating that the numerical result does not match the analytical result within the specified tolerance."
   ]
  },
  {
   "cell_type": "markdown",
   "metadata": {},
   "source": [
    "### 4. Optimization:"
   ]
  },
  {
   "cell_type": "markdown",
   "metadata": {},
   "source": [
    "Let's minimize the function f(x,y) = (x-1)^2 + (y-2)^2 subject to the constraint x+y ≤ 3."
   ]
  },
  {
   "cell_type": "code",
   "execution_count": 9,
   "metadata": {},
   "outputs": [
    {
     "name": "stdout",
     "output_type": "stream",
     "text": [
      "Optimal value of x: [0.99999999 1.99999999]\n",
      "Optimal objective function value: 2.4984835742366904e-16\n"
     ]
    }
   ],
   "source": [
    "def objective_function(x):\n",
    "    return (x[0] - 1)**2 + (x[1] - 2)**2\n",
    "\n",
    "def constraint(x):\n",
    "    return 3 - (x[0] + x[1])\n",
    "\n",
    "# initial guess\n",
    "x0 = np.array([0.5, 0.5])\n",
    "\n",
    "# constraint in the form of a dictionary\n",
    "cons = {'type': 'ineq', 'fun': constraint}\n",
    "\n",
    "# perform the optimization\n",
    "res_opt = minimize(objective_function, x0, constraints=cons)\n",
    "\n",
    "print(\"Optimal value of x:\", res_opt.x)\n",
    "print(\"Optimal objective function value:\", res_opt.fun)"
   ]
  },
  {
   "cell_type": "markdown",
   "metadata": {},
   "source": [
    "- **Constraints Definition**: The constraints are defined in a dictionary format with 'type': 'ineq' indicating it's an inequality constraint and 'fun': constraint specifying the constraint function."
   ]
  }
 ],
 "metadata": {
  "kernelspec": {
   "display_name": "Python 3",
   "language": "python",
   "name": "python3"
  },
  "language_info": {
   "codemirror_mode": {
    "name": "ipython",
    "version": 3
   },
   "file_extension": ".py",
   "mimetype": "text/x-python",
   "name": "python",
   "nbconvert_exporter": "python",
   "pygments_lexer": "ipython3",
   "version": "3.8.5"
  }
 },
 "nbformat": 4,
 "nbformat_minor": 4
}
