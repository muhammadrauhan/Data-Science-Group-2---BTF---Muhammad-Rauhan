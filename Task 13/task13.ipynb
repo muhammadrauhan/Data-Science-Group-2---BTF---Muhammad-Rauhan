{
 "cells": [
  {
   "cell_type": "markdown",
   "metadata": {},
   "source": [
    "# Task 13: Data Manipulation with Pandas"
   ]
  },
  {
   "cell_type": "markdown",
   "metadata": {},
   "source": [
    "## Data: Online Sales Data"
   ]
  },
  {
   "cell_type": "markdown",
   "metadata": {},
   "source": [
    "### Importing Libraries:"
   ]
  },
  {
   "cell_type": "code",
   "execution_count": 8,
   "metadata": {},
   "outputs": [],
   "source": [
    "import pandas as pd\n",
    "import numpy as np\n",
    "import matplotlib.pyplot as plt"
   ]
  },
  {
   "cell_type": "markdown",
   "metadata": {},
   "source": [
    "##### Load a DataFrame from CSV file:"
   ]
  },
  {
   "cell_type": "code",
   "execution_count": 3,
   "metadata": {},
   "outputs": [
    {
     "data": {
      "text/html": [
       "<div>\n",
       "<style scoped>\n",
       "    .dataframe tbody tr th:only-of-type {\n",
       "        vertical-align: middle;\n",
       "    }\n",
       "\n",
       "    .dataframe tbody tr th {\n",
       "        vertical-align: top;\n",
       "    }\n",
       "\n",
       "    .dataframe thead th {\n",
       "        text-align: right;\n",
       "    }\n",
       "</style>\n",
       "<table border=\"1\" class=\"dataframe\">\n",
       "  <thead>\n",
       "    <tr style=\"text-align: right;\">\n",
       "      <th></th>\n",
       "      <th>Transaction ID</th>\n",
       "      <th>Date</th>\n",
       "      <th>Product Category</th>\n",
       "      <th>Product Name</th>\n",
       "      <th>Units Sold</th>\n",
       "      <th>Unit Price</th>\n",
       "      <th>Total Revenue</th>\n",
       "      <th>Region</th>\n",
       "      <th>Payment Method</th>\n",
       "    </tr>\n",
       "  </thead>\n",
       "  <tbody>\n",
       "    <tr>\n",
       "      <th>0</th>\n",
       "      <td>10001</td>\n",
       "      <td>2024-01-01</td>\n",
       "      <td>Electronics</td>\n",
       "      <td>iPhone 14 Pro</td>\n",
       "      <td>2</td>\n",
       "      <td>999.99</td>\n",
       "      <td>1999.98</td>\n",
       "      <td>North America</td>\n",
       "      <td>Credit Card</td>\n",
       "    </tr>\n",
       "    <tr>\n",
       "      <th>1</th>\n",
       "      <td>10002</td>\n",
       "      <td>2024-01-02</td>\n",
       "      <td>Home Appliances</td>\n",
       "      <td>Dyson V11 Vacuum</td>\n",
       "      <td>1</td>\n",
       "      <td>499.99</td>\n",
       "      <td>499.99</td>\n",
       "      <td>Europe</td>\n",
       "      <td>PayPal</td>\n",
       "    </tr>\n",
       "    <tr>\n",
       "      <th>2</th>\n",
       "      <td>10003</td>\n",
       "      <td>2024-01-03</td>\n",
       "      <td>Clothing</td>\n",
       "      <td>Levi's 501 Jeans</td>\n",
       "      <td>3</td>\n",
       "      <td>69.99</td>\n",
       "      <td>209.97</td>\n",
       "      <td>Asia</td>\n",
       "      <td>Debit Card</td>\n",
       "    </tr>\n",
       "    <tr>\n",
       "      <th>3</th>\n",
       "      <td>10004</td>\n",
       "      <td>2024-01-04</td>\n",
       "      <td>Books</td>\n",
       "      <td>The Da Vinci Code</td>\n",
       "      <td>4</td>\n",
       "      <td>15.99</td>\n",
       "      <td>63.96</td>\n",
       "      <td>North America</td>\n",
       "      <td>Credit Card</td>\n",
       "    </tr>\n",
       "    <tr>\n",
       "      <th>4</th>\n",
       "      <td>10005</td>\n",
       "      <td>2024-01-05</td>\n",
       "      <td>Beauty Products</td>\n",
       "      <td>Neutrogena Skincare Set</td>\n",
       "      <td>1</td>\n",
       "      <td>89.99</td>\n",
       "      <td>89.99</td>\n",
       "      <td>Europe</td>\n",
       "      <td>PayPal</td>\n",
       "    </tr>\n",
       "    <tr>\n",
       "      <th>...</th>\n",
       "      <td>...</td>\n",
       "      <td>...</td>\n",
       "      <td>...</td>\n",
       "      <td>...</td>\n",
       "      <td>...</td>\n",
       "      <td>...</td>\n",
       "      <td>...</td>\n",
       "      <td>...</td>\n",
       "      <td>...</td>\n",
       "    </tr>\n",
       "    <tr>\n",
       "      <th>235</th>\n",
       "      <td>10236</td>\n",
       "      <td>2024-08-23</td>\n",
       "      <td>Home Appliances</td>\n",
       "      <td>Nespresso Vertuo Next Coffee and Espresso Maker</td>\n",
       "      <td>1</td>\n",
       "      <td>159.99</td>\n",
       "      <td>159.99</td>\n",
       "      <td>Europe</td>\n",
       "      <td>PayPal</td>\n",
       "    </tr>\n",
       "    <tr>\n",
       "      <th>236</th>\n",
       "      <td>10237</td>\n",
       "      <td>2024-08-24</td>\n",
       "      <td>Clothing</td>\n",
       "      <td>Nike Air Force 1 Sneakers</td>\n",
       "      <td>3</td>\n",
       "      <td>90.00</td>\n",
       "      <td>270.00</td>\n",
       "      <td>Asia</td>\n",
       "      <td>Debit Card</td>\n",
       "    </tr>\n",
       "    <tr>\n",
       "      <th>237</th>\n",
       "      <td>10238</td>\n",
       "      <td>2024-08-25</td>\n",
       "      <td>Books</td>\n",
       "      <td>The Handmaid's Tale by Margaret Atwood</td>\n",
       "      <td>3</td>\n",
       "      <td>10.99</td>\n",
       "      <td>32.97</td>\n",
       "      <td>North America</td>\n",
       "      <td>Credit Card</td>\n",
       "    </tr>\n",
       "    <tr>\n",
       "      <th>238</th>\n",
       "      <td>10239</td>\n",
       "      <td>2024-08-26</td>\n",
       "      <td>Beauty Products</td>\n",
       "      <td>Sunday Riley Luna Sleeping Night Oil</td>\n",
       "      <td>1</td>\n",
       "      <td>55.00</td>\n",
       "      <td>55.00</td>\n",
       "      <td>Europe</td>\n",
       "      <td>PayPal</td>\n",
       "    </tr>\n",
       "    <tr>\n",
       "      <th>239</th>\n",
       "      <td>10240</td>\n",
       "      <td>2024-08-27</td>\n",
       "      <td>Sports</td>\n",
       "      <td>Yeti Rambler 20 oz Tumbler</td>\n",
       "      <td>2</td>\n",
       "      <td>29.99</td>\n",
       "      <td>59.98</td>\n",
       "      <td>Asia</td>\n",
       "      <td>Credit Card</td>\n",
       "    </tr>\n",
       "  </tbody>\n",
       "</table>\n",
       "<p>240 rows × 9 columns</p>\n",
       "</div>"
      ],
      "text/plain": [
       "     Transaction ID        Date Product Category  \\\n",
       "0             10001  2024-01-01      Electronics   \n",
       "1             10002  2024-01-02  Home Appliances   \n",
       "2             10003  2024-01-03         Clothing   \n",
       "3             10004  2024-01-04            Books   \n",
       "4             10005  2024-01-05  Beauty Products   \n",
       "..              ...         ...              ...   \n",
       "235           10236  2024-08-23  Home Appliances   \n",
       "236           10237  2024-08-24         Clothing   \n",
       "237           10238  2024-08-25            Books   \n",
       "238           10239  2024-08-26  Beauty Products   \n",
       "239           10240  2024-08-27           Sports   \n",
       "\n",
       "                                        Product Name  Units Sold  Unit Price  \\\n",
       "0                                      iPhone 14 Pro           2      999.99   \n",
       "1                                   Dyson V11 Vacuum           1      499.99   \n",
       "2                                   Levi's 501 Jeans           3       69.99   \n",
       "3                                  The Da Vinci Code           4       15.99   \n",
       "4                            Neutrogena Skincare Set           1       89.99   \n",
       "..                                               ...         ...         ...   \n",
       "235  Nespresso Vertuo Next Coffee and Espresso Maker           1      159.99   \n",
       "236                        Nike Air Force 1 Sneakers           3       90.00   \n",
       "237           The Handmaid's Tale by Margaret Atwood           3       10.99   \n",
       "238             Sunday Riley Luna Sleeping Night Oil           1       55.00   \n",
       "239                       Yeti Rambler 20 oz Tumbler           2       29.99   \n",
       "\n",
       "     Total Revenue         Region Payment Method  \n",
       "0          1999.98  North America    Credit Card  \n",
       "1           499.99         Europe         PayPal  \n",
       "2           209.97           Asia     Debit Card  \n",
       "3            63.96  North America    Credit Card  \n",
       "4            89.99         Europe         PayPal  \n",
       "..             ...            ...            ...  \n",
       "235         159.99         Europe         PayPal  \n",
       "236         270.00           Asia     Debit Card  \n",
       "237          32.97  North America    Credit Card  \n",
       "238          55.00         Europe         PayPal  \n",
       "239          59.98           Asia    Credit Card  \n",
       "\n",
       "[240 rows x 9 columns]"
      ]
     },
     "execution_count": 3,
     "metadata": {},
     "output_type": "execute_result"
    }
   ],
   "source": [
    "onlinesalesdata = pd.read_csv('Online Sales Data.csv')\n",
    "onlinesalesdata"
   ]
  },
  {
   "cell_type": "markdown",
   "metadata": {},
   "source": [
    "##### Set a specific column as the index of the DataFrame."
   ]
  },
  {
   "cell_type": "code",
   "execution_count": 9,
   "metadata": {},
   "outputs": [
    {
     "data": {
      "text/html": [
       "<div>\n",
       "<style scoped>\n",
       "    .dataframe tbody tr th:only-of-type {\n",
       "        vertical-align: middle;\n",
       "    }\n",
       "\n",
       "    .dataframe tbody tr th {\n",
       "        vertical-align: top;\n",
       "    }\n",
       "\n",
       "    .dataframe thead th {\n",
       "        text-align: right;\n",
       "    }\n",
       "</style>\n",
       "<table border=\"1\" class=\"dataframe\">\n",
       "  <thead>\n",
       "    <tr style=\"text-align: right;\">\n",
       "      <th></th>\n",
       "      <th>Transaction ID</th>\n",
       "      <th>Date</th>\n",
       "      <th>Product Category</th>\n",
       "      <th>Product Name</th>\n",
       "      <th>Units Sold</th>\n",
       "      <th>Unit Price</th>\n",
       "      <th>Total Revenue</th>\n",
       "      <th>Payment Method</th>\n",
       "    </tr>\n",
       "    <tr>\n",
       "      <th>Region</th>\n",
       "      <th></th>\n",
       "      <th></th>\n",
       "      <th></th>\n",
       "      <th></th>\n",
       "      <th></th>\n",
       "      <th></th>\n",
       "      <th></th>\n",
       "      <th></th>\n",
       "    </tr>\n",
       "  </thead>\n",
       "  <tbody>\n",
       "    <tr>\n",
       "      <th>North America</th>\n",
       "      <td>10001</td>\n",
       "      <td>2024-01-01</td>\n",
       "      <td>Electronics</td>\n",
       "      <td>iPhone 14 Pro</td>\n",
       "      <td>2</td>\n",
       "      <td>999.99</td>\n",
       "      <td>1999.98</td>\n",
       "      <td>Credit Card</td>\n",
       "    </tr>\n",
       "    <tr>\n",
       "      <th>Europe</th>\n",
       "      <td>10002</td>\n",
       "      <td>2024-01-02</td>\n",
       "      <td>Home Appliances</td>\n",
       "      <td>Dyson V11 Vacuum</td>\n",
       "      <td>1</td>\n",
       "      <td>499.99</td>\n",
       "      <td>499.99</td>\n",
       "      <td>PayPal</td>\n",
       "    </tr>\n",
       "    <tr>\n",
       "      <th>Asia</th>\n",
       "      <td>10003</td>\n",
       "      <td>2024-01-03</td>\n",
       "      <td>Clothing</td>\n",
       "      <td>Levi's 501 Jeans</td>\n",
       "      <td>3</td>\n",
       "      <td>69.99</td>\n",
       "      <td>209.97</td>\n",
       "      <td>Debit Card</td>\n",
       "    </tr>\n",
       "    <tr>\n",
       "      <th>North America</th>\n",
       "      <td>10004</td>\n",
       "      <td>2024-01-04</td>\n",
       "      <td>Books</td>\n",
       "      <td>The Da Vinci Code</td>\n",
       "      <td>4</td>\n",
       "      <td>15.99</td>\n",
       "      <td>63.96</td>\n",
       "      <td>Credit Card</td>\n",
       "    </tr>\n",
       "    <tr>\n",
       "      <th>Europe</th>\n",
       "      <td>10005</td>\n",
       "      <td>2024-01-05</td>\n",
       "      <td>Beauty Products</td>\n",
       "      <td>Neutrogena Skincare Set</td>\n",
       "      <td>1</td>\n",
       "      <td>89.99</td>\n",
       "      <td>89.99</td>\n",
       "      <td>PayPal</td>\n",
       "    </tr>\n",
       "    <tr>\n",
       "      <th>...</th>\n",
       "      <td>...</td>\n",
       "      <td>...</td>\n",
       "      <td>...</td>\n",
       "      <td>...</td>\n",
       "      <td>...</td>\n",
       "      <td>...</td>\n",
       "      <td>...</td>\n",
       "      <td>...</td>\n",
       "    </tr>\n",
       "    <tr>\n",
       "      <th>Europe</th>\n",
       "      <td>10236</td>\n",
       "      <td>2024-08-23</td>\n",
       "      <td>Home Appliances</td>\n",
       "      <td>Nespresso Vertuo Next Coffee and Espresso Maker</td>\n",
       "      <td>1</td>\n",
       "      <td>159.99</td>\n",
       "      <td>159.99</td>\n",
       "      <td>PayPal</td>\n",
       "    </tr>\n",
       "    <tr>\n",
       "      <th>Asia</th>\n",
       "      <td>10237</td>\n",
       "      <td>2024-08-24</td>\n",
       "      <td>Clothing</td>\n",
       "      <td>Nike Air Force 1 Sneakers</td>\n",
       "      <td>3</td>\n",
       "      <td>90.00</td>\n",
       "      <td>270.00</td>\n",
       "      <td>Debit Card</td>\n",
       "    </tr>\n",
       "    <tr>\n",
       "      <th>North America</th>\n",
       "      <td>10238</td>\n",
       "      <td>2024-08-25</td>\n",
       "      <td>Books</td>\n",
       "      <td>The Handmaid's Tale by Margaret Atwood</td>\n",
       "      <td>3</td>\n",
       "      <td>10.99</td>\n",
       "      <td>32.97</td>\n",
       "      <td>Credit Card</td>\n",
       "    </tr>\n",
       "    <tr>\n",
       "      <th>Europe</th>\n",
       "      <td>10239</td>\n",
       "      <td>2024-08-26</td>\n",
       "      <td>Beauty Products</td>\n",
       "      <td>Sunday Riley Luna Sleeping Night Oil</td>\n",
       "      <td>1</td>\n",
       "      <td>55.00</td>\n",
       "      <td>55.00</td>\n",
       "      <td>PayPal</td>\n",
       "    </tr>\n",
       "    <tr>\n",
       "      <th>Asia</th>\n",
       "      <td>10240</td>\n",
       "      <td>2024-08-27</td>\n",
       "      <td>Sports</td>\n",
       "      <td>Yeti Rambler 20 oz Tumbler</td>\n",
       "      <td>2</td>\n",
       "      <td>29.99</td>\n",
       "      <td>59.98</td>\n",
       "      <td>Credit Card</td>\n",
       "    </tr>\n",
       "  </tbody>\n",
       "</table>\n",
       "<p>240 rows × 8 columns</p>\n",
       "</div>"
      ],
      "text/plain": [
       "               Transaction ID        Date Product Category  \\\n",
       "Region                                                       \n",
       "North America           10001  2024-01-01      Electronics   \n",
       "Europe                  10002  2024-01-02  Home Appliances   \n",
       "Asia                    10003  2024-01-03         Clothing   \n",
       "North America           10004  2024-01-04            Books   \n",
       "Europe                  10005  2024-01-05  Beauty Products   \n",
       "...                       ...         ...              ...   \n",
       "Europe                  10236  2024-08-23  Home Appliances   \n",
       "Asia                    10237  2024-08-24         Clothing   \n",
       "North America           10238  2024-08-25            Books   \n",
       "Europe                  10239  2024-08-26  Beauty Products   \n",
       "Asia                    10240  2024-08-27           Sports   \n",
       "\n",
       "                                                  Product Name  Units Sold  \\\n",
       "Region                                                                       \n",
       "North America                                    iPhone 14 Pro           2   \n",
       "Europe                                        Dyson V11 Vacuum           1   \n",
       "Asia                                          Levi's 501 Jeans           3   \n",
       "North America                                The Da Vinci Code           4   \n",
       "Europe                                 Neutrogena Skincare Set           1   \n",
       "...                                                        ...         ...   \n",
       "Europe         Nespresso Vertuo Next Coffee and Espresso Maker           1   \n",
       "Asia                                 Nike Air Force 1 Sneakers           3   \n",
       "North America           The Handmaid's Tale by Margaret Atwood           3   \n",
       "Europe                    Sunday Riley Luna Sleeping Night Oil           1   \n",
       "Asia                                Yeti Rambler 20 oz Tumbler           2   \n",
       "\n",
       "               Unit Price  Total Revenue Payment Method  \n",
       "Region                                                   \n",
       "North America      999.99        1999.98    Credit Card  \n",
       "Europe             499.99         499.99         PayPal  \n",
       "Asia                69.99         209.97     Debit Card  \n",
       "North America       15.99          63.96    Credit Card  \n",
       "Europe              89.99          89.99         PayPal  \n",
       "...                   ...            ...            ...  \n",
       "Europe             159.99         159.99         PayPal  \n",
       "Asia                90.00         270.00     Debit Card  \n",
       "North America       10.99          32.97    Credit Card  \n",
       "Europe              55.00          55.00         PayPal  \n",
       "Asia                29.99          59.98    Credit Card  \n",
       "\n",
       "[240 rows x 8 columns]"
      ]
     },
     "execution_count": 9,
     "metadata": {},
     "output_type": "execute_result"
    }
   ],
   "source": [
    "index_column = 'Region'\n",
    "onlinesalesdata.set_index(index_column, inplace = True)\n",
    "onlinesalesdata"
   ]
  },
  {
   "cell_type": "markdown",
   "metadata": {},
   "source": [
    "##### Select a specific column and display its values:"
   ]
  },
  {
   "cell_type": "code",
   "execution_count": 4,
   "metadata": {},
   "outputs": [
    {
     "data": {
      "text/plain": [
       "Electronics        40\n",
       "Sports             40\n",
       "Beauty Products    40\n",
       "Home Appliances    40\n",
       "Books              40\n",
       "Clothing           40\n",
       "Name: Product Category, dtype: int64"
      ]
     },
     "execution_count": 4,
     "metadata": {},
     "output_type": "execute_result"
    }
   ],
   "source": [
    "product_count = onlinesalesdata['Product Category'].value_counts()\n",
    "product_count"
   ]
  },
  {
   "cell_type": "markdown",
   "metadata": {},
   "source": [
    "##### Select multiple columns and display the resulting DataFrame:"
   ]
  },
  {
   "cell_type": "code",
   "execution_count": 10,
   "metadata": {},
   "outputs": [
    {
     "data": {
      "text/plain": [
       "Product Category  Product Name                                    \n",
       "Books             The Catcher in the Rye by J.D. Salinger             2\n",
       "Electronics       Sony WH-1000XM4 Headphones                          2\n",
       "Books             The Girl with the Dragon Tattoo by Stieg Larsson    2\n",
       "                  The Silent Patient by Alex Michaelides              2\n",
       "Home Appliances   Keurig K-Elite Coffee Maker                         2\n",
       "                                                                     ..\n",
       "Electronics       Samsung QLED 4K TV                                  1\n",
       "                  Samsung Odyssey G9 Gaming Monitor                   1\n",
       "                  Samsung Odyssey G7 Gaming Monitor                   1\n",
       "                  Samsung Galaxy Watch 4                              1\n",
       "Beauty Products   Anastasia Beverly Hills Brow Wiz                    1\n",
       "Length: 234, dtype: int64"
      ]
     },
     "execution_count": 10,
     "metadata": {},
     "output_type": "execute_result"
    }
   ],
   "source": [
    "onlinesalesdata[['Product Category', 'Product Name']].value_counts()"
   ]
  },
  {
   "cell_type": "markdown",
   "metadata": {},
   "source": [
    "##### Group the DataFrame by specific column and calculate the mean of each group."
   ]
  },
  {
   "cell_type": "code",
   "execution_count": 20,
   "metadata": {},
   "outputs": [
    {
     "name": "stdout",
     "output_type": "stream",
     "text": [
      "\n",
      "Mean of Units Sold and Total Revenue by Product Category:\n"
     ]
    },
    {
     "data": {
      "text/html": [
       "<div>\n",
       "<style scoped>\n",
       "    .dataframe tbody tr th:only-of-type {\n",
       "        vertical-align: middle;\n",
       "    }\n",
       "\n",
       "    .dataframe tbody tr th {\n",
       "        vertical-align: top;\n",
       "    }\n",
       "\n",
       "    .dataframe thead th {\n",
       "        text-align: right;\n",
       "    }\n",
       "</style>\n",
       "<table border=\"1\" class=\"dataframe\">\n",
       "  <thead>\n",
       "    <tr style=\"text-align: right;\">\n",
       "      <th></th>\n",
       "      <th>Units Sold</th>\n",
       "      <th>Total Revenue</th>\n",
       "    </tr>\n",
       "    <tr>\n",
       "      <th>Product Category</th>\n",
       "      <th></th>\n",
       "      <th></th>\n",
       "    </tr>\n",
       "  </thead>\n",
       "  <tbody>\n",
       "    <tr>\n",
       "      <th>Beauty Products</th>\n",
       "      <td>1.150</td>\n",
       "      <td>65.54750</td>\n",
       "    </tr>\n",
       "    <tr>\n",
       "      <th>Books</th>\n",
       "      <td>2.850</td>\n",
       "      <td>46.54825</td>\n",
       "    </tr>\n",
       "    <tr>\n",
       "      <th>Clothing</th>\n",
       "      <td>3.625</td>\n",
       "      <td>203.22325</td>\n",
       "    </tr>\n",
       "    <tr>\n",
       "      <th>Electronics</th>\n",
       "      <td>1.650</td>\n",
       "      <td>874.56025</td>\n",
       "    </tr>\n",
       "    <tr>\n",
       "      <th>Home Appliances</th>\n",
       "      <td>1.475</td>\n",
       "      <td>466.15400</td>\n",
       "    </tr>\n",
       "    <tr>\n",
       "      <th>Sports</th>\n",
       "      <td>2.200</td>\n",
       "      <td>358.16300</td>\n",
       "    </tr>\n",
       "  </tbody>\n",
       "</table>\n",
       "</div>"
      ],
      "text/plain": [
       "                  Units Sold  Total Revenue\n",
       "Product Category                           \n",
       "Beauty Products        1.150       65.54750\n",
       "Books                  2.850       46.54825\n",
       "Clothing               3.625      203.22325\n",
       "Electronics            1.650      874.56025\n",
       "Home Appliances        1.475      466.15400\n",
       "Sports                 2.200      358.16300"
      ]
     },
     "execution_count": 20,
     "metadata": {},
     "output_type": "execute_result"
    }
   ],
   "source": [
    "grouped_mean = onlinesalesdata.groupby('Product Category').agg({'Units Sold': 'mean', 'Total Revenue': 'mean'})\n",
    "print(\"\\nMean of Units Sold and Total Revenue by Product Category:\")\n",
    "grouped_mean"
   ]
  },
  {
   "cell_type": "markdown",
   "metadata": {},
   "source": [
    "##### Group the DataFrame by multiple columns and calculate the sum of each group."
   ]
  },
  {
   "cell_type": "code",
   "execution_count": 19,
   "metadata": {},
   "outputs": [
    {
     "name": "stdout",
     "output_type": "stream",
     "text": [
      "\n",
      "Sum of Units Sold and Total Revenue by Region and Product Category:\n"
     ]
    },
    {
     "data": {
      "text/html": [
       "<div>\n",
       "<style scoped>\n",
       "    .dataframe tbody tr th:only-of-type {\n",
       "        vertical-align: middle;\n",
       "    }\n",
       "\n",
       "    .dataframe tbody tr th {\n",
       "        vertical-align: top;\n",
       "    }\n",
       "\n",
       "    .dataframe thead th {\n",
       "        text-align: right;\n",
       "    }\n",
       "</style>\n",
       "<table border=\"1\" class=\"dataframe\">\n",
       "  <thead>\n",
       "    <tr style=\"text-align: right;\">\n",
       "      <th></th>\n",
       "      <th></th>\n",
       "      <th>Units Sold</th>\n",
       "      <th>Total Revenue</th>\n",
       "    </tr>\n",
       "    <tr>\n",
       "      <th>Region</th>\n",
       "      <th>Product Category</th>\n",
       "      <th></th>\n",
       "      <th></th>\n",
       "    </tr>\n",
       "  </thead>\n",
       "  <tbody>\n",
       "    <tr>\n",
       "      <th rowspan=\"2\" valign=\"top\">Asia</th>\n",
       "      <th>Clothing</th>\n",
       "      <td>145</td>\n",
       "      <td>8128.93</td>\n",
       "    </tr>\n",
       "    <tr>\n",
       "      <th>Sports</th>\n",
       "      <td>88</td>\n",
       "      <td>14326.52</td>\n",
       "    </tr>\n",
       "    <tr>\n",
       "      <th rowspan=\"2\" valign=\"top\">Europe</th>\n",
       "      <th>Beauty Products</th>\n",
       "      <td>46</td>\n",
       "      <td>2621.90</td>\n",
       "    </tr>\n",
       "    <tr>\n",
       "      <th>Home Appliances</th>\n",
       "      <td>59</td>\n",
       "      <td>18646.16</td>\n",
       "    </tr>\n",
       "    <tr>\n",
       "      <th rowspan=\"2\" valign=\"top\">North America</th>\n",
       "      <th>Books</th>\n",
       "      <td>114</td>\n",
       "      <td>1861.93</td>\n",
       "    </tr>\n",
       "    <tr>\n",
       "      <th>Electronics</th>\n",
       "      <td>66</td>\n",
       "      <td>34982.41</td>\n",
       "    </tr>\n",
       "  </tbody>\n",
       "</table>\n",
       "</div>"
      ],
      "text/plain": [
       "                                Units Sold  Total Revenue\n",
       "Region        Product Category                           \n",
       "Asia          Clothing                 145        8128.93\n",
       "              Sports                    88       14326.52\n",
       "Europe        Beauty Products           46        2621.90\n",
       "              Home Appliances           59       18646.16\n",
       "North America Books                    114        1861.93\n",
       "              Electronics               66       34982.41"
      ]
     },
     "execution_count": 19,
     "metadata": {},
     "output_type": "execute_result"
    }
   ],
   "source": [
    "g_sum = onlinesalesdata.groupby(['Region', 'Product Category']).agg({'Units Sold': 'sum', 'Total Revenue': 'sum'})\n",
    "print(\"\\nSum of Units Sold and Total Revenue by Region and Product Category:\")\n",
    "g_sum"
   ]
  },
  {
   "cell_type": "markdown",
   "metadata": {},
   "source": [
    "##### Use the agg method to apply multiple aggregation functions to grouped data."
   ]
  },
  {
   "cell_type": "code",
   "execution_count": 22,
   "metadata": {},
   "outputs": [
    {
     "data": {
      "text/html": [
       "<div>\n",
       "<style scoped>\n",
       "    .dataframe tbody tr th:only-of-type {\n",
       "        vertical-align: middle;\n",
       "    }\n",
       "\n",
       "    .dataframe tbody tr th {\n",
       "        vertical-align: top;\n",
       "    }\n",
       "\n",
       "    .dataframe thead tr th {\n",
       "        text-align: left;\n",
       "    }\n",
       "\n",
       "    .dataframe thead tr:last-of-type th {\n",
       "        text-align: right;\n",
       "    }\n",
       "</style>\n",
       "<table border=\"1\" class=\"dataframe\">\n",
       "  <thead>\n",
       "    <tr>\n",
       "      <th></th>\n",
       "      <th colspan=\"2\" halign=\"left\">Units Sold</th>\n",
       "      <th colspan=\"2\" halign=\"left\">Total Revenue</th>\n",
       "    </tr>\n",
       "    <tr>\n",
       "      <th></th>\n",
       "      <th>mean</th>\n",
       "      <th>sum</th>\n",
       "      <th>mean</th>\n",
       "      <th>sum</th>\n",
       "    </tr>\n",
       "    <tr>\n",
       "      <th>Payment Method</th>\n",
       "      <th></th>\n",
       "      <th></th>\n",
       "      <th></th>\n",
       "      <th></th>\n",
       "    </tr>\n",
       "  </thead>\n",
       "  <tbody>\n",
       "    <tr>\n",
       "      <th>Credit Card</th>\n",
       "      <td>2.233333</td>\n",
       "      <td>268</td>\n",
       "      <td>426.423833</td>\n",
       "      <td>51170.86</td>\n",
       "    </tr>\n",
       "    <tr>\n",
       "      <th>Debit Card</th>\n",
       "      <td>3.625000</td>\n",
       "      <td>145</td>\n",
       "      <td>203.223250</td>\n",
       "      <td>8128.93</td>\n",
       "    </tr>\n",
       "    <tr>\n",
       "      <th>PayPal</th>\n",
       "      <td>1.312500</td>\n",
       "      <td>105</td>\n",
       "      <td>265.850750</td>\n",
       "      <td>21268.06</td>\n",
       "    </tr>\n",
       "  </tbody>\n",
       "</table>\n",
       "</div>"
      ],
      "text/plain": [
       "               Units Sold      Total Revenue          \n",
       "                     mean  sum          mean       sum\n",
       "Payment Method                                        \n",
       "Credit Card      2.233333  268    426.423833  51170.86\n",
       "Debit Card       3.625000  145    203.223250   8128.93\n",
       "PayPal           1.312500  105    265.850750  21268.06"
      ]
     },
     "execution_count": 22,
     "metadata": {},
     "output_type": "execute_result"
    }
   ],
   "source": [
    "g_agg = onlinesalesdata.groupby('Payment Method').agg({'Units Sold': ['mean', 'sum'], 'Total Revenue': ['mean', 'sum']})\n",
    "\n",
    "g_agg"
   ]
  },
  {
   "cell_type": "markdown",
   "metadata": {},
   "source": [
    "##### Select a subset of rows and columns using the .iloc method:"
   ]
  },
  {
   "cell_type": "code",
   "execution_count": 4,
   "metadata": {},
   "outputs": [
    {
     "name": "stdout",
     "output_type": "stream",
     "text": [
      "Transaction ID                  10004\n",
      "Date                       2024-01-04\n",
      "Product Category                Books\n",
      "Product Name        The Da Vinci Code\n",
      "Units Sold                          4\n",
      "Unit Price                      15.99\n",
      "Total Revenue                   63.96\n",
      "Region                  North America\n",
      "Payment Method            Credit Card\n",
      "Name: 3, dtype: object\n"
     ]
    }
   ],
   "source": [
    "print(onlinesalesdata.iloc[3]) # zero based index"
   ]
  },
  {
   "cell_type": "markdown",
   "metadata": {},
   "source": [
    "##### Select a subset of rows using the .loc method:"
   ]
  },
  {
   "cell_type": "code",
   "execution_count": 12,
   "metadata": {},
   "outputs": [
    {
     "name": "stdout",
     "output_type": "stream",
     "text": [
      "\n",
      "Subset of rows where Region is 'Europe':\n",
      "     Transaction ID        Date Product Category  \\\n",
      "1             10002  2024-01-02  Home Appliances   \n",
      "4             10005  2024-01-05  Beauty Products   \n",
      "7             10008  2024-01-08  Home Appliances   \n",
      "10            10011  2024-01-11  Beauty Products   \n",
      "13            10014  2024-01-14  Home Appliances   \n",
      "..              ...         ...              ...   \n",
      "226           10227  2024-08-14  Beauty Products   \n",
      "229           10230  2024-08-17  Home Appliances   \n",
      "232           10233  2024-08-20  Beauty Products   \n",
      "235           10236  2024-08-23  Home Appliances   \n",
      "238           10239  2024-08-26  Beauty Products   \n",
      "\n",
      "                                        Product Name  Units Sold  Unit Price  \\\n",
      "1                                   Dyson V11 Vacuum           1      499.99   \n",
      "4                            Neutrogena Skincare Set           1       89.99   \n",
      "7                               Blueair Classic 480i           2      599.99   \n",
      "10                              Chanel No. 5 Perfume           1      129.99   \n",
      "13                       Keurig K-Elite Coffee Maker           1      189.99   \n",
      "..                                               ...         ...         ...   \n",
      "226         The Ordinary Caffeine Solution 5% + EGCG           1        6.70   \n",
      "229                             Anova Precision Oven           1      599.00   \n",
      "232                        Fresh Sugar Lip Treatment           1       24.00   \n",
      "235  Nespresso Vertuo Next Coffee and Espresso Maker           1      159.99   \n",
      "238             Sunday Riley Luna Sleeping Night Oil           1       55.00   \n",
      "\n",
      "     Total Revenue  Region Payment Method  \n",
      "1           499.99  Europe         PayPal  \n",
      "4            89.99  Europe         PayPal  \n",
      "7          1199.98  Europe         PayPal  \n",
      "10          129.99  Europe         PayPal  \n",
      "13          189.99  Europe         PayPal  \n",
      "..             ...     ...            ...  \n",
      "226           6.70  Europe         PayPal  \n",
      "229         599.00  Europe         PayPal  \n",
      "232          24.00  Europe         PayPal  \n",
      "235         159.99  Europe         PayPal  \n",
      "238          55.00  Europe         PayPal  \n",
      "\n",
      "[80 rows x 9 columns]\n"
     ]
    }
   ],
   "source": [
    "subset_rows_by_condition = onlinesalesdata.loc[onlinesalesdata['Region'] == 'Europe']\n",
    "\n",
    "print(\"\\nSubset of rows where Region is 'Europe':\")\n",
    "print(subset_rows_by_condition)"
   ]
  },
  {
   "cell_type": "markdown",
   "metadata": {},
   "source": [
    "##### Validating categorical data:"
   ]
  },
  {
   "cell_type": "code",
   "execution_count": 5,
   "metadata": {},
   "outputs": [
    {
     "data": {
      "text/plain": [
       "0       True\n",
       "1       True\n",
       "2      False\n",
       "3      False\n",
       "4      False\n",
       "       ...  \n",
       "235     True\n",
       "236    False\n",
       "237    False\n",
       "238    False\n",
       "239    False\n",
       "Name: Product Category, Length: 240, dtype: bool"
      ]
     },
     "execution_count": 5,
     "metadata": {},
     "output_type": "execute_result"
    }
   ],
   "source": [
    "# Use isin to filter rows based on a list of values.\n",
    "\n",
    "onlinesalesdata[\"Product Category\"].isin([\"Electronics\", \"Home Appliances\"])"
   ]
  },
  {
   "cell_type": "markdown",
   "metadata": {},
   "source": [
    "##### Subsetting Rows:"
   ]
  },
  {
   "cell_type": "code",
   "execution_count": 6,
   "metadata": {},
   "outputs": [
    {
     "name": "stdout",
     "output_type": "stream",
     "text": [
      "     Transaction ID        Date Product Category  \\\n",
      "2             10003  2024-01-03         Clothing   \n",
      "5             10006  2024-01-06           Sports   \n",
      "8             10009  2024-01-09         Clothing   \n",
      "11            10012  2024-01-12           Sports   \n",
      "14            10015  2024-01-15         Clothing   \n",
      "..              ...         ...              ...   \n",
      "227           10228  2024-08-15           Sports   \n",
      "230           10231  2024-08-18         Clothing   \n",
      "233           10234  2024-08-21           Sports   \n",
      "236           10237  2024-08-24         Clothing   \n",
      "239           10240  2024-08-27           Sports   \n",
      "\n",
      "                                Product Name  Units Sold  Unit Price  \\\n",
      "2                           Levi's 501 Jeans           3       69.99   \n",
      "5                Wilson Evolution Basketball           5       29.99   \n",
      "8                           Nike Air Force 1           6       89.99   \n",
      "11          Babolat Pure Drive Tennis Racket           3      199.99   \n",
      "14                    North Face Down Jacket           2      249.99   \n",
      "..                                       ...         ...         ...   \n",
      "227                              Fitbit Luxe           2      149.95   \n",
      "230          Adidas Originals Trefoil Hoodie           4       64.99   \n",
      "233  Hydro Flask Standard Mouth Water Bottle           3       32.95   \n",
      "236                Nike Air Force 1 Sneakers           3       90.00   \n",
      "239               Yeti Rambler 20 oz Tumbler           2       29.99   \n",
      "\n",
      "     Total Revenue Region Payment Method  \n",
      "2           209.97   Asia     Debit Card  \n",
      "5           149.95   Asia    Credit Card  \n",
      "8           539.94   Asia     Debit Card  \n",
      "11          599.97   Asia    Credit Card  \n",
      "14          499.98   Asia     Debit Card  \n",
      "..             ...    ...            ...  \n",
      "227         299.90   Asia    Credit Card  \n",
      "230         259.96   Asia     Debit Card  \n",
      "233          98.85   Asia    Credit Card  \n",
      "236         270.00   Asia     Debit Card  \n",
      "239          59.98   Asia    Credit Card  \n",
      "\n",
      "[80 rows x 9 columns]\n"
     ]
    }
   ],
   "source": [
    "# filter for rows where region is Asia\n",
    "asia_reg = onlinesalesdata[onlinesalesdata[\"Region\"] == \"Asia\"]\n",
    "\n",
    "print(asia_reg)"
   ]
  },
  {
   "cell_type": "code",
   "execution_count": 7,
   "metadata": {},
   "outputs": [
    {
     "name": "stdout",
     "output_type": "stream",
     "text": [
      "     Transaction ID        Date Product Category  \\\n",
      "8             10009  2024-01-09         Clothing   \n",
      "11            10012  2024-01-12           Sports   \n",
      "14            10015  2024-01-15         Clothing   \n",
      "35            10036  2024-02-05           Sports   \n",
      "65            10066  2024-03-06           Sports   \n",
      "95            10096  2024-04-05           Sports   \n",
      "113           10114  2024-04-23           Sports   \n",
      "173           10174  2024-06-22           Sports   \n",
      "185           10186  2024-07-04           Sports   \n",
      "221           10222  2024-08-09           Sports   \n",
      "\n",
      "                                     Product Name  Units Sold  Unit Price  \\\n",
      "8                                Nike Air Force 1           6       89.99   \n",
      "11               Babolat Pure Drive Tennis Racket           3      199.99   \n",
      "14                         North Face Down Jacket           2      249.99   \n",
      "35                                   Peloton Bike           1     1895.00   \n",
      "65                                Garmin Edge 530           2      299.99   \n",
      "95                            Garmin Fenix 6X Pro           1      999.99   \n",
      "113                                Fitbit Versa 3           3      229.95   \n",
      "173  Bowflex SelectTech 1090 Adjustable Dumbbells           1      699.99   \n",
      "185                              Polar Vantage V2           1      499.95   \n",
      "221                         Garmin Forerunner 945           1      599.99   \n",
      "\n",
      "     Total Revenue Region Payment Method  \n",
      "8           539.94   Asia     Debit Card  \n",
      "11          599.97   Asia    Credit Card  \n",
      "14          499.98   Asia     Debit Card  \n",
      "35         1895.00   Asia    Credit Card  \n",
      "65          599.98   Asia    Credit Card  \n",
      "95          999.99   Asia    Credit Card  \n",
      "113         689.85   Asia    Credit Card  \n",
      "173         699.99   Asia    Credit Card  \n",
      "185         499.95   Asia    Credit Card  \n",
      "221         599.99   Asia    Credit Card  \n"
     ]
    }
   ],
   "source": [
    "# filter for rows where total revenue is greater than 499 \n",
    "# and region is Asia\n",
    "rev_asia = onlinesalesdata[(onlinesalesdata[\"Total Revenue\"] > 499) & (onlinesalesdata[\"Region\"]== \"Asia\")]\n",
    "\n",
    "\n",
    "print(rev_asia)"
   ]
  },
  {
   "cell_type": "markdown",
   "metadata": {},
   "source": [
    "### Q. What are the top 10 selling products within each category:"
   ]
  },
  {
   "cell_type": "code",
   "execution_count": 10,
   "metadata": {},
   "outputs": [
    {
     "data": {
      "image/png": "[encoded data removed]",
      "text/plain": [
       "<Figure size 432x288 with 1 Axes>"
      ]
     },
     "metadata": {
      "needs_background": "light"
     },
     "output_type": "display_data"
    }
   ],
   "source": [
    "# Top-selling products within each category\n",
    "\n",
    "top_selling_products = onlinesalesdata.groupby('Product Category')['Total Revenue'].sum().sort_values(ascending=False).head(10)\n",
    "\n",
    "top_selling_products.plot(kind='bar')\n",
    "plt.title('Top 10 Product Category')\n",
    "plt.show()"
   ]
  }
 ],
 "metadata": {
  "kernelspec": {
   "display_name": "Python 3",
   "language": "python",
   "name": "python3"
  },
  "language_info": {
   "codemirror_mode": {
    "name": "ipython",
    "version": 3
   },
   "file_extension": ".py",
   "mimetype": "text/x-python",
   "name": "python",
   "nbconvert_exporter": "python",
   "pygments_lexer": "ipython3",
   "version": "3.8.5"
  }
 },
 "nbformat": 4,
 "nbformat_minor": 4
}
