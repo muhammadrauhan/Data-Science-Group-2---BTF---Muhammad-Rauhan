{
 "cells": [
  {
   "cell_type": "markdown",
   "metadata": {},
   "source": [
    "# Task 7: Object Oriented Programming (OOP)\n",
    "\n",
    "\n",
    "## Simple Library Management System using OOP concepts.\n",
    "This is the system that manage books, members and borrowing activities."
   ]
  },
  {
   "cell_type": "markdown",
   "metadata": {},
   "source": [
    "### Book Class:\n",
    "\n",
    "The 'Book' class manages individual books with attributes for the title, author, ISBN, and status. It includes methods to display information, mark the book as borrowed, and mark it as returned."
   ]
  },
  {
   "cell_type": "code",
   "execution_count": 1,
   "metadata": {},
   "outputs": [],
   "source": [
    "# defining a class\n",
    "\n",
    "class Book:\n",
    "    \n",
    "    def __init__(self, title, author, isbn):\n",
    "        self.title = title;\n",
    "        self.author = author;\n",
    "        self.isbn = isbn;\n",
    "        self.status = \"available\" # Initially the book is available\n",
    "        \n",
    "    def displayinfo(self):\n",
    "        print(f\"Title: {self.title}, Author: {self.author}, ISBN: {self.isbn}, Status: {self.status}\")\n",
    "    \n",
    "\n",
    "    def mark_as_borrowed(self):\n",
    "        if self.status == \"available\":\n",
    "            self.status = \"borrowed\"\n",
    "            return True\n",
    "        return False\n",
    "    \n",
    "    \n",
    "    def mark_as_returned(self):\n",
    "        if self.status == \"borrowed\":\n",
    "            self.status = \"available\"\n",
    "            return True\n",
    "        return False"
   ]
  },
  {
   "cell_type": "markdown",
   "metadata": {},
   "source": [
    "### Member Class:\n",
    "The 'Member' class handles library members, tracking their name, member ID, and the books they have borrowed. It provides methods for borrowing and returning books and displaying member information."
   ]
  },
  {
   "cell_type": "code",
   "execution_count": 2,
   "metadata": {},
   "outputs": [],
   "source": [
    "class Member:\n",
    "    \n",
    "    def __init__(self, name, member_id):\n",
    "        self.name = name;\n",
    "        self.member_id = member_id;\n",
    "        self.borrowed_books = []\n",
    "        \n",
    "    def displayinfo(self):\n",
    "        print(f\"Name: {self.name}, Member ID: {self.member_id}, Borrowed Books: {[book.title for book in self.borrowed_books]}\")\n",
    "    \n",
    "    \n",
    "    def borrow_book(self, book):\n",
    "        if book.mark_as_borrowed():\n",
    "            self.borrowed_books.append(book)\n",
    "            print(f\"{self.name} borrowed {book.title}\")\n",
    "        else:\n",
    "            print(f\"{book.title} is not available\")\n",
    "\n",
    "            \n",
    "    def return_book(self, book):\n",
    "        if book in self.borrowed_books and book.mark_as_returned():\n",
    "            self.borrowed_books.remove(book)\n",
    "            print(f\"{self.name} returned {book.title}\")\n",
    "        else:\n",
    "            print(f\"{self.name} does not have {book.title} or it is already returned\")\n",
    "    "
   ]
  },
  {
   "cell_type": "markdown",
   "metadata": {},
   "source": [
    "### Library Class:\n",
    "The 'Library' class manages the collection of books and members. It add books, register members, issue books, return books, and display all books and members."
   ]
  },
  {
   "cell_type": "code",
   "execution_count": 3,
   "metadata": {},
   "outputs": [],
   "source": [
    "class Library:\n",
    "    \n",
    "    def __init__(self):\n",
    "        self.books = []\n",
    "        self.members = []\n",
    "        \n",
    "    def add_book(self, book):\n",
    "        self.books.append(book)\n",
    "        print(f\"Book Added: {book.title}\")\n",
    "        \n",
    "    def register_member(self, member):\n",
    "        self.members.append(member)\n",
    "        print(f\"Member registered: {member.name}\")\n",
    "        \n",
    "    def issue_book(self, member_id, isbn):\n",
    "        member = self.find_member(member_id)\n",
    "        book = self.find_book(isbn)\n",
    "        \n",
    "        if member and book:\n",
    "            member.borrow_book(book)\n",
    "        else:\n",
    "            if not member:\n",
    "                print(f\"No member found with ID {member_id}\")\n",
    "            if not book:\n",
    "                print(f\"No book found with ISBN {isbn}\")\n",
    "\n",
    "    def return_book(self, member_id, isbn):\n",
    "        member = self.find_member(member_id)\n",
    "        book = self.find_book(isbn)\n",
    "        \n",
    "        if member and book:\n",
    "            member.return_book(book)\n",
    "        else:\n",
    "            if not member:\n",
    "                print(f\"No member found with ID {member_id}\")\n",
    "            if not book:\n",
    "                print(f\"No book found with ISBN {isbn}\")\n",
    "\n",
    "    def display_all_books(self):\n",
    "        print(\"Library Books:\")\n",
    "        for book in self.books:\n",
    "            book.displayinfo()\n",
    "\n",
    "    def display_all_members(self):\n",
    "        print(\"Library Members:\")\n",
    "        for member in self.members:\n",
    "            member.displayinfo()\n",
    "\n",
    "    def find_book(self, isbn):\n",
    "        for book in self.books:\n",
    "            if book.isbn == isbn:\n",
    "                return book\n",
    "        return None\n",
    "\n",
    "    def find_member(self, member_id):\n",
    "        for member in self.members:\n",
    "            if member.member_id == member_id:\n",
    "                return member\n",
    "        return None"
   ]
  },
  {
   "cell_type": "code",
   "execution_count": 5,
   "metadata": {},
   "outputs": [
    {
     "name": "stdout",
     "output_type": "stream",
     "text": [
      "Book Added: Theory of Computer Science\n",
      "Book Added: Elementary Linear Algebra\n",
      "Book Added: Artificial Intelligence\n",
      "Book Added: Computer Architecture and Organization\n",
      "Member registered: Usama\n",
      "Member registered: Muhammad\n",
      "Usama borrowed Theory of Computer Science\n",
      "Usama returned Theory of Computer Science\n",
      "Library Books:\n",
      "Title: Theory of Computer Science, Author: Daniel Cohen, ISBN: 1234567890, Status: available\n",
      "Title: Elementary Linear Algebra, Author: Anton Rorres, ISBN: 0987654321, Status: available\n",
      "Title: Artificial Intelligence, Author: Russel Norvig, ISBN: 1122334455, Status: available\n",
      "Title: Computer Architecture and Organization, Author: William Stallings, ISBN: 0099887700, Status: available\n",
      "Library Members:\n",
      "Name: Usama, Member ID: 001, Borrowed Books: []\n",
      "Name: Muhammad, Member ID: 002, Borrowed Books: []\n"
     ]
    }
   ],
   "source": [
    "# Create a library\n",
    "library = Library()\n",
    "\n",
    "\n",
    "# Add books to library\n",
    "book1 = Book(\"Theory of Computer Science\", \"Daniel Cohen\", \"1234567890\")\n",
    "book2 = Book(\"Elementary Linear Algebra\", \"Anton Rorres\", \"0987654321\")\n",
    "book3 = Book(\"Artificial Intelligence\", \"Russel Norvig\", \"1122334455\")\n",
    "book4 = Book(\"Computer Architecture and Organization\", \"William Stallings\", \"0099887700\")\n",
    "library.add_book(book1)\n",
    "library.add_book(book2)\n",
    "library.add_book(book3)\n",
    "library.add_book(book4)\n",
    "\n",
    "\n",
    "# Register members\n",
    "member1 = Member(\"Usama\", \"001\")\n",
    "member2 = Member(\"Muhammad\", \"002\")\n",
    "library.register_member(member1)\n",
    "library.register_member(member2)\n",
    "\n",
    "\n",
    "# Issue book to member\n",
    "library.issue_book(\"001\", \"1234567890\")  # Usama borrows \"Theory of Computer Science\"\n",
    "\n",
    "# Return book from member\n",
    "library.return_book(\"001\", \"1234567890\")  # Usama returns \"Theory of Computer Science\"\n",
    "\n",
    "# Display all books\n",
    "library.display_all_books()\n",
    "\n",
    "# Display all members\n",
    "library.display_all_members()"
   ]
  },
  {
   "cell_type": "code",
   "execution_count": null,
   "metadata": {},
   "outputs": [],
   "source": []
  }
 ],
 "metadata": {
  "kernelspec": {
   "display_name": "Python 3",
   "language": "python",
   "name": "python3"
  },
  "language_info": {
   "codemirror_mode": {
    "name": "ipython",
    "version": 3
   },
   "file_extension": ".py",
   "mimetype": "text/x-python",
   "name": "python",
   "nbconvert_exporter": "python",
   "pygments_lexer": "ipython3",
   "version": "3.8.5"
  }
 },
 "nbformat": 4,
 "nbformat_minor": 4
}
